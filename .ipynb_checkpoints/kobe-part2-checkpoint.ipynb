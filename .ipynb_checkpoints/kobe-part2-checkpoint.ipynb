{
 "cells": [
  {
   "cell_type": "markdown",
   "metadata": {
    "toc": "true"
   },
   "source": [
    "# Table of Contents\n",
    " <p><div class=\"lev1\"><a href=\"#Intro\">Intro</a></div><div class=\"lev1\"><a href=\"#New-stuff\">New stuff</a></div><div class=\"lev2\"><a href=\"#Action-types\">Action types</a></div><div class=\"lev2\"><a href=\"#Periods-and-overtime\">Periods and overtime</a></div><div class=\"lev2\"><a href=\"#Playoffs\">Playoffs</a></div><div class=\"lev1\"><a href=\"#Creating-dummies-for-categorical-features\">Creating dummies for categorical features</a></div><div class=\"lev1\"><a href=\"#Separating-the-data\">Separating the data</a></div><div class=\"lev1\"><a href=\"#Feature-selection\">Feature selection</a></div><div class=\"lev2\"><a href=\"#Variance-Threshold\">Variance Threshold</a></div><div class=\"lev2\"><a href=\"#Random-Forest-Classifier\">Random Forest Classifier</a></div><div class=\"lev2\"><a href=\"#Recursive-feature-elimination-(RFE)\">Recursive feature elimination (RFE)</a></div><div class=\"lev2\"><a href=\"#Putting-it-all-together\">Putting it all together</a></div><div class=\"lev1\"><a href=\"#Testing-different-algorithms\">Testing different algorithms</a></div><div class=\"lev2\"><a href=\"#Logistic-regression\">Logistic regression</a></div><div class=\"lev2\"><a href=\"#K-nearest-neighbors\">K-nearest neighbors</a></div><div class=\"lev2\"><a href=\"#Random-forest\">Random forest</a></div><div class=\"lev2\"><a href=\"#Ada-boost\">Ada boost</a></div><div class=\"lev2\"><a href=\"#Gradient-Boosting\">Gradient Boosting</a></div><div class=\"lev2\"><a href=\"#Linear-Discriminant-Analysis-(LDA)\">Linear Discriminant Analysis (LDA)</a></div><div class=\"lev1\"><a href=\"#Grid-search\">Grid search</a></div><div class=\"lev2\"><a href=\"#Logistic-regression\">Logistic regression</a></div><div class=\"lev2\"><a href=\"#K-nearest-neighbors\">K-nearest neighbors</a></div><div class=\"lev2\"><a href=\"#Random-forest\">Random forest</a></div><div class=\"lev2\"><a href=\"#Ada-boost\">Ada boost</a></div><div class=\"lev2\"><a href=\"#Gradient-Boosting\">Gradient Boosting</a></div><div class=\"lev2\"><a href=\"#LDA\">LDA</a></div><div class=\"lev2\"><a href=\"#Grid-search-summary\">Grid search summary</a></div><div class=\"lev1\"><a href=\"#Voting-classifier\">Voting classifier</a></div>"
   ]
  },
  {
   "cell_type": "markdown",
   "metadata": {},
   "source": [
    "# Intro\n",
    "\n",
    "This notebook continues from [my last one](./kobe-part1.ipynb) stopped, so I'll just quickly repeat all modifications I've already done, and then continue with the new stuff."
   ]
  },
  {
   "cell_type": "code",
   "execution_count": 2,
   "metadata": {
    "collapsed": false
   },
   "outputs": [
    {
     "data": {
      "text/html": [
       "<div>\n",
       "<table border=\"1\" class=\"dataframe\">\n",
       "  <thead>\n",
       "    <tr style=\"text-align: right;\">\n",
       "      <th></th>\n",
       "      <th>action_type</th>\n",
       "      <th>combined_shot_type</th>\n",
       "      <th>loc_x</th>\n",
       "      <th>loc_y</th>\n",
       "      <th>period</th>\n",
       "      <th>playoffs</th>\n",
       "      <th>season</th>\n",
       "      <th>shot_made_flag</th>\n",
       "      <th>shot_zone_area</th>\n",
       "      <th>shot_zone_basic</th>\n",
       "      <th>opponent</th>\n",
       "      <th>time_remaining</th>\n",
       "      <th>shot_distance_</th>\n",
       "      <th>3pt_goal</th>\n",
       "      <th>game_year</th>\n",
       "      <th>game_month</th>\n",
       "      <th>game_day</th>\n",
       "      <th>home_game</th>\n",
       "    </tr>\n",
       "    <tr>\n",
       "      <th>shot_id</th>\n",
       "      <th></th>\n",
       "      <th></th>\n",
       "      <th></th>\n",
       "      <th></th>\n",
       "      <th></th>\n",
       "      <th></th>\n",
       "      <th></th>\n",
       "      <th></th>\n",
       "      <th></th>\n",
       "      <th></th>\n",
       "      <th></th>\n",
       "      <th></th>\n",
       "      <th></th>\n",
       "      <th></th>\n",
       "      <th></th>\n",
       "      <th></th>\n",
       "      <th></th>\n",
       "      <th></th>\n",
       "    </tr>\n",
       "  </thead>\n",
       "  <tbody>\n",
       "    <tr>\n",
       "      <th>11598</th>\n",
       "      <td>Fadeaway Jump Shot</td>\n",
       "      <td>Jump Shot</td>\n",
       "      <td>87</td>\n",
       "      <td>74</td>\n",
       "      <td>2</td>\n",
       "      <td>0</td>\n",
       "      <td>2007</td>\n",
       "      <td>NaN</td>\n",
       "      <td>Right Side(R)</td>\n",
       "      <td>Mid-Range</td>\n",
       "      <td>HOU</td>\n",
       "      <td>199</td>\n",
       "      <td>11.421471</td>\n",
       "      <td>0</td>\n",
       "      <td>2007</td>\n",
       "      <td>11</td>\n",
       "      <td>2</td>\n",
       "      <td>0</td>\n",
       "    </tr>\n",
       "    <tr>\n",
       "      <th>25968</th>\n",
       "      <td>Driving Dunk Shot</td>\n",
       "      <td>Dunk</td>\n",
       "      <td>0</td>\n",
       "      <td>0</td>\n",
       "      <td>3</td>\n",
       "      <td>0</td>\n",
       "      <td>1999</td>\n",
       "      <td>1.0</td>\n",
       "      <td>Center(C)</td>\n",
       "      <td>Restricted Area</td>\n",
       "      <td>GSW</td>\n",
       "      <td>179</td>\n",
       "      <td>0.000000</td>\n",
       "      <td>0</td>\n",
       "      <td>2000</td>\n",
       "      <td>3</td>\n",
       "      <td>2</td>\n",
       "      <td>1</td>\n",
       "    </tr>\n",
       "    <tr>\n",
       "      <th>9899</th>\n",
       "      <td>Jump Shot</td>\n",
       "      <td>Jump Shot</td>\n",
       "      <td>-20</td>\n",
       "      <td>258</td>\n",
       "      <td>4</td>\n",
       "      <td>0</td>\n",
       "      <td>2006</td>\n",
       "      <td>0.0</td>\n",
       "      <td>Center(C)</td>\n",
       "      <td>Above the Break 3</td>\n",
       "      <td>MIL</td>\n",
       "      <td>513</td>\n",
       "      <td>25.877403</td>\n",
       "      <td>1</td>\n",
       "      <td>2006</td>\n",
       "      <td>11</td>\n",
       "      <td>1</td>\n",
       "      <td>1</td>\n",
       "    </tr>\n",
       "    <tr>\n",
       "      <th>1430</th>\n",
       "      <td>Jump Shot</td>\n",
       "      <td>Jump Shot</td>\n",
       "      <td>98</td>\n",
       "      <td>99</td>\n",
       "      <td>3</td>\n",
       "      <td>0</td>\n",
       "      <td>2000</td>\n",
       "      <td>1.0</td>\n",
       "      <td>Right Side(R)</td>\n",
       "      <td>Mid-Range</td>\n",
       "      <td>MIL</td>\n",
       "      <td>475</td>\n",
       "      <td>13.930183</td>\n",
       "      <td>0</td>\n",
       "      <td>2001</td>\n",
       "      <td>3</td>\n",
       "      <td>2</td>\n",
       "      <td>0</td>\n",
       "    </tr>\n",
       "    <tr>\n",
       "      <th>22892</th>\n",
       "      <td>Jump Shot</td>\n",
       "      <td>Jump Shot</td>\n",
       "      <td>-1</td>\n",
       "      <td>51</td>\n",
       "      <td>4</td>\n",
       "      <td>0</td>\n",
       "      <td>2015</td>\n",
       "      <td>NaN</td>\n",
       "      <td>Center(C)</td>\n",
       "      <td>In The Paint (Non-RA)</td>\n",
       "      <td>UTA</td>\n",
       "      <td>404</td>\n",
       "      <td>5.100980</td>\n",
       "      <td>0</td>\n",
       "      <td>2016</td>\n",
       "      <td>4</td>\n",
       "      <td>2</td>\n",
       "      <td>1</td>\n",
       "    </tr>\n",
       "    <tr>\n",
       "      <th>3686</th>\n",
       "      <td>Jump Shot</td>\n",
       "      <td>Jump Shot</td>\n",
       "      <td>128</td>\n",
       "      <td>0</td>\n",
       "      <td>3</td>\n",
       "      <td>0</td>\n",
       "      <td>2002</td>\n",
       "      <td>NaN</td>\n",
       "      <td>Right Side(R)</td>\n",
       "      <td>Mid-Range</td>\n",
       "      <td>NJN</td>\n",
       "      <td>447</td>\n",
       "      <td>12.800000</td>\n",
       "      <td>0</td>\n",
       "      <td>2002</td>\n",
       "      <td>12</td>\n",
       "      <td>3</td>\n",
       "      <td>0</td>\n",
       "    </tr>\n",
       "    <tr>\n",
       "      <th>9547</th>\n",
       "      <td>Jump Shot</td>\n",
       "      <td>Jump Shot</td>\n",
       "      <td>159</td>\n",
       "      <td>115</td>\n",
       "      <td>1</td>\n",
       "      <td>0</td>\n",
       "      <td>2005</td>\n",
       "      <td>0.0</td>\n",
       "      <td>Right Side(R)</td>\n",
       "      <td>Mid-Range</td>\n",
       "      <td>PHX</td>\n",
       "      <td>288</td>\n",
       "      <td>19.622946</td>\n",
       "      <td>0</td>\n",
       "      <td>2006</td>\n",
       "      <td>4</td>\n",
       "      <td>4</td>\n",
       "      <td>0</td>\n",
       "    </tr>\n",
       "    <tr>\n",
       "      <th>4410</th>\n",
       "      <td>Driving Layup Shot</td>\n",
       "      <td>Layup</td>\n",
       "      <td>0</td>\n",
       "      <td>0</td>\n",
       "      <td>2</td>\n",
       "      <td>0</td>\n",
       "      <td>2002</td>\n",
       "      <td>NaN</td>\n",
       "      <td>Center(C)</td>\n",
       "      <td>Restricted Area</td>\n",
       "      <td>SEA</td>\n",
       "      <td>475</td>\n",
       "      <td>0.000000</td>\n",
       "      <td>0</td>\n",
       "      <td>2003</td>\n",
       "      <td>2</td>\n",
       "      <td>6</td>\n",
       "      <td>1</td>\n",
       "    </tr>\n",
       "    <tr>\n",
       "      <th>26549</th>\n",
       "      <td>Jump Shot</td>\n",
       "      <td>Jump Shot</td>\n",
       "      <td>-141</td>\n",
       "      <td>42</td>\n",
       "      <td>3</td>\n",
       "      <td>1</td>\n",
       "      <td>2000</td>\n",
       "      <td>0.0</td>\n",
       "      <td>Left Side(L)</td>\n",
       "      <td>Mid-Range</td>\n",
       "      <td>PHI</td>\n",
       "      <td>703</td>\n",
       "      <td>14.712240</td>\n",
       "      <td>0</td>\n",
       "      <td>2001</td>\n",
       "      <td>6</td>\n",
       "      <td>4</td>\n",
       "      <td>0</td>\n",
       "    </tr>\n",
       "    <tr>\n",
       "      <th>3118</th>\n",
       "      <td>Jump Shot</td>\n",
       "      <td>Jump Shot</td>\n",
       "      <td>39</td>\n",
       "      <td>179</td>\n",
       "      <td>2</td>\n",
       "      <td>0</td>\n",
       "      <td>2002</td>\n",
       "      <td>NaN</td>\n",
       "      <td>Center(C)</td>\n",
       "      <td>Mid-Range</td>\n",
       "      <td>SAS</td>\n",
       "      <td>701</td>\n",
       "      <td>18.319934</td>\n",
       "      <td>0</td>\n",
       "      <td>2002</td>\n",
       "      <td>10</td>\n",
       "      <td>1</td>\n",
       "      <td>1</td>\n",
       "    </tr>\n",
       "  </tbody>\n",
       "</table>\n",
       "</div>"
      ],
      "text/plain": [
       "                action_type combined_shot_type  loc_x  loc_y  period  \\\n",
       "shot_id                                                                \n",
       "11598    Fadeaway Jump Shot          Jump Shot     87     74       2   \n",
       "25968     Driving Dunk Shot               Dunk      0      0       3   \n",
       "9899              Jump Shot          Jump Shot    -20    258       4   \n",
       "1430              Jump Shot          Jump Shot     98     99       3   \n",
       "22892             Jump Shot          Jump Shot     -1     51       4   \n",
       "3686              Jump Shot          Jump Shot    128      0       3   \n",
       "9547              Jump Shot          Jump Shot    159    115       1   \n",
       "4410     Driving Layup Shot              Layup      0      0       2   \n",
       "26549             Jump Shot          Jump Shot   -141     42       3   \n",
       "3118              Jump Shot          Jump Shot     39    179       2   \n",
       "\n",
       "         playoffs  season  shot_made_flag shot_zone_area  \\\n",
       "shot_id                                                    \n",
       "11598           0    2007             NaN  Right Side(R)   \n",
       "25968           0    1999             1.0      Center(C)   \n",
       "9899            0    2006             0.0      Center(C)   \n",
       "1430            0    2000             1.0  Right Side(R)   \n",
       "22892           0    2015             NaN      Center(C)   \n",
       "3686            0    2002             NaN  Right Side(R)   \n",
       "9547            0    2005             0.0  Right Side(R)   \n",
       "4410            0    2002             NaN      Center(C)   \n",
       "26549           1    2000             0.0   Left Side(L)   \n",
       "3118            0    2002             NaN      Center(C)   \n",
       "\n",
       "               shot_zone_basic opponent  time_remaining  shot_distance_  \\\n",
       "shot_id                                                                   \n",
       "11598                Mid-Range      HOU             199       11.421471   \n",
       "25968          Restricted Area      GSW             179        0.000000   \n",
       "9899         Above the Break 3      MIL             513       25.877403   \n",
       "1430                 Mid-Range      MIL             475       13.930183   \n",
       "22892    In The Paint (Non-RA)      UTA             404        5.100980   \n",
       "3686                 Mid-Range      NJN             447       12.800000   \n",
       "9547                 Mid-Range      PHX             288       19.622946   \n",
       "4410           Restricted Area      SEA             475        0.000000   \n",
       "26549                Mid-Range      PHI             703       14.712240   \n",
       "3118                 Mid-Range      SAS             701       18.319934   \n",
       "\n",
       "         3pt_goal  game_year  game_month  game_day  home_game  \n",
       "shot_id                                                        \n",
       "11598           0       2007          11         2          0  \n",
       "25968           0       2000           3         2          1  \n",
       "9899            1       2006          11         1          1  \n",
       "1430            0       2001           3         2          0  \n",
       "22892           0       2016           4         2          1  \n",
       "3686            0       2002          12         3          0  \n",
       "9547            0       2006           4         4          0  \n",
       "4410            0       2003           2         6          1  \n",
       "26549           0       2001           6         4          0  \n",
       "3118            0       2002          10         1          1  "
      ]
     },
     "execution_count": 2,
     "metadata": {},
     "output_type": "execute_result"
    }
   ],
   "source": [
    "import numpy as np \n",
    "import pandas as pd \n",
    "import seaborn as sns\n",
    "import matplotlib.pyplot as plt\n",
    "%matplotlib inline\n",
    "sns.set_style('whitegrid')\n",
    "\n",
    "df = pd.read_csv('../#data-sets/kobe_data.csv')\n",
    "\n",
    "not_needed = []\n",
    "\n",
    "not_needed.extend(['game_event_id', 'game_id'])\n",
    "\n",
    "not_needed.extend(['lon', 'lat'])\n",
    "\n",
    "df['time_remaining'] = 60 * df.loc[:, 'minutes_remaining'] + df.loc[:, 'seconds_remaining']\n",
    "not_needed.extend(['minutes_remaining', 'seconds_remaining'])\n",
    "\n",
    "df['season'] = df['season'].apply(lambda x: x[:4])\n",
    "df['season'] = pd.to_numeric(df['season'])\n",
    "\n",
    "dist = pd.DataFrame({'true_dist': np.sqrt((df['loc_x']/10)**2 + (df['loc_y']/10)**2), \n",
    "                     'shot_dist': df['shot_distance']})\n",
    "df['shot_distance_'] = dist['true_dist']\n",
    "not_needed.append('shot_distance')\n",
    "\n",
    "df['3pt_goal'] = df['shot_type'].str.contains('3PT').astype('int')\n",
    "not_needed.append('shot_type')\n",
    "\n",
    "not_needed.append('shot_zone_range')\n",
    "\n",
    "not_needed.extend(['team_id', 'team_name'])\n",
    "\n",
    "df['game_date'] = pd.to_datetime(df['game_date'])\n",
    "df['game_year'] = df['game_date'].dt.year\n",
    "df['game_month'] = df['game_date'].dt.month\n",
    "df['game_day'] = df['game_date'].dt.dayofweek\n",
    "not_needed.append('game_date')\n",
    "\n",
    "df['home_game'] = df['matchup'].str.contains('vs.').astype(int)\n",
    "not_needed.append('matchup')\n",
    "\n",
    "df.set_index('shot_id', inplace=True)\n",
    "\n",
    "df = df.drop(not_needed, axis=1)\n",
    "\n",
    "random_sample = df.take(np.random.permutation(len(df))[:10])\n",
    "random_sample.head(10)"
   ]
  },
  {
   "cell_type": "markdown",
   "metadata": {},
   "source": [
    "# New stuff\n",
    "\n",
    "After we've explored the data [last time](https://www.kaggle.com/narimiran/kobe-bryant-shot-selection/beginners-first-time), it's time to analyze some more."
   ]
  },
  {
   "cell_type": "markdown",
   "metadata": {},
   "source": [
    "## Action types"
   ]
  },
  {
   "cell_type": "code",
   "execution_count": 3,
   "metadata": {
    "collapsed": false,
    "scrolled": true
   },
   "outputs": [
    {
     "data": {
      "text/plain": [
       "Jump Shot                             18880\n",
       "Layup Shot                             2567\n",
       "Driving Layup Shot                     1978\n",
       "Turnaround Jump Shot                   1057\n",
       "Fadeaway Jump Shot                     1048\n",
       "Running Jump Shot                       926\n",
       "Pullup Jump shot                        476\n",
       "Turnaround Fadeaway shot                439\n",
       "Slam Dunk Shot                          411\n",
       "Reverse Layup Shot                      395\n",
       "Jump Bank Shot                          333\n",
       "Driving Dunk Shot                       310\n",
       "Dunk Shot                               262\n",
       "Tip Shot                                182\n",
       "Alley Oop Dunk Shot                     122\n",
       "Step Back Jump shot                     118\n",
       "Floating Jump shot                      114\n",
       "Driving Reverse Layup Shot               97\n",
       "Hook Shot                                84\n",
       "Driving Finger Roll Shot                 82\n",
       "Alley Oop Layup shot                     80\n",
       "Reverse Dunk Shot                        75\n",
       "Running Layup Shot                       72\n",
       "Turnaround Bank shot                     71\n",
       "Driving Finger Roll Layup Shot           69\n",
       "Driving Slam Dunk Shot                   48\n",
       "Running Bank shot                        48\n",
       "Running Hook Shot                        41\n",
       "Finger Roll Layup Shot                   33\n",
       "Fadeaway Bank shot                       31\n",
       "Driving Jump shot                        28\n",
       "Finger Roll Shot                         28\n",
       "Jump Hook Shot                           24\n",
       "Running Dunk Shot                        19\n",
       "Reverse Slam Dunk Shot                   16\n",
       "Follow Up Dunk Shot                      15\n",
       "Putback Layup Shot                       15\n",
       "Driving Hook Shot                        14\n",
       "Turnaround Hook Shot                     14\n",
       "Pullup Bank shot                         12\n",
       "Running Reverse Layup Shot               11\n",
       "Running Finger Roll Layup Shot            6\n",
       "Cutting Layup Shot                        6\n",
       "Driving Floating Jump Shot                5\n",
       "Hook Bank Shot                            5\n",
       "Putback Dunk Shot                         5\n",
       "Driving Bank shot                         5\n",
       "Running Finger Roll Shot                  4\n",
       "Running Pull-Up Jump Shot                 4\n",
       "Running Tip Shot                          2\n",
       "Turnaround Finger Roll Shot               2\n",
       "Tip Layup Shot                            2\n",
       "Putback Slam Dunk Shot                    2\n",
       "Driving Floating Bank Jump Shot           1\n",
       "Turnaround Fadeaway Bank Jump Shot        1\n",
       "Cutting Finger Roll Layup Shot            1\n",
       "Running Slam Dunk Shot                    1\n",
       "Name: action_type, dtype: int64"
      ]
     },
     "execution_count": 3,
     "metadata": {},
     "output_type": "execute_result"
    }
   ],
   "source": [
    "df['action_type'].value_counts()"
   ]
  },
  {
   "cell_type": "markdown",
   "metadata": {},
   "source": [
    "There are too many (57) different action types, and many of them have only few shots, so we'll keep first 25 action types (with most of shot attempts), and all other action types will be under `other` category."
   ]
  },
  {
   "cell_type": "code",
   "execution_count": 4,
   "metadata": {
    "collapsed": false
   },
   "outputs": [
    {
     "data": {
      "text/plain": [
       "Jump Shot                         18880\n",
       "Layup Shot                         2567\n",
       "Driving Layup Shot                 1978\n",
       "Turnaround Jump Shot               1057\n",
       "Fadeaway Jump Shot                 1048\n",
       "Running Jump Shot                   926\n",
       "Pullup Jump shot                    476\n",
       "other                               449\n",
       "Turnaround Fadeaway shot            439\n",
       "Slam Dunk Shot                      411\n",
       "Reverse Layup Shot                  395\n",
       "Jump Bank Shot                      333\n",
       "Driving Dunk Shot                   310\n",
       "Dunk Shot                           262\n",
       "Tip Shot                            182\n",
       "Alley Oop Dunk Shot                 122\n",
       "Step Back Jump shot                 118\n",
       "Floating Jump shot                  114\n",
       "Driving Reverse Layup Shot           97\n",
       "Hook Shot                            84\n",
       "Driving Finger Roll Shot             82\n",
       "Alley Oop Layup shot                 80\n",
       "Reverse Dunk Shot                    75\n",
       "Running Layup Shot                   72\n",
       "Turnaround Bank shot                 71\n",
       "Driving Finger Roll Layup Shot       69\n",
       "Name: action_type, dtype: int64"
      ]
     },
     "execution_count": 4,
     "metadata": {},
     "output_type": "execute_result"
    }
   ],
   "source": [
    "rare_action_types = df['action_type'].value_counts()[25:]\n",
    "rare_actions = rare_action_types.index.values\n",
    "\n",
    "df.loc[df['action_type'].isin(rare_actions), 'action_type'] = 'other'\n",
    "df['action_type'].value_counts()"
   ]
  },
  {
   "cell_type": "markdown",
   "metadata": {},
   "source": [
    "## Periods and overtime"
   ]
  },
  {
   "cell_type": "code",
   "execution_count": 5,
   "metadata": {
    "collapsed": false
   },
   "outputs": [
    {
     "data": {
      "text/plain": [
       "3    8296\n",
       "1    8048\n",
       "4    7260\n",
       "2    6718\n",
       "5     330\n",
       "6      38\n",
       "7       7\n",
       "Name: period, dtype: int64"
      ]
     },
     "execution_count": 5,
     "metadata": {},
     "output_type": "execute_result"
    }
   ],
   "source": [
    "df['period'].value_counts()"
   ]
  },
  {
   "cell_type": "markdown",
   "metadata": {},
   "source": [
    "Under 400 shot attempts (with similar accuracy) were made in overtime periods (periods 5, 6, 7), so we'll combine them in one category: `overtime`."
   ]
  },
  {
   "cell_type": "code",
   "execution_count": 6,
   "metadata": {
    "collapsed": false
   },
   "outputs": [
    {
     "data": {
      "text/plain": [
       "3           8296\n",
       "1           8048\n",
       "4           7260\n",
       "2           6718\n",
       "overtime     375\n",
       "Name: period, dtype: int64"
      ]
     },
     "execution_count": 6,
     "metadata": {},
     "output_type": "execute_result"
    }
   ],
   "source": [
    "overtime = np.array([5, 6, 7])\n",
    "df.loc[df['period'].isin(overtime), 'period'] = 'overtime'\n",
    "df['period'].value_counts()"
   ]
  },
  {
   "cell_type": "markdown",
   "metadata": {},
   "source": [
    "## Playoffs\n",
    "\n",
    "As we've seen earlier there's no difference in accuracy between regular season and playoffs, so column `playoffs` won't be needed."
   ]
  },
  {
   "cell_type": "code",
   "execution_count": 7,
   "metadata": {
    "collapsed": true
   },
   "outputs": [],
   "source": [
    "df = df.drop('playoffs', axis=1)"
   ]
  },
  {
   "cell_type": "markdown",
   "metadata": {},
   "source": [
    "# Creating dummies for categorical features\n",
    "\n",
    "We can't use categorical features so we'll convert them to dummies."
   ]
  },
  {
   "cell_type": "code",
   "execution_count": 8,
   "metadata": {
    "collapsed": false
   },
   "outputs": [
    {
     "data": {
      "text/plain": [
       "action_type            object\n",
       "combined_shot_type     object\n",
       "loc_x                   int64\n",
       "loc_y                   int64\n",
       "period                 object\n",
       "season                  int64\n",
       "shot_made_flag        float64\n",
       "shot_zone_area         object\n",
       "shot_zone_basic        object\n",
       "opponent               object\n",
       "time_remaining          int64\n",
       "shot_distance_        float64\n",
       "3pt_goal                int32\n",
       "game_year               int64\n",
       "game_month              int64\n",
       "game_day                int64\n",
       "home_game               int32\n",
       "dtype: object"
      ]
     },
     "execution_count": 8,
     "metadata": {},
     "output_type": "execute_result"
    }
   ],
   "source": [
    "df.dtypes"
   ]
  },
  {
   "cell_type": "code",
   "execution_count": 9,
   "metadata": {
    "collapsed": false
   },
   "outputs": [
    {
     "data": {
      "text/html": [
       "<div>\n",
       "<table border=\"1\" class=\"dataframe\">\n",
       "  <thead>\n",
       "    <tr style=\"text-align: right;\">\n",
       "      <th></th>\n",
       "      <th>loc_x</th>\n",
       "      <th>loc_y</th>\n",
       "      <th>shot_made_flag</th>\n",
       "      <th>time_remaining</th>\n",
       "      <th>shot_distance_</th>\n",
       "      <th>3pt_goal</th>\n",
       "      <th>home_game</th>\n",
       "      <th>action_type_Alley Oop Dunk Shot</th>\n",
       "      <th>action_type_Alley Oop Layup shot</th>\n",
       "      <th>action_type_Driving Dunk Shot</th>\n",
       "      <th>...</th>\n",
       "      <th>game_month_10</th>\n",
       "      <th>game_month_11</th>\n",
       "      <th>game_month_12</th>\n",
       "      <th>game_day_0</th>\n",
       "      <th>game_day_1</th>\n",
       "      <th>game_day_2</th>\n",
       "      <th>game_day_3</th>\n",
       "      <th>game_day_4</th>\n",
       "      <th>game_day_5</th>\n",
       "      <th>game_day_6</th>\n",
       "    </tr>\n",
       "    <tr>\n",
       "      <th>shot_id</th>\n",
       "      <th></th>\n",
       "      <th></th>\n",
       "      <th></th>\n",
       "      <th></th>\n",
       "      <th></th>\n",
       "      <th></th>\n",
       "      <th></th>\n",
       "      <th></th>\n",
       "      <th></th>\n",
       "      <th></th>\n",
       "      <th></th>\n",
       "      <th></th>\n",
       "      <th></th>\n",
       "      <th></th>\n",
       "      <th></th>\n",
       "      <th></th>\n",
       "      <th></th>\n",
       "      <th></th>\n",
       "      <th></th>\n",
       "      <th></th>\n",
       "      <th></th>\n",
       "    </tr>\n",
       "  </thead>\n",
       "  <tbody>\n",
       "    <tr>\n",
       "      <th>1</th>\n",
       "      <td>167</td>\n",
       "      <td>72</td>\n",
       "      <td>NaN</td>\n",
       "      <td>627</td>\n",
       "      <td>18.185984</td>\n",
       "      <td>0</td>\n",
       "      <td>0</td>\n",
       "      <td>0.0</td>\n",
       "      <td>0.0</td>\n",
       "      <td>0.0</td>\n",
       "      <td>...</td>\n",
       "      <td>1.0</td>\n",
       "      <td>0.0</td>\n",
       "      <td>0.0</td>\n",
       "      <td>0.0</td>\n",
       "      <td>1.0</td>\n",
       "      <td>0.0</td>\n",
       "      <td>0.0</td>\n",
       "      <td>0.0</td>\n",
       "      <td>0.0</td>\n",
       "      <td>0.0</td>\n",
       "    </tr>\n",
       "    <tr>\n",
       "      <th>2</th>\n",
       "      <td>-157</td>\n",
       "      <td>0</td>\n",
       "      <td>0.0</td>\n",
       "      <td>622</td>\n",
       "      <td>15.700000</td>\n",
       "      <td>0</td>\n",
       "      <td>0</td>\n",
       "      <td>0.0</td>\n",
       "      <td>0.0</td>\n",
       "      <td>0.0</td>\n",
       "      <td>...</td>\n",
       "      <td>1.0</td>\n",
       "      <td>0.0</td>\n",
       "      <td>0.0</td>\n",
       "      <td>0.0</td>\n",
       "      <td>1.0</td>\n",
       "      <td>0.0</td>\n",
       "      <td>0.0</td>\n",
       "      <td>0.0</td>\n",
       "      <td>0.0</td>\n",
       "      <td>0.0</td>\n",
       "    </tr>\n",
       "    <tr>\n",
       "      <th>3</th>\n",
       "      <td>-101</td>\n",
       "      <td>135</td>\n",
       "      <td>1.0</td>\n",
       "      <td>465</td>\n",
       "      <td>16.860012</td>\n",
       "      <td>0</td>\n",
       "      <td>0</td>\n",
       "      <td>0.0</td>\n",
       "      <td>0.0</td>\n",
       "      <td>0.0</td>\n",
       "      <td>...</td>\n",
       "      <td>1.0</td>\n",
       "      <td>0.0</td>\n",
       "      <td>0.0</td>\n",
       "      <td>0.0</td>\n",
       "      <td>1.0</td>\n",
       "      <td>0.0</td>\n",
       "      <td>0.0</td>\n",
       "      <td>0.0</td>\n",
       "      <td>0.0</td>\n",
       "      <td>0.0</td>\n",
       "    </tr>\n",
       "    <tr>\n",
       "      <th>4</th>\n",
       "      <td>138</td>\n",
       "      <td>175</td>\n",
       "      <td>0.0</td>\n",
       "      <td>412</td>\n",
       "      <td>22.286543</td>\n",
       "      <td>0</td>\n",
       "      <td>0</td>\n",
       "      <td>0.0</td>\n",
       "      <td>0.0</td>\n",
       "      <td>0.0</td>\n",
       "      <td>...</td>\n",
       "      <td>1.0</td>\n",
       "      <td>0.0</td>\n",
       "      <td>0.0</td>\n",
       "      <td>0.0</td>\n",
       "      <td>1.0</td>\n",
       "      <td>0.0</td>\n",
       "      <td>0.0</td>\n",
       "      <td>0.0</td>\n",
       "      <td>0.0</td>\n",
       "      <td>0.0</td>\n",
       "    </tr>\n",
       "    <tr>\n",
       "      <th>5</th>\n",
       "      <td>0</td>\n",
       "      <td>0</td>\n",
       "      <td>1.0</td>\n",
       "      <td>379</td>\n",
       "      <td>0.000000</td>\n",
       "      <td>0</td>\n",
       "      <td>0</td>\n",
       "      <td>0.0</td>\n",
       "      <td>0.0</td>\n",
       "      <td>1.0</td>\n",
       "      <td>...</td>\n",
       "      <td>1.0</td>\n",
       "      <td>0.0</td>\n",
       "      <td>0.0</td>\n",
       "      <td>0.0</td>\n",
       "      <td>1.0</td>\n",
       "      <td>0.0</td>\n",
       "      <td>0.0</td>\n",
       "      <td>0.0</td>\n",
       "      <td>0.0</td>\n",
       "      <td>0.0</td>\n",
       "    </tr>\n",
       "  </tbody>\n",
       "</table>\n",
       "<p>5 rows × 147 columns</p>\n",
       "</div>"
      ],
      "text/plain": [
       "         loc_x  loc_y  shot_made_flag  time_remaining  shot_distance_  \\\n",
       "shot_id                                                                 \n",
       "1          167     72             NaN             627       18.185984   \n",
       "2         -157      0             0.0             622       15.700000   \n",
       "3         -101    135             1.0             465       16.860012   \n",
       "4          138    175             0.0             412       22.286543   \n",
       "5            0      0             1.0             379        0.000000   \n",
       "\n",
       "         3pt_goal  home_game  action_type_Alley Oop Dunk Shot  \\\n",
       "shot_id                                                         \n",
       "1               0          0                              0.0   \n",
       "2               0          0                              0.0   \n",
       "3               0          0                              0.0   \n",
       "4               0          0                              0.0   \n",
       "5               0          0                              0.0   \n",
       "\n",
       "         action_type_Alley Oop Layup shot  action_type_Driving Dunk Shot  \\\n",
       "shot_id                                                                    \n",
       "1                                     0.0                            0.0   \n",
       "2                                     0.0                            0.0   \n",
       "3                                     0.0                            0.0   \n",
       "4                                     0.0                            0.0   \n",
       "5                                     0.0                            1.0   \n",
       "\n",
       "            ...      game_month_10  game_month_11  game_month_12  game_day_0  \\\n",
       "shot_id     ...                                                                \n",
       "1           ...                1.0            0.0            0.0         0.0   \n",
       "2           ...                1.0            0.0            0.0         0.0   \n",
       "3           ...                1.0            0.0            0.0         0.0   \n",
       "4           ...                1.0            0.0            0.0         0.0   \n",
       "5           ...                1.0            0.0            0.0         0.0   \n",
       "\n",
       "         game_day_1  game_day_2  game_day_3  game_day_4  game_day_5  \\\n",
       "shot_id                                                               \n",
       "1               1.0         0.0         0.0         0.0         0.0   \n",
       "2               1.0         0.0         0.0         0.0         0.0   \n",
       "3               1.0         0.0         0.0         0.0         0.0   \n",
       "4               1.0         0.0         0.0         0.0         0.0   \n",
       "5               1.0         0.0         0.0         0.0         0.0   \n",
       "\n",
       "         game_day_6  \n",
       "shot_id              \n",
       "1               0.0  \n",
       "2               0.0  \n",
       "3               0.0  \n",
       "4               0.0  \n",
       "5               0.0  \n",
       "\n",
       "[5 rows x 147 columns]"
      ]
     },
     "execution_count": 9,
     "metadata": {},
     "output_type": "execute_result"
    }
   ],
   "source": [
    "categorical = ['action_type', 'combined_shot_type', 'shot_zone_area', 'shot_zone_basic', \n",
    "               'opponent', 'period', 'season', 'game_year', 'game_month', 'game_day']\n",
    "\n",
    "for column in categorical:\n",
    "    dummy = pd.get_dummies(df[column], prefix=column)\n",
    "    df = df.join(dummy)\n",
    "    df.drop(column, axis=1, inplace=True)\n",
    "\n",
    "df.head()"
   ]
  },
  {
   "cell_type": "markdown",
   "metadata": {},
   "source": [
    "# Separating the data\n",
    "\n",
    "Splitting the data in two parts - one for our learning and other for submission."
   ]
  },
  {
   "cell_type": "code",
   "execution_count": 10,
   "metadata": {
    "collapsed": true
   },
   "outputs": [],
   "source": [
    "unknown_shots = df['shot_made_flag'].isnull()\n",
    "\n",
    "submission_data = df[unknown_shots].drop('shot_made_flag', 1)\n",
    "data = df[~unknown_shots]\n",
    "\n",
    "X = data.drop('shot_made_flag', 1)\n",
    "y = data['shot_made_flag']"
   ]
  },
  {
   "cell_type": "markdown",
   "metadata": {},
   "source": [
    "# Feature selection\n",
    "\n",
    "We have 146 features, but would like to reduce that number to only most important features.\n",
    "\n",
    "---\n",
    "\n",
    "***Big THANK YOU goes to [Norbert Kozlowski](https://www.kaggle.com/khozzy) and [his script](https://www.kaggle.com/khozzy/kobe-bryant-shot-selection/kobe-shots-show-me-your-best-model/) which helped me a lot to make all of the code from now till the end of the notebook.***\n",
    "\n",
    "---"
   ]
  },
  {
   "cell_type": "code",
   "execution_count": 11,
   "metadata": {
    "collapsed": false
   },
   "outputs": [],
   "source": [
    "from sklearn.feature_selection import VarianceThreshold, RFE\n",
    "from sklearn.ensemble import RandomForestClassifier\n",
    "from sklearn.linear_model import LogisticRegression"
   ]
  },
  {
   "cell_type": "markdown",
   "metadata": {},
   "source": [
    "## Variance Threshold"
   ]
  },
  {
   "cell_type": "code",
   "execution_count": 12,
   "metadata": {
    "collapsed": false
   },
   "outputs": [
    {
     "data": {
      "text/plain": [
       "array(['loc_x', 'loc_y', 'time_remaining', 'shot_distance_', '3pt_goal',\n",
       "       'home_game', 'action_type_Jump Shot',\n",
       "       'combined_shot_type_Jump Shot', 'combined_shot_type_Layup',\n",
       "       'shot_zone_area_Center(C)', 'shot_zone_area_Left Side Center(LC)',\n",
       "       'shot_zone_area_Left Side(L)',\n",
       "       'shot_zone_area_Right Side Center(RC)',\n",
       "       'shot_zone_area_Right Side(R)', 'shot_zone_basic_Above the Break 3',\n",
       "       'shot_zone_basic_In The Paint (Non-RA)',\n",
       "       'shot_zone_basic_Mid-Range', 'shot_zone_basic_Restricted Area',\n",
       "       'period_1', 'period_2', 'period_3', 'period_4', 'game_month_1',\n",
       "       'game_month_2', 'game_month_3', 'game_month_4', 'game_month_11',\n",
       "       'game_month_12', 'game_day_1', 'game_day_2', 'game_day_4',\n",
       "       'game_day_6'], dtype=object)"
      ]
     },
     "execution_count": 12,
     "metadata": {},
     "output_type": "execute_result"
    }
   ],
   "source": [
    "threshold = 0.9\n",
    "vt = VarianceThreshold().fit(X)\n",
    "\n",
    "feat_var_threshold = X.columns[vt.variances_ > threshold * (1-threshold)].values\n",
    "feat_var_threshold"
   ]
  },
  {
   "cell_type": "markdown",
   "metadata": {},
   "source": [
    "## Random Forest Classifier"
   ]
  },
  {
   "cell_type": "code",
   "execution_count": 13,
   "metadata": {
    "collapsed": false,
    "scrolled": true
   },
   "outputs": [
    {
     "data": {
      "text/plain": [
       "array(['time_remaining', 'shot_distance_', 'loc_y', 'loc_x',\n",
       "       'action_type_Jump Shot', 'home_game', 'period_1', 'period_3',\n",
       "       'action_type_Layup Shot', 'period_2', 'combined_shot_type_Dunk',\n",
       "       'period_4', 'game_day_6', 'game_day_4', 'game_day_1', 'game_day_2',\n",
       "       'game_month_3', 'game_month_12', 'game_month_2', 'game_month_4',\n",
       "       'game_month_1', 'game_month_11', 'action_type_Driving Layup Shot',\n",
       "       'game_day_3', 'combined_shot_type_Jump Shot',\n",
       "       'shot_zone_area_Center(C)', 'action_type_Running Jump Shot',\n",
       "       'game_month_5', 'shot_zone_basic_Restricted Area', 'opponent_SAS',\n",
       "       'opponent_PHX', 'opponent_DEN', 'opponent_HOU', 'opponent_SAC',\n",
       "       'game_day_0'], dtype=object)"
      ]
     },
     "execution_count": 13,
     "metadata": {},
     "output_type": "execute_result"
    }
   ],
   "source": [
    "model = RandomForestClassifier()\n",
    "model.fit(X, y)\n",
    "\n",
    "feature_imp = pd.DataFrame(model.feature_importances_, index=X.columns, columns=[\"importance\"])\n",
    "feat_RFC = feature_imp.sort_values(\"importance\", ascending=False).head(35)\n",
    "\n",
    "feat_RFC = feat_RFC.index.values\n",
    "feat_RFC"
   ]
  },
  {
   "cell_type": "markdown",
   "metadata": {},
   "source": [
    "## Recursive feature elimination (RFE)"
   ]
  },
  {
   "cell_type": "code",
   "execution_count": 14,
   "metadata": {
    "collapsed": false
   },
   "outputs": [
    {
     "data": {
      "text/plain": [
       "array(['action_type_Alley Oop Dunk Shot',\n",
       "       'action_type_Alley Oop Layup shot', 'action_type_Driving Dunk Shot',\n",
       "       'action_type_Driving Finger Roll Layup Shot',\n",
       "       'action_type_Driving Finger Roll Shot',\n",
       "       'action_type_Driving Layup Shot',\n",
       "       'action_type_Driving Reverse Layup Shot', 'action_type_Dunk Shot',\n",
       "       'action_type_Fadeaway Jump Shot', 'action_type_Hook Shot',\n",
       "       'action_type_Jump Bank Shot', 'action_type_Jump Shot',\n",
       "       'action_type_Layup Shot', 'action_type_Pullup Jump shot',\n",
       "       'action_type_Running Layup Shot', 'action_type_Slam Dunk Shot',\n",
       "       'action_type_Tip Shot', 'action_type_Turnaround Fadeaway shot',\n",
       "       'action_type_Turnaround Jump Shot', 'combined_shot_type_Bank Shot',\n",
       "       'combined_shot_type_Dunk', 'combined_shot_type_Layup',\n",
       "       'combined_shot_type_Tip Shot', 'shot_zone_area_Back Court(BC)',\n",
       "       'shot_zone_area_Center(C)', 'shot_zone_area_Left Side Center(LC)',\n",
       "       'shot_zone_area_Left Side(L)',\n",
       "       'shot_zone_area_Right Side Center(RC)',\n",
       "       'shot_zone_area_Right Side(R)', 'shot_zone_basic_Backcourt',\n",
       "       'shot_zone_basic_Left Corner 3', 'opponent_BKN', 'opponent_OKC',\n",
       "       'season_2014', 'season_2015'], dtype=object)"
      ]
     },
     "execution_count": 14,
     "metadata": {},
     "output_type": "execute_result"
    }
   ],
   "source": [
    "rfe = RFE(LogisticRegression(), 35)\n",
    "rfe.fit(X, y)\n",
    "\n",
    "feature_rfe_scoring = pd.DataFrame({'feature': X.columns, 'score': rfe.ranking_})\n",
    "\n",
    "feat_rfe = feature_rfe_scoring[feature_rfe_scoring['score'] == 1]['feature'].values\n",
    "feat_rfe"
   ]
  },
  {
   "cell_type": "markdown",
   "metadata": {},
   "source": [
    "## Putting it all together"
   ]
  },
  {
   "cell_type": "code",
   "execution_count": 15,
   "metadata": {
    "collapsed": false
   },
   "outputs": [
    {
     "name": "stdout",
     "output_type": "stream",
     "text": [
      "Final features set:\n",
      "\n",
      "-3pt_goal\n",
      "-action_type_Alley Oop Dunk Shot\n",
      "-action_type_Alley Oop Layup shot\n",
      "-action_type_Driving Dunk Shot\n",
      "-action_type_Driving Finger Roll Layup Shot\n",
      "-action_type_Driving Finger Roll Shot\n",
      "-action_type_Driving Layup Shot\n",
      "-action_type_Driving Reverse Layup Shot\n",
      "-action_type_Dunk Shot\n",
      "-action_type_Fadeaway Jump Shot\n",
      "-action_type_Hook Shot\n",
      "-action_type_Jump Bank Shot\n",
      "-action_type_Jump Shot\n",
      "-action_type_Layup Shot\n",
      "-action_type_Pullup Jump shot\n",
      "-action_type_Running Jump Shot\n",
      "-action_type_Running Layup Shot\n",
      "-action_type_Slam Dunk Shot\n",
      "-action_type_Tip Shot\n",
      "-action_type_Turnaround Fadeaway shot\n",
      "-action_type_Turnaround Jump Shot\n",
      "-combined_shot_type_Bank Shot\n",
      "-combined_shot_type_Dunk\n",
      "-combined_shot_type_Jump Shot\n",
      "-combined_shot_type_Layup\n",
      "-combined_shot_type_Tip Shot\n",
      "-game_day_0\n",
      "-game_day_1\n",
      "-game_day_2\n",
      "-game_day_3\n",
      "-game_day_4\n",
      "-game_day_6\n",
      "-game_month_1\n",
      "-game_month_11\n",
      "-game_month_12\n",
      "-game_month_2\n",
      "-game_month_3\n",
      "-game_month_4\n",
      "-game_month_5\n",
      "-home_game\n",
      "-loc_x\n",
      "-loc_y\n",
      "-opponent_BKN\n",
      "-opponent_DEN\n",
      "-opponent_HOU\n",
      "-opponent_OKC\n",
      "-opponent_PHX\n",
      "-opponent_SAC\n",
      "-opponent_SAS\n",
      "-period_1\n",
      "-period_2\n",
      "-period_3\n",
      "-period_4\n",
      "-season_2014\n",
      "-season_2015\n",
      "-shot_distance_\n",
      "-shot_zone_area_Back Court(BC)\n",
      "-shot_zone_area_Center(C)\n",
      "-shot_zone_area_Left Side Center(LC)\n",
      "-shot_zone_area_Left Side(L)\n",
      "-shot_zone_area_Right Side Center(RC)\n",
      "-shot_zone_area_Right Side(R)\n",
      "-shot_zone_basic_Above the Break 3\n",
      "-shot_zone_basic_Backcourt\n",
      "-shot_zone_basic_In The Paint (Non-RA)\n",
      "-shot_zone_basic_Left Corner 3\n",
      "-shot_zone_basic_Mid-Range\n",
      "-shot_zone_basic_Restricted Area\n",
      "-time_remaining\n"
     ]
    },
    {
     "data": {
      "text/plain": [
       "69"
      ]
     },
     "execution_count": 15,
     "metadata": {},
     "output_type": "execute_result"
    }
   ],
   "source": [
    "features = np.hstack([feat_var_threshold, feat_RFC, feat_rfe])\n",
    "\n",
    "features = np.unique(features)\n",
    "print('Final features set:\\n')\n",
    "for f in features:\n",
    "    print(\"-{}\".format(f))\n",
    "    \n",
    "len(features)"
   ]
  },
  {
   "cell_type": "markdown",
   "metadata": {},
   "source": [
    "We'll make new datasets with only those columns."
   ]
  },
  {
   "cell_type": "code",
   "execution_count": 16,
   "metadata": {
    "collapsed": false
   },
   "outputs": [],
   "source": [
    "submission_data = submission_data.ix[:, features]\n",
    "data = data.ix[:, features]\n",
    "X = X.ix[:, features]"
   ]
  },
  {
   "cell_type": "markdown",
   "metadata": {},
   "source": [
    "# Testing different algorithms"
   ]
  },
  {
   "cell_type": "code",
   "execution_count": 17,
   "metadata": {
    "collapsed": false
   },
   "outputs": [],
   "source": [
    "from sklearn.cross_validation import KFold, cross_val_score\n",
    "from sklearn.grid_search import GridSearchCV\n",
    "from sklearn.neighbors import KNeighborsClassifier\n",
    "from sklearn.ensemble import RandomForestClassifier, AdaBoostClassifier, GradientBoostingClassifier, VotingClassifier\n",
    "from sklearn.linear_model import LogisticRegression\n",
    "from sklearn.discriminant_analysis import LinearDiscriminantAnalysis"
   ]
  },
  {
   "cell_type": "code",
   "execution_count": 17,
   "metadata": {
    "collapsed": false
   },
   "outputs": [],
   "source": [
    "seed = 2016\n",
    "num_folds = 5\n",
    "num_instances = len(X)\n",
    "jobs = -1\n",
    "\n",
    "scoring = 'log_loss'\n",
    "\n",
    "kfold = KFold(n=num_instances, n_folds=num_folds, random_state=seed)"
   ]
  },
  {
   "cell_type": "markdown",
   "metadata": {},
   "source": [
    "## Logistic regression"
   ]
  },
  {
   "cell_type": "code",
   "execution_count": 18,
   "metadata": {
    "collapsed": false,
    "scrolled": true
   },
   "outputs": [
    {
     "name": "stdout",
     "output_type": "stream",
     "text": [
      "(-0.6136) +/- (0.0058)\n"
     ]
    }
   ],
   "source": [
    "model = LogisticRegression()\n",
    "\n",
    "result = cross_val_score(model, X, y, cv=kfold, scoring=scoring)\n",
    "print(\"({0:.4f}) +/- ({1:.4f})\".format(result.mean(), result.std()))"
   ]
  },
  {
   "cell_type": "markdown",
   "metadata": {},
   "source": [
    "## K-nearest neighbors"
   ]
  },
  {
   "cell_type": "code",
   "execution_count": 19,
   "metadata": {
    "collapsed": false
   },
   "outputs": [
    {
     "name": "stdout",
     "output_type": "stream",
     "text": [
      "(-0.6865) +/- (0.0070)\n"
     ]
    }
   ],
   "source": [
    "model = KNeighborsClassifier(n_neighbors=20, n_jobs=jobs)\n",
    "\n",
    "result = cross_val_score(model, X, y, cv=kfold, scoring=scoring)\n",
    "print(\"({0:.4f}) +/- ({1:.4f})\".format(result.mean(), result.std()))"
   ]
  },
  {
   "cell_type": "markdown",
   "metadata": {},
   "source": [
    "## Random forest"
   ]
  },
  {
   "cell_type": "code",
   "execution_count": 20,
   "metadata": {
    "collapsed": false
   },
   "outputs": [
    {
     "name": "stdout",
     "output_type": "stream",
     "text": [
      "(-0.6364) +/- (0.0057)\n"
     ]
    }
   ],
   "source": [
    "model = RandomForestClassifier(n_estimators=200, n_jobs=jobs)\n",
    "\n",
    "result = cross_val_score(model, X, y, cv=kfold, scoring=scoring)\n",
    "print(\"({0:.4f}) +/- ({1:.4f})\".format(result.mean(), result.std()))"
   ]
  },
  {
   "cell_type": "markdown",
   "metadata": {},
   "source": [
    "## Ada boost"
   ]
  },
  {
   "cell_type": "code",
   "execution_count": 21,
   "metadata": {
    "collapsed": false
   },
   "outputs": [
    {
     "name": "stdout",
     "output_type": "stream",
     "text": [
      "(-0.6885) +/- (0.0007)\n"
     ]
    }
   ],
   "source": [
    "model = AdaBoostClassifier(random_state=seed)\n",
    "\n",
    "results = cross_val_score(model, X, y, cv=kfold, scoring=scoring, n_jobs=jobs)\n",
    "print(\"({0:.4f}) +/- ({1:.4f})\".format(results.mean(), results.std()))"
   ]
  },
  {
   "cell_type": "markdown",
   "metadata": {},
   "source": [
    "## Gradient Boosting"
   ]
  },
  {
   "cell_type": "code",
   "execution_count": 22,
   "metadata": {
    "collapsed": false
   },
   "outputs": [
    {
     "name": "stdout",
     "output_type": "stream",
     "text": [
      "(-0.6089) +/- (0.0051)\n"
     ]
    }
   ],
   "source": [
    "model = GradientBoostingClassifier(random_state=seed)\n",
    "\n",
    "results = cross_val_score(model, X, y, cv=kfold, scoring=scoring, n_jobs=jobs)\n",
    "print(\"({0:.4f}) +/- ({1:.4f})\".format(results.mean(), results.std()))"
   ]
  },
  {
   "cell_type": "markdown",
   "metadata": {},
   "source": [
    "## Linear Discriminant Analysis (LDA)"
   ]
  },
  {
   "cell_type": "code",
   "execution_count": 23,
   "metadata": {
    "collapsed": false
   },
   "outputs": [
    {
     "name": "stdout",
     "output_type": "stream",
     "text": [
      "(-0.6156) +/- (0.0062)\n"
     ]
    }
   ],
   "source": [
    "model = LinearDiscriminantAnalysis()\n",
    "\n",
    "results = cross_val_score(model, X, y, cv=kfold, scoring=scoring, n_jobs=jobs)\n",
    "print(\"({0:.4f}) +/- ({1:.4f})\".format(results.mean(), results.std()))"
   ]
  },
  {
   "cell_type": "markdown",
   "metadata": {},
   "source": [
    "# Grid search\n",
    "\n",
    "We'll use `GridSearchCV` to find the best parameters for each algorithm that we used above."
   ]
  },
  {
   "cell_type": "markdown",
   "metadata": {},
   "source": [
    "## Logistic regression"
   ]
  },
  {
   "cell_type": "code",
   "execution_count": 24,
   "metadata": {
    "collapsed": false
   },
   "outputs": [
    {
     "name": "stdout",
     "output_type": "stream",
     "text": [
      "-0.613582360298\n",
      "{'C': 1, 'penalty': 'l1'}\n"
     ]
    }
   ],
   "source": [
    "lr_grid = GridSearchCV(estimator = LogisticRegression(random_state=seed),\n",
    "                       param_grid = {'penalty': ['l1', 'l2'], \n",
    "                                     'C': [0.001, 0.01, 0.1, 1, 10, 100]}, \n",
    "                       cv = kfold, \n",
    "                       scoring = scoring)\n",
    "\n",
    "lr_grid.fit(X, y)\n",
    "\n",
    "print(lr_grid.best_score_)\n",
    "print(lr_grid.best_params_)"
   ]
  },
  {
   "cell_type": "markdown",
   "metadata": {},
   "source": [
    "## K-nearest neighbors"
   ]
  },
  {
   "cell_type": "code",
   "execution_count": 25,
   "metadata": {
    "collapsed": false
   },
   "outputs": [
    {
     "name": "stdout",
     "output_type": "stream",
     "text": [
      "-0.662515645001\n",
      "{'weights': 'uniform', 'leaf_size': 30, 'p': 1, 'algorithm': 'ball_tree', 'n_neighbors': 80}\n"
     ]
    }
   ],
   "source": [
    "knn_grid = GridSearchCV(estimator = KNeighborsClassifier(n_jobs=jobs),\n",
    "                        param_grid = {'n_neighbors': [25, 50, 80],\n",
    "                                      'weights': ['uniform'],\n",
    "                                      'algorithm': ['ball_tree', 'kd_tree'],\n",
    "                                      'leaf_size': [2, 10, 30], \n",
    "                                      'p': [1]}, \n",
    "                        cv = kfold, \n",
    "                        scoring = scoring)\n",
    "\n",
    "knn_grid.fit(X, y)\n",
    "\n",
    "print(knn_grid.best_score_)\n",
    "print(knn_grid.best_params_)"
   ]
  },
  {
   "cell_type": "markdown",
   "metadata": {},
   "source": [
    "## Random forest"
   ]
  },
  {
   "cell_type": "code",
   "execution_count": 26,
   "metadata": {
    "collapsed": false
   },
   "outputs": [
    {
     "name": "stdout",
     "output_type": "stream",
     "text": [
      "-0.60741609113\n",
      "{'max_features': 20, 'max_depth': 10, 'criterion': 'entropy', 'n_estimators': 200}\n"
     ]
    }
   ],
   "source": [
    "rf_grid = GridSearchCV(estimator = RandomForestClassifier(warm_start=True, random_state=seed, n_jobs=jobs), \n",
    "                       param_grid = {'n_estimators': [100, 200],\n",
    "                                     'criterion': ['entropy'], \n",
    "                                     'max_features': ['auto', 20], \n",
    "                                     'max_depth': [None, 10]}, \n",
    "                       cv = kfold, \n",
    "                       scoring = scoring)\n",
    "\n",
    "rf_grid.fit(X, y)\n",
    "\n",
    "print(rf_grid.best_score_)\n",
    "print(rf_grid.best_params_)"
   ]
  },
  {
   "cell_type": "markdown",
   "metadata": {
    "collapsed": true
   },
   "source": [
    "## Ada boost"
   ]
  },
  {
   "cell_type": "code",
   "execution_count": 27,
   "metadata": {
    "collapsed": false
   },
   "outputs": [
    {
     "name": "stdout",
     "output_type": "stream",
     "text": [
      "-0.641203422605\n",
      "{'learning_rate': 0.001, 'algorithm': 'SAMME.R', 'n_estimators': 10}\n"
     ]
    }
   ],
   "source": [
    "ada_grid = GridSearchCV(estimator = AdaBoostClassifier(random_state=seed), \n",
    "                        param_grid = {'algorithm': ['SAMME', 'SAMME.R'],\n",
    "                                      'n_estimators': [10, 25, 50, 100, 150],\n",
    "                                      'learning_rate': [1e-3, 1e-2, 1e-1, 1]},\n",
    "                        cv = kfold, \n",
    "                        scoring = scoring, \n",
    "                        n_jobs = jobs)\n",
    "\n",
    "ada_grid.fit(X, y)\n",
    "\n",
    "print(ada_grid.best_score_)\n",
    "print(ada_grid.best_params_)"
   ]
  },
  {
   "cell_type": "markdown",
   "metadata": {},
   "source": [
    "## Gradient Boosting"
   ]
  },
  {
   "cell_type": "code",
   "execution_count": 28,
   "metadata": {
    "collapsed": false
   },
   "outputs": [
    {
     "name": "stdout",
     "output_type": "stream",
     "text": [
      "-0.607741430046\n",
      "{'learning_rate': 0.1, 'max_features': 'log2', 'max_depth': 5, 'n_estimators': 100}\n"
     ]
    }
   ],
   "source": [
    "gbm_grid = GridSearchCV(estimator = GradientBoostingClassifier(warm_start=True, random_state=seed),\n",
    "                        param_grid = {'n_estimators': [50, 100, 200],\n",
    "                                      'max_depth': [3, 5],\n",
    "                                      'max_features': ['auto', 'log2'],\n",
    "                                      'learning_rate': [0.01, 0.1]}, \n",
    "                        cv = kfold, \n",
    "                        scoring = scoring, \n",
    "                        n_jobs = jobs)\n",
    "\n",
    "gbm_grid.fit(X, y)\n",
    "\n",
    "print(gbm_grid.best_score_)\n",
    "print(gbm_grid.best_params_)"
   ]
  },
  {
   "cell_type": "markdown",
   "metadata": {},
   "source": [
    "## LDA"
   ]
  },
  {
   "cell_type": "code",
   "execution_count": 29,
   "metadata": {
    "collapsed": false
   },
   "outputs": [
    {
     "name": "stdout",
     "output_type": "stream",
     "text": [
      "-0.615563935547\n",
      "{'shrinkage': 'auto', 'solver': 'lsqr', 'n_components': None}\n"
     ]
    }
   ],
   "source": [
    "lda_grid = GridSearchCV(estimator = LinearDiscriminantAnalysis(),\n",
    "                        param_grid = {'solver': ['lsqr'], \n",
    "                                      'shrinkage': [None, 'auto'],\n",
    "                                      'n_components': [None, 2, 5, 10]},\n",
    "                        cv = kfold, \n",
    "                        scoring = scoring,\n",
    "                        n_jobs = jobs)\n",
    "\n",
    "lda_grid.fit(X, y)\n",
    "\n",
    "print(lda_grid.best_score_)\n",
    "print(lda_grid.best_params_)"
   ]
  },
  {
   "cell_type": "markdown",
   "metadata": {},
   "source": [
    "## Grid search summary"
   ]
  },
  {
   "cell_type": "code",
   "execution_count": 30,
   "metadata": {
    "collapsed": false
   },
   "outputs": [
    {
     "name": "stdout",
     "output_type": "stream",
     "text": [
      "lr -0.613582360298\n",
      "{'C': 1, 'penalty': 'l1'}\n",
      "\n",
      "knn -0.662515645001\n",
      "{'weights': 'uniform', 'leaf_size': 30, 'p': 1, 'algorithm': 'ball_tree', 'n_neighbors': 80}\n",
      "\n",
      "rf -0.60741609113\n",
      "{'max_features': 20, 'max_depth': 10, 'criterion': 'entropy', 'n_estimators': 200}\n",
      "\n",
      "ada -0.641203422605\n",
      "{'learning_rate': 0.001, 'algorithm': 'SAMME.R', 'n_estimators': 10}\n",
      "\n",
      "gbm -0.607741430046\n",
      "{'learning_rate': 0.1, 'max_features': 'log2', 'max_depth': 5, 'n_estimators': 100}\n",
      "\n",
      "lda -0.615563935547\n",
      "{'shrinkage': 'auto', 'solver': 'lsqr', 'n_components': None}\n"
     ]
    }
   ],
   "source": [
    "print('lr', lr_grid.best_score_)\n",
    "print(lr_grid.best_params_)\n",
    "print()\n",
    "print('knn', knn_grid.best_score_)\n",
    "print(knn_grid.best_params_)\n",
    "print()\n",
    "print('rf', rf_grid.best_score_)\n",
    "print(rf_grid.best_params_)\n",
    "print()\n",
    "print('ada', ada_grid.best_score_)\n",
    "print(ada_grid.best_params_)\n",
    "print()\n",
    "print('gbm', gbm_grid.best_score_)\n",
    "print(gbm_grid.best_params_)\n",
    "print()\n",
    "print('lda', lda_grid.best_score_)\n",
    "print(lda_grid.best_params_)"
   ]
  },
  {
   "cell_type": "markdown",
   "metadata": {},
   "source": [
    "# Voting classifier\n",
    "\n",
    "After lots of trial-and-error, I decided not to use KNN and ADA (two algorithms with the worst score).\n",
    "\n",
    "Weights were chosen based on same principle - trying a lot of values."
   ]
  },
  {
   "cell_type": "code",
   "execution_count": 31,
   "metadata": {
    "collapsed": false
   },
   "outputs": [],
   "source": [
    "estimators = [('lr', LogisticRegression(C=1, penalty='l1', random_state=seed)), \n",
    "              ('rf', RandomForestClassifier(warm_start=True, max_features=20, n_estimators=200, \n",
    "                                            max_depth=5, criterion='entropy', random_state=seed)),\n",
    "              ('gbm', GradientBoostingClassifier(max_depth=5, learning_rate=0.1, n_estimators=100, max_features='log2')),\n",
    "              ('lda', LinearDiscriminantAnalysis(solver='lsqr', shrinkage='auto'))]"
   ]
  },
  {
   "cell_type": "code",
   "execution_count": 32,
   "metadata": {
    "collapsed": false
   },
   "outputs": [
    {
     "name": "stdout",
     "output_type": "stream",
     "text": [
      "(-0.6092) +/- (0.0041)\n"
     ]
    }
   ],
   "source": [
    "voters = VotingClassifier(estimators, voting='soft', weights=[1, 2, 2, 1])\n",
    "\n",
    "results = cross_val_score(voters, X, y, cv=kfold, scoring=scoring, n_jobs=jobs)\n",
    "print(\"({0:.4}) +/- ({1:.4f})\".format(results.mean(), results.std()))"
   ]
  }
 ],
 "metadata": {
  "kernelspec": {
   "display_name": "Python 3",
   "language": "python",
   "name": "python3"
  },
  "language_info": {
   "codemirror_mode": {
    "name": "ipython",
    "version": 3
   },
   "file_extension": ".py",
   "mimetype": "text/x-python",
   "name": "python",
   "nbconvert_exporter": "python",
   "pygments_lexer": "ipython3",
   "version": "3.5.1"
  },
  "latex_envs": {
   "bibliofile": "biblio.bib",
   "cite_by": "apalike",
   "current_citInitial": 1,
   "eqLabelWithNumbers": true,
   "eqNumInitial": 0
  },
  "toc": {
   "toc_cell": true,
   "toc_number_sections": false,
   "toc_threshold": "3",
   "toc_window_display": false
  }
 },
 "nbformat": 4,
 "nbformat_minor": 0
}
