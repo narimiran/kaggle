{
 "cells": [
  {
   "cell_type": "markdown",
   "metadata": {
    "toc": "true"
   },
   "source": [
    "# Table of Contents\n",
    " <p><div class=\"lev1\"><a href=\"#Importing-data\">Importing data</a></div><div class=\"lev1\"><a href=\"#Analyzing-the-columns\">Analyzing the columns</a></div><div class=\"lev2\"><a href=\"#Univariate-analysis\">Univariate analysis</a></div><div class=\"lev3\"><a href=\"#Survived\">Survived</a></div><div class=\"lev3\"><a href=\"#Class\">Class</a></div><div class=\"lev3\"><a href=\"#Name-/-Title\">Name / Title</a></div><div class=\"lev3\"><a href=\"#Age\">Age</a></div><div class=\"lev3\"><a href=\"#Siblings\">Siblings</a></div><div class=\"lev3\"><a href=\"#Parents-/-childs\">Parents / childs</a></div><div class=\"lev3\"><a href=\"#Fare\">Fare</a></div><div class=\"lev3\"><a href=\"#Gender\">Gender</a></div><div class=\"lev3\"><a href=\"#Ticket\">Ticket</a></div><div class=\"lev3\"><a href=\"#Cabin\">Cabin</a></div><div class=\"lev3\"><a href=\"#Embarked\">Embarked</a></div><div class=\"lev2\"><a href=\"#Multivariate-analysis\">Multivariate analysis</a></div><div class=\"lev3\"><a href=\"#Survival-rate-between-sexes-and-classes\">Survival rate between sexes and classes</a></div><div class=\"lev3\"><a href=\"#Survival-rate-by-age\">Survival rate by age</a></div><div class=\"lev3\"><a href=\"#Family-on-Titanic\">Family on Titanic</a></div><div class=\"lev3\"><a href=\"#Embarkment\">Embarkment</a></div><div class=\"lev3\"><a href=\"#Survival-rate-by-title\">Survival rate by title</a></div><div class=\"lev3\"><a href=\"#Survival-rate-by-fare\">Survival rate by fare</a></div><div class=\"lev1\"><a href=\"#Tidying-up-and-preparing-data\">Tidying up and preparing data</a></div><div class=\"lev2\"><a href=\"#Creating-dummy-values-for-categorical-columns\">Creating dummy values for categorical columns</a></div><div class=\"lev1\"><a href=\"#Test-data\">Test data</a></div><div class=\"lev2\"><a href=\"#Creating-new-columns\">Creating new columns</a></div><div class=\"lev2\"><a href=\"#Filling-in-the-missing-values\">Filling in the missing values</a></div><div class=\"lev2\"><a href=\"#Deleting-unneeded-columns\">Deleting unneeded columns</a></div><div class=\"lev2\"><a href=\"#Creating-dummy-values-for-categorical-columns\">Creating dummy values for categorical columns</a></div><div class=\"lev1\"><a href=\"#Training\">Training</a></div><div class=\"lev2\"><a href=\"#Models\">Models</a></div><div class=\"lev2\"><a href=\"#Hyperparameter-tuning\">Hyperparameter tuning</a></div><div class=\"lev3\"><a href=\"#Logistic-regression\">Logistic regression</a></div><div class=\"lev3\"><a href=\"#K-nearest-neighbors\">K-nearest neighbors</a></div><div class=\"lev3\"><a href=\"#Decision-Tree-Classifier\">Decision Tree Classifier</a></div><div class=\"lev3\"><a href=\"#Bagging-Classifier\">Bagging Classifier</a></div><div class=\"lev3\"><a href=\"#Random-Forest\">Random Forest</a></div><div class=\"lev3\"><a href=\"#Ada-boost\">Ada boost</a></div><div class=\"lev3\"><a href=\"#Gradient-boost\">Gradient boost</a></div><div class=\"lev2\"><a href=\"#Democracy\">Democracy</a></div>"
   ]
  },
  {
   "cell_type": "markdown",
   "metadata": {},
   "source": [
    "# Importing data\n",
    "\n",
    "Importing and checking that everything loaded ok."
   ]
  },
  {
   "cell_type": "code",
   "execution_count": 126,
   "metadata": {
    "ExecuteTime": {
     "end_time": "2016-05-22T14:19:25.457229",
     "start_time": "2016-05-22T14:19:25.432228"
    },
    "collapsed": false
   },
   "outputs": [
    {
     "data": {
      "text/html": [
       "<div>\n",
       "<table border=\"1\" class=\"dataframe\">\n",
       "  <thead>\n",
       "    <tr style=\"text-align: right;\">\n",
       "      <th></th>\n",
       "      <th>Survived</th>\n",
       "      <th>Pclass</th>\n",
       "      <th>Name</th>\n",
       "      <th>Sex</th>\n",
       "      <th>Age</th>\n",
       "      <th>SibSp</th>\n",
       "      <th>Parch</th>\n",
       "      <th>Ticket</th>\n",
       "      <th>Fare</th>\n",
       "      <th>Cabin</th>\n",
       "      <th>Embarked</th>\n",
       "    </tr>\n",
       "    <tr>\n",
       "      <th>PassengerId</th>\n",
       "      <th></th>\n",
       "      <th></th>\n",
       "      <th></th>\n",
       "      <th></th>\n",
       "      <th></th>\n",
       "      <th></th>\n",
       "      <th></th>\n",
       "      <th></th>\n",
       "      <th></th>\n",
       "      <th></th>\n",
       "      <th></th>\n",
       "    </tr>\n",
       "  </thead>\n",
       "  <tbody>\n",
       "    <tr>\n",
       "      <th>1</th>\n",
       "      <td>0</td>\n",
       "      <td>3</td>\n",
       "      <td>Braund, Mr. Owen Harris</td>\n",
       "      <td>male</td>\n",
       "      <td>22.0</td>\n",
       "      <td>1</td>\n",
       "      <td>0</td>\n",
       "      <td>A/5 21171</td>\n",
       "      <td>7.2500</td>\n",
       "      <td>NaN</td>\n",
       "      <td>S</td>\n",
       "    </tr>\n",
       "    <tr>\n",
       "      <th>2</th>\n",
       "      <td>1</td>\n",
       "      <td>1</td>\n",
       "      <td>Cumings, Mrs. John Bradley (Florence Briggs Th...</td>\n",
       "      <td>female</td>\n",
       "      <td>38.0</td>\n",
       "      <td>1</td>\n",
       "      <td>0</td>\n",
       "      <td>PC 17599</td>\n",
       "      <td>71.2833</td>\n",
       "      <td>C85</td>\n",
       "      <td>C</td>\n",
       "    </tr>\n",
       "    <tr>\n",
       "      <th>3</th>\n",
       "      <td>1</td>\n",
       "      <td>3</td>\n",
       "      <td>Heikkinen, Miss. Laina</td>\n",
       "      <td>female</td>\n",
       "      <td>26.0</td>\n",
       "      <td>0</td>\n",
       "      <td>0</td>\n",
       "      <td>STON/O2. 3101282</td>\n",
       "      <td>7.9250</td>\n",
       "      <td>NaN</td>\n",
       "      <td>S</td>\n",
       "    </tr>\n",
       "    <tr>\n",
       "      <th>4</th>\n",
       "      <td>1</td>\n",
       "      <td>1</td>\n",
       "      <td>Futrelle, Mrs. Jacques Heath (Lily May Peel)</td>\n",
       "      <td>female</td>\n",
       "      <td>35.0</td>\n",
       "      <td>1</td>\n",
       "      <td>0</td>\n",
       "      <td>113803</td>\n",
       "      <td>53.1000</td>\n",
       "      <td>C123</td>\n",
       "      <td>S</td>\n",
       "    </tr>\n",
       "    <tr>\n",
       "      <th>5</th>\n",
       "      <td>0</td>\n",
       "      <td>3</td>\n",
       "      <td>Allen, Mr. William Henry</td>\n",
       "      <td>male</td>\n",
       "      <td>35.0</td>\n",
       "      <td>0</td>\n",
       "      <td>0</td>\n",
       "      <td>373450</td>\n",
       "      <td>8.0500</td>\n",
       "      <td>NaN</td>\n",
       "      <td>S</td>\n",
       "    </tr>\n",
       "  </tbody>\n",
       "</table>\n",
       "</div>"
      ],
      "text/plain": [
       "             Survived  Pclass  \\\n",
       "PassengerId                     \n",
       "1                   0       3   \n",
       "2                   1       1   \n",
       "3                   1       3   \n",
       "4                   1       1   \n",
       "5                   0       3   \n",
       "\n",
       "                                                          Name     Sex   Age  \\\n",
       "PassengerId                                                                    \n",
       "1                                      Braund, Mr. Owen Harris    male  22.0   \n",
       "2            Cumings, Mrs. John Bradley (Florence Briggs Th...  female  38.0   \n",
       "3                                       Heikkinen, Miss. Laina  female  26.0   \n",
       "4                 Futrelle, Mrs. Jacques Heath (Lily May Peel)  female  35.0   \n",
       "5                                     Allen, Mr. William Henry    male  35.0   \n",
       "\n",
       "             SibSp  Parch            Ticket     Fare Cabin Embarked  \n",
       "PassengerId                                                          \n",
       "1                1      0         A/5 21171   7.2500   NaN        S  \n",
       "2                1      0          PC 17599  71.2833   C85        C  \n",
       "3                0      0  STON/O2. 3101282   7.9250   NaN        S  \n",
       "4                1      0            113803  53.1000  C123        S  \n",
       "5                0      0            373450   8.0500   NaN        S  "
      ]
     },
     "execution_count": 126,
     "metadata": {},
     "output_type": "execute_result"
    }
   ],
   "source": [
    "import numpy as np \n",
    "import pandas as pd \n",
    "import seaborn as sns\n",
    "import matplotlib.pyplot as plt\n",
    "%matplotlib inline\n",
    "plt.rcParams['figure.figsize'] = (12.0, 6.0)\n",
    "sns.set_style('whitegrid')\n",
    "\n",
    "df = pd.read_csv('../#data-sets/titanic-train.csv', index_col='PassengerId')\n",
    "df.head()"
   ]
  },
  {
   "cell_type": "markdown",
   "metadata": {},
   "source": [
    "# Analyzing the columns\n",
    "\n",
    "## Univariate analysis"
   ]
  },
  {
   "cell_type": "code",
   "execution_count": 127,
   "metadata": {
    "ExecuteTime": {
     "end_time": "2016-05-22T14:19:25.466230",
     "start_time": "2016-05-22T14:19:25.458229"
    },
    "collapsed": false
   },
   "outputs": [
    {
     "name": "stdout",
     "output_type": "stream",
     "text": [
      "<class 'pandas.core.frame.DataFrame'>\n",
      "Int64Index: 891 entries, 1 to 891\n",
      "Data columns (total 11 columns):\n",
      "Survived    891 non-null int64\n",
      "Pclass      891 non-null int64\n",
      "Name        891 non-null object\n",
      "Sex         891 non-null object\n",
      "Age         714 non-null float64\n",
      "SibSp       891 non-null int64\n",
      "Parch       891 non-null int64\n",
      "Ticket      891 non-null object\n",
      "Fare        891 non-null float64\n",
      "Cabin       204 non-null object\n",
      "Embarked    889 non-null object\n",
      "dtypes: float64(2), int64(4), object(5)\n",
      "memory usage: 83.5+ KB\n"
     ]
    }
   ],
   "source": [
    "df.info()"
   ]
  },
  {
   "cell_type": "code",
   "execution_count": 128,
   "metadata": {
    "ExecuteTime": {
     "end_time": "2016-05-22T14:19:25.526233",
     "start_time": "2016-05-22T14:19:25.467230"
    },
    "collapsed": false
   },
   "outputs": [
    {
     "data": {
      "text/html": [
       "<div>\n",
       "<table border=\"1\" class=\"dataframe\">\n",
       "  <thead>\n",
       "    <tr style=\"text-align: right;\">\n",
       "      <th></th>\n",
       "      <th>Survived</th>\n",
       "      <th>Pclass</th>\n",
       "      <th>Age</th>\n",
       "      <th>SibSp</th>\n",
       "      <th>Parch</th>\n",
       "      <th>Fare</th>\n",
       "    </tr>\n",
       "  </thead>\n",
       "  <tbody>\n",
       "    <tr>\n",
       "      <th>count</th>\n",
       "      <td>891.000000</td>\n",
       "      <td>891.000000</td>\n",
       "      <td>714.000000</td>\n",
       "      <td>891.000000</td>\n",
       "      <td>891.000000</td>\n",
       "      <td>891.000000</td>\n",
       "    </tr>\n",
       "    <tr>\n",
       "      <th>mean</th>\n",
       "      <td>0.383838</td>\n",
       "      <td>2.308642</td>\n",
       "      <td>29.699118</td>\n",
       "      <td>0.523008</td>\n",
       "      <td>0.381594</td>\n",
       "      <td>32.204208</td>\n",
       "    </tr>\n",
       "    <tr>\n",
       "      <th>std</th>\n",
       "      <td>0.486592</td>\n",
       "      <td>0.836071</td>\n",
       "      <td>14.526497</td>\n",
       "      <td>1.102743</td>\n",
       "      <td>0.806057</td>\n",
       "      <td>49.693429</td>\n",
       "    </tr>\n",
       "    <tr>\n",
       "      <th>min</th>\n",
       "      <td>0.000000</td>\n",
       "      <td>1.000000</td>\n",
       "      <td>0.420000</td>\n",
       "      <td>0.000000</td>\n",
       "      <td>0.000000</td>\n",
       "      <td>0.000000</td>\n",
       "    </tr>\n",
       "    <tr>\n",
       "      <th>25%</th>\n",
       "      <td>0.000000</td>\n",
       "      <td>2.000000</td>\n",
       "      <td>20.125000</td>\n",
       "      <td>0.000000</td>\n",
       "      <td>0.000000</td>\n",
       "      <td>7.910400</td>\n",
       "    </tr>\n",
       "    <tr>\n",
       "      <th>50%</th>\n",
       "      <td>0.000000</td>\n",
       "      <td>3.000000</td>\n",
       "      <td>28.000000</td>\n",
       "      <td>0.000000</td>\n",
       "      <td>0.000000</td>\n",
       "      <td>14.454200</td>\n",
       "    </tr>\n",
       "    <tr>\n",
       "      <th>75%</th>\n",
       "      <td>1.000000</td>\n",
       "      <td>3.000000</td>\n",
       "      <td>38.000000</td>\n",
       "      <td>1.000000</td>\n",
       "      <td>0.000000</td>\n",
       "      <td>31.000000</td>\n",
       "    </tr>\n",
       "    <tr>\n",
       "      <th>max</th>\n",
       "      <td>1.000000</td>\n",
       "      <td>3.000000</td>\n",
       "      <td>80.000000</td>\n",
       "      <td>8.000000</td>\n",
       "      <td>6.000000</td>\n",
       "      <td>512.329200</td>\n",
       "    </tr>\n",
       "  </tbody>\n",
       "</table>\n",
       "</div>"
      ],
      "text/plain": [
       "         Survived      Pclass         Age       SibSp       Parch        Fare\n",
       "count  891.000000  891.000000  714.000000  891.000000  891.000000  891.000000\n",
       "mean     0.383838    2.308642   29.699118    0.523008    0.381594   32.204208\n",
       "std      0.486592    0.836071   14.526497    1.102743    0.806057   49.693429\n",
       "min      0.000000    1.000000    0.420000    0.000000    0.000000    0.000000\n",
       "25%      0.000000    2.000000   20.125000    0.000000    0.000000    7.910400\n",
       "50%      0.000000    3.000000   28.000000    0.000000    0.000000   14.454200\n",
       "75%      1.000000    3.000000   38.000000    1.000000    0.000000   31.000000\n",
       "max      1.000000    3.000000   80.000000    8.000000    6.000000  512.329200"
      ]
     },
     "execution_count": 128,
     "metadata": {},
     "output_type": "execute_result"
    }
   ],
   "source": [
    "df.describe()"
   ]
  },
  {
   "cell_type": "code",
   "execution_count": 129,
   "metadata": {
    "ExecuteTime": {
     "end_time": "2016-05-22T14:19:25.562235",
     "start_time": "2016-05-22T14:19:25.527233"
    },
    "collapsed": false,
    "scrolled": true
   },
   "outputs": [
    {
     "data": {
      "text/html": [
       "<div>\n",
       "<table border=\"1\" class=\"dataframe\">\n",
       "  <thead>\n",
       "    <tr style=\"text-align: right;\">\n",
       "      <th></th>\n",
       "      <th>Name</th>\n",
       "      <th>Sex</th>\n",
       "      <th>Ticket</th>\n",
       "      <th>Cabin</th>\n",
       "      <th>Embarked</th>\n",
       "    </tr>\n",
       "  </thead>\n",
       "  <tbody>\n",
       "    <tr>\n",
       "      <th>count</th>\n",
       "      <td>891</td>\n",
       "      <td>891</td>\n",
       "      <td>891</td>\n",
       "      <td>204</td>\n",
       "      <td>889</td>\n",
       "    </tr>\n",
       "    <tr>\n",
       "      <th>unique</th>\n",
       "      <td>891</td>\n",
       "      <td>2</td>\n",
       "      <td>681</td>\n",
       "      <td>147</td>\n",
       "      <td>3</td>\n",
       "    </tr>\n",
       "    <tr>\n",
       "      <th>top</th>\n",
       "      <td>Artagaveytia, Mr. Ramon</td>\n",
       "      <td>male</td>\n",
       "      <td>CA. 2343</td>\n",
       "      <td>B96 B98</td>\n",
       "      <td>S</td>\n",
       "    </tr>\n",
       "    <tr>\n",
       "      <th>freq</th>\n",
       "      <td>1</td>\n",
       "      <td>577</td>\n",
       "      <td>7</td>\n",
       "      <td>4</td>\n",
       "      <td>644</td>\n",
       "    </tr>\n",
       "  </tbody>\n",
       "</table>\n",
       "</div>"
      ],
      "text/plain": [
       "                           Name   Sex    Ticket    Cabin Embarked\n",
       "count                       891   891       891      204      889\n",
       "unique                      891     2       681      147        3\n",
       "top     Artagaveytia, Mr. Ramon  male  CA. 2343  B96 B98        S\n",
       "freq                          1   577         7        4      644"
      ]
     },
     "execution_count": 129,
     "metadata": {},
     "output_type": "execute_result"
    }
   ],
   "source": [
    "df.select_dtypes(include=['object']).describe()"
   ]
  },
  {
   "cell_type": "markdown",
   "metadata": {},
   "source": [
    "### Survived"
   ]
  },
  {
   "cell_type": "code",
   "execution_count": 130,
   "metadata": {
    "ExecuteTime": {
     "end_time": "2016-05-22T14:19:25.568236",
     "start_time": "2016-05-22T14:19:25.563235"
    },
    "collapsed": false
   },
   "outputs": [
    {
     "data": {
      "text/plain": [
       "0    549\n",
       "1    342\n",
       "Name: Survived, dtype: int64"
      ]
     },
     "execution_count": 130,
     "metadata": {},
     "output_type": "execute_result"
    }
   ],
   "source": [
    "df['Survived'].value_counts()"
   ]
  },
  {
   "cell_type": "markdown",
   "metadata": {},
   "source": [
    "### Class"
   ]
  },
  {
   "cell_type": "code",
   "execution_count": 131,
   "metadata": {
    "ExecuteTime": {
     "end_time": "2016-05-22T14:19:25.574236",
     "start_time": "2016-05-22T14:19:25.569236"
    },
    "collapsed": false
   },
   "outputs": [
    {
     "data": {
      "text/plain": [
       "1    216\n",
       "2    184\n",
       "3    491\n",
       "Name: Pclass, dtype: int64"
      ]
     },
     "execution_count": 131,
     "metadata": {},
     "output_type": "execute_result"
    }
   ],
   "source": [
    "df['Pclass'].value_counts(sort=False)"
   ]
  },
  {
   "cell_type": "markdown",
   "metadata": {},
   "source": [
    "### Name / Title\n",
    "\n",
    "We will extract titles from the `name` column, and create a new column with them.\n",
    "\n",
    "*This idea has been seen and borrowed from [SadatNazrul](https://www.kaggle.com/creepykoala) and [his notebook](https://www.kaggle.com/creepykoala/titanic/study-of-tree-and-forest-algorithms).*"
   ]
  },
  {
   "cell_type": "code",
   "execution_count": 132,
   "metadata": {
    "ExecuteTime": {
     "end_time": "2016-05-22T14:19:25.588237",
     "start_time": "2016-05-22T14:19:25.575236"
    },
    "collapsed": false
   },
   "outputs": [],
   "source": [
    "Title_Dictionary = {\n",
    "                    \"Capt\":       \"Officer\",\n",
    "                    \"Col\":        \"Officer\",\n",
    "                    \"Major\":      \"Officer\",\n",
    "                    \"Jonkheer\":   \"Royalty\",\n",
    "                    \"Don\":        \"Royalty\",\n",
    "                    \"Sir\" :       \"Royalty\",\n",
    "                    \"Dr\":         \"Officer\",\n",
    "                    \"Rev\":        \"Officer\",\n",
    "                    \"the Countess\":\"Royalty\",\n",
    "                    \"Dona\":       \"Royalty\",\n",
    "                    \"Mme\":        \"Mrs\",\n",
    "                    \"Mlle\":       \"Miss\",\n",
    "                    \"Ms\":         \"Mrs\",\n",
    "                    \"Mr\" :        \"Mr\",\n",
    "                    \"Mrs\" :       \"Mrs\",\n",
    "                    \"Miss\" :      \"Miss\",\n",
    "                    \"Master\" :    \"Master\",\n",
    "                    \"Lady\" :      \"Royalty\"\n",
    "                    } \n",
    "\n",
    "df['Title'] = df['Name'].apply(lambda x: Title_Dictionary[x.split(',')[1].split('.')[0].strip()])"
   ]
  },
  {
   "cell_type": "markdown",
   "metadata": {},
   "source": [
    "### Age\n",
    "\n",
    "**Lots of missing values!!**"
   ]
  },
  {
   "cell_type": "code",
   "execution_count": 133,
   "metadata": {
    "ExecuteTime": {
     "end_time": "2016-05-22T14:19:25.596237",
     "start_time": "2016-05-22T14:19:25.589237"
    },
    "collapsed": false,
    "scrolled": true
   },
   "outputs": [
    {
     "data": {
      "text/plain": [
       "NaN      177\n",
       " 24.0     30\n",
       " 22.0     27\n",
       " 18.0     26\n",
       " 30.0     25\n",
       " 19.0     25\n",
       " 28.0     25\n",
       " 21.0     24\n",
       " 25.0     23\n",
       " 36.0     22\n",
       " 29.0     20\n",
       " 35.0     18\n",
       " 32.0     18\n",
       " 26.0     18\n",
       " 27.0     18\n",
       " 16.0     17\n",
       " 31.0     17\n",
       " 23.0     15\n",
       " 33.0     15\n",
       " 34.0     15\n",
       " 20.0     15\n",
       "Name: Age, dtype: int64"
      ]
     },
     "execution_count": 133,
     "metadata": {},
     "output_type": "execute_result"
    }
   ],
   "source": [
    "df['Age'].value_counts(dropna=False)[:20]"
   ]
  },
  {
   "cell_type": "code",
   "execution_count": 134,
   "metadata": {
    "ExecuteTime": {
     "end_time": "2016-05-22T14:19:25.871253",
     "start_time": "2016-05-22T14:19:25.597237"
    },
    "collapsed": false
   },
   "outputs": [
    {
     "data": {
      "text/plain": [
       "<matplotlib.axes._subplots.AxesSubplot at 0x12136ba8>"
      ]
     },
     "execution_count": 134,
     "metadata": {},
     "output_type": "execute_result"
    },
    {
     "data": {
      "image/png": "[encoded data removed]",
      "text/plain": [
       "<matplotlib.figure.Figure at 0x1215beb8>"
      ]
     },
     "metadata": {},
     "output_type": "display_data"
    }
   ],
   "source": [
    "df['Age'].hist(bins=16)"
   ]
  },
  {
   "cell_type": "markdown",
   "metadata": {},
   "source": [
    "### Siblings"
   ]
  },
  {
   "cell_type": "code",
   "execution_count": 135,
   "metadata": {
    "ExecuteTime": {
     "end_time": "2016-05-22T14:19:25.876253",
     "start_time": "2016-05-22T14:19:25.872253"
    },
    "collapsed": false
   },
   "outputs": [
    {
     "data": {
      "text/plain": [
       "0    608\n",
       "1    209\n",
       "2     28\n",
       "3     16\n",
       "4     18\n",
       "5      5\n",
       "8      7\n",
       "Name: SibSp, dtype: int64"
      ]
     },
     "execution_count": 135,
     "metadata": {},
     "output_type": "execute_result"
    }
   ],
   "source": [
    "df['SibSp'].value_counts(sort=False)"
   ]
  },
  {
   "cell_type": "markdown",
   "metadata": {},
   "source": [
    "### Parents / childs"
   ]
  },
  {
   "cell_type": "code",
   "execution_count": 136,
   "metadata": {
    "ExecuteTime": {
     "end_time": "2016-05-22T14:19:25.882254",
     "start_time": "2016-05-22T14:19:25.877253"
    },
    "collapsed": false
   },
   "outputs": [
    {
     "data": {
      "text/plain": [
       "0    678\n",
       "1    118\n",
       "2     80\n",
       "3      5\n",
       "4      4\n",
       "5      5\n",
       "6      1\n",
       "Name: Parch, dtype: int64"
      ]
     },
     "execution_count": 136,
     "metadata": {},
     "output_type": "execute_result"
    }
   ],
   "source": [
    "df['Parch'].value_counts(sort=False)"
   ]
  },
  {
   "cell_type": "markdown",
   "metadata": {},
   "source": [
    "### Fare"
   ]
  },
  {
   "cell_type": "code",
   "execution_count": 137,
   "metadata": {
    "ExecuteTime": {
     "end_time": "2016-05-22T14:19:25.889254",
     "start_time": "2016-05-22T14:19:25.883254"
    },
    "collapsed": false,
    "scrolled": true
   },
   "outputs": [
    {
     "data": {
      "text/plain": [
       "8.0500     43\n",
       "13.0000    42\n",
       "7.8958     38\n",
       "7.7500     34\n",
       "26.0000    31\n",
       "10.5000    24\n",
       "7.9250     18\n",
       "7.7750     16\n",
       "26.5500    15\n",
       "7.2292     15\n",
       "0.0000     15\n",
       "7.2500     13\n",
       "7.8542     13\n",
       "8.6625     13\n",
       "7.2250     12\n",
       "9.5000      9\n",
       "16.1000     9\n",
       "24.1500     8\n",
       "15.5000     8\n",
       "56.4958     7\n",
       "Name: Fare, dtype: int64"
      ]
     },
     "execution_count": 137,
     "metadata": {},
     "output_type": "execute_result"
    }
   ],
   "source": [
    "df['Fare'].value_counts().head(20)"
   ]
  },
  {
   "cell_type": "code",
   "execution_count": 138,
   "metadata": {
    "ExecuteTime": {
     "end_time": "2016-05-22T14:19:26.147269",
     "start_time": "2016-05-22T14:19:25.890254"
    },
    "collapsed": false,
    "scrolled": true
   },
   "outputs": [
    {
     "data": {
      "text/plain": [
       "<matplotlib.axes._subplots.AxesSubplot at 0x13190cc0>"
      ]
     },
     "execution_count": 138,
     "metadata": {},
     "output_type": "execute_result"
    },
    {
     "data": {
      "image/png": "[encoded data removed]",
      "text/plain": [
       "<matplotlib.figure.Figure at 0x131775f8>"
      ]
     },
     "metadata": {},
     "output_type": "display_data"
    }
   ],
   "source": [
    "df['Fare'].hist(bins=15)"
   ]
  },
  {
   "cell_type": "markdown",
   "metadata": {},
   "source": [
    "### Gender"
   ]
  },
  {
   "cell_type": "code",
   "execution_count": 139,
   "metadata": {
    "ExecuteTime": {
     "end_time": "2016-05-22T14:19:26.153269",
     "start_time": "2016-05-22T14:19:26.148269"
    },
    "collapsed": false
   },
   "outputs": [
    {
     "data": {
      "text/plain": [
       "male      577\n",
       "female    314\n",
       "Name: Sex, dtype: int64"
      ]
     },
     "execution_count": 139,
     "metadata": {},
     "output_type": "execute_result"
    }
   ],
   "source": [
    "df['Sex'].value_counts()"
   ]
  },
  {
   "cell_type": "markdown",
   "metadata": {},
   "source": [
    "### Ticket"
   ]
  },
  {
   "cell_type": "code",
   "execution_count": 140,
   "metadata": {
    "ExecuteTime": {
     "end_time": "2016-05-22T14:19:26.160269",
     "start_time": "2016-05-22T14:19:26.154269"
    },
    "collapsed": false,
    "scrolled": true
   },
   "outputs": [
    {
     "data": {
      "text/plain": [
       "CA. 2343        7\n",
       "347082          7\n",
       "1601            7\n",
       "3101295         6\n",
       "CA 2144         6\n",
       "347088          6\n",
       "S.O.C. 14879    5\n",
       "382652          5\n",
       "17421           4\n",
       "W./C. 6608      4\n",
       "113781          4\n",
       "2666            4\n",
       "19950           4\n",
       "113760          4\n",
       "349909          4\n",
       "LINE            4\n",
       "347077          4\n",
       "PC 17757        4\n",
       "4133            4\n",
       "248727          3\n",
       "Name: Ticket, dtype: int64"
      ]
     },
     "execution_count": 140,
     "metadata": {},
     "output_type": "execute_result"
    }
   ],
   "source": [
    "df['Ticket'].value_counts()[:20]"
   ]
  },
  {
   "cell_type": "markdown",
   "metadata": {},
   "source": [
    "### Cabin\n",
    "\n",
    "**Lots of missing values!!**"
   ]
  },
  {
   "cell_type": "code",
   "execution_count": 141,
   "metadata": {
    "ExecuteTime": {
     "end_time": "2016-05-22T14:19:26.167270",
     "start_time": "2016-05-22T14:19:26.161269"
    },
    "collapsed": false,
    "scrolled": true
   },
   "outputs": [
    {
     "data": {
      "text/plain": [
       "NaN            687\n",
       "B96 B98          4\n",
       "C23 C25 C27      4\n",
       "G6               4\n",
       "C22 C26          3\n",
       "E101             3\n",
       "D                3\n",
       "F2               3\n",
       "F33              3\n",
       "E44              2\n",
       "B77              2\n",
       "C93              2\n",
       "B20              2\n",
       "C68              2\n",
       "D33              2\n",
       "D20              2\n",
       "C78              2\n",
       "B58 B60          2\n",
       "E24              2\n",
       "E33              2\n",
       "Name: Cabin, dtype: int64"
      ]
     },
     "execution_count": 141,
     "metadata": {},
     "output_type": "execute_result"
    }
   ],
   "source": [
    "df['Cabin'].value_counts(dropna=False)[:20]"
   ]
  },
  {
   "cell_type": "markdown",
   "metadata": {},
   "source": [
    "### Embarked"
   ]
  },
  {
   "cell_type": "code",
   "execution_count": 142,
   "metadata": {
    "ExecuteTime": {
     "end_time": "2016-05-22T14:19:26.173270",
     "start_time": "2016-05-22T14:19:26.168270"
    },
    "collapsed": false
   },
   "outputs": [
    {
     "data": {
      "text/plain": [
       "S      644\n",
       "C      168\n",
       "Q       77\n",
       "NaN      2\n",
       "Name: Embarked, dtype: int64"
      ]
     },
     "execution_count": 142,
     "metadata": {},
     "output_type": "execute_result"
    }
   ],
   "source": [
    "df['Embarked'].value_counts(dropna=False)"
   ]
  },
  {
   "cell_type": "markdown",
   "metadata": {},
   "source": [
    "Large majority of people embarked in Southampton, so we'll put `'S'` for those two missing values:"
   ]
  },
  {
   "cell_type": "code",
   "execution_count": 143,
   "metadata": {
    "ExecuteTime": {
     "end_time": "2016-05-22T14:19:26.177270",
     "start_time": "2016-05-22T14:19:26.174270"
    },
    "collapsed": false,
    "scrolled": true
   },
   "outputs": [],
   "source": [
    "df['Embarked'].fillna('S', inplace=True)"
   ]
  },
  {
   "cell_type": "markdown",
   "metadata": {},
   "source": [
    "## Multivariate analysis\n",
    "\n",
    "### Survival rate between sexes and classes"
   ]
  },
  {
   "cell_type": "code",
   "execution_count": 144,
   "metadata": {
    "ExecuteTime": {
     "end_time": "2016-05-22T14:19:26.371281",
     "start_time": "2016-05-22T14:19:26.178270"
    },
    "collapsed": false
   },
   "outputs": [
    {
     "data": {
      "text/plain": [
       "<matplotlib.text.Text at 0x1335b588>"
      ]
     },
     "execution_count": 144,
     "metadata": {},
     "output_type": "execute_result"
    },
    {
     "data": {
      "image/png": "[encoded data removed]",
      "text/plain": [
       "<matplotlib.figure.Figure at 0x132efcc0>"
      ]
     },
     "metadata": {},
     "output_type": "display_data"
    }
   ],
   "source": [
    "sns.factorplot(x='Sex', y='Survived', data=df, kind='bar', size=5, ci=None)\n",
    "plt.title('Survival Rate by Gender')"
   ]
  },
  {
   "cell_type": "code",
   "execution_count": 145,
   "metadata": {
    "ExecuteTime": {
     "end_time": "2016-05-22T14:19:26.703300",
     "start_time": "2016-05-22T14:19:26.372282"
    },
    "collapsed": false
   },
   "outputs": [
    {
     "data": {
      "text/plain": [
       "<matplotlib.text.Text at 0x11bd61d0>"
      ]
     },
     "execution_count": 145,
     "metadata": {},
     "output_type": "execute_result"
    },
    {
     "data": {
      "image/png": "[encoded data removed]",
      "text/plain": [
       "<matplotlib.figure.Figure at 0x13346828>"
      ]
     },
     "metadata": {},
     "output_type": "display_data"
    }
   ],
   "source": [
    "sns.factorplot(x='Pclass', y='Survived', data=df, kind='bar', size=5, ci=None)\n",
    "plt.title('Survival Rate by Class')"
   ]
  },
  {
   "cell_type": "code",
   "execution_count": 146,
   "metadata": {
    "ExecuteTime": {
     "end_time": "2016-05-22T14:19:27.004318",
     "start_time": "2016-05-22T14:19:26.704301"
    },
    "collapsed": false
   },
   "outputs": [
    {
     "data": {
      "text/plain": [
       "<matplotlib.text.Text at 0xfeea240>"
      ]
     },
     "execution_count": 146,
     "metadata": {},
     "output_type": "execute_result"
    },
    {
     "data": {
      "image/png": "[encoded data removed]",
      "text/plain": [
       "<matplotlib.figure.Figure at 0x11bfcfd0>"
      ]
     },
     "metadata": {},
     "output_type": "display_data"
    }
   ],
   "source": [
    "sns.factorplot(x='Pclass', y='Survived', hue='Sex', data=df, kind='bar', size=5, aspect=1.5, ci=None)\n",
    "plt.title('Survival Rate by Class and Gender')"
   ]
  },
  {
   "cell_type": "markdown",
   "metadata": {},
   "source": [
    "### Survival rate by age\n",
    "\n",
    "Before we start dealing with the `age` column, we will fill missing values with the median value of each passengers group. The group is defined as people of the same *gender* in the same *class* having the same *title*."
   ]
  },
  {
   "cell_type": "code",
   "execution_count": 147,
   "metadata": {
    "ExecuteTime": {
     "end_time": "2016-05-22T14:19:27.025319",
     "start_time": "2016-05-22T14:19:27.005318"
    },
    "collapsed": false
   },
   "outputs": [
    {
     "data": {
      "text/html": [
       "<div>\n",
       "<table border=\"1\" class=\"dataframe\">\n",
       "  <thead>\n",
       "    <tr>\n",
       "      <th>Sex</th>\n",
       "      <th colspan=\"3\" halign=\"left\">female</th>\n",
       "      <th colspan=\"3\" halign=\"left\">male</th>\n",
       "    </tr>\n",
       "    <tr>\n",
       "      <th>Pclass</th>\n",
       "      <th>1</th>\n",
       "      <th>2</th>\n",
       "      <th>3</th>\n",
       "      <th>1</th>\n",
       "      <th>2</th>\n",
       "      <th>3</th>\n",
       "    </tr>\n",
       "    <tr>\n",
       "      <th>Title</th>\n",
       "      <th></th>\n",
       "      <th></th>\n",
       "      <th></th>\n",
       "      <th></th>\n",
       "      <th></th>\n",
       "      <th></th>\n",
       "    </tr>\n",
       "  </thead>\n",
       "  <tbody>\n",
       "    <tr>\n",
       "      <th>Master</th>\n",
       "      <td>NaN</td>\n",
       "      <td>NaN</td>\n",
       "      <td>NaN</td>\n",
       "      <td>4.0</td>\n",
       "      <td>1.0</td>\n",
       "      <td>4.0</td>\n",
       "    </tr>\n",
       "    <tr>\n",
       "      <th>Miss</th>\n",
       "      <td>30.0</td>\n",
       "      <td>24.0</td>\n",
       "      <td>18.0</td>\n",
       "      <td>NaN</td>\n",
       "      <td>NaN</td>\n",
       "      <td>NaN</td>\n",
       "    </tr>\n",
       "    <tr>\n",
       "      <th>Mr</th>\n",
       "      <td>NaN</td>\n",
       "      <td>NaN</td>\n",
       "      <td>NaN</td>\n",
       "      <td>40.0</td>\n",
       "      <td>31.0</td>\n",
       "      <td>26.0</td>\n",
       "    </tr>\n",
       "    <tr>\n",
       "      <th>Mrs</th>\n",
       "      <td>40.0</td>\n",
       "      <td>31.5</td>\n",
       "      <td>31.0</td>\n",
       "      <td>NaN</td>\n",
       "      <td>NaN</td>\n",
       "      <td>NaN</td>\n",
       "    </tr>\n",
       "    <tr>\n",
       "      <th>Officer</th>\n",
       "      <td>49.0</td>\n",
       "      <td>NaN</td>\n",
       "      <td>NaN</td>\n",
       "      <td>51.0</td>\n",
       "      <td>46.5</td>\n",
       "      <td>NaN</td>\n",
       "    </tr>\n",
       "    <tr>\n",
       "      <th>Royalty</th>\n",
       "      <td>40.5</td>\n",
       "      <td>NaN</td>\n",
       "      <td>NaN</td>\n",
       "      <td>40.0</td>\n",
       "      <td>NaN</td>\n",
       "      <td>NaN</td>\n",
       "    </tr>\n",
       "  </tbody>\n",
       "</table>\n",
       "</div>"
      ],
      "text/plain": [
       "Sex     female              male            \n",
       "Pclass       1     2     3     1     2     3\n",
       "Title                                       \n",
       "Master     NaN   NaN   NaN   4.0   1.0   4.0\n",
       "Miss      30.0  24.0  18.0   NaN   NaN   NaN\n",
       "Mr         NaN   NaN   NaN  40.0  31.0  26.0\n",
       "Mrs       40.0  31.5  31.0   NaN   NaN   NaN\n",
       "Officer   49.0   NaN   NaN  51.0  46.5   NaN\n",
       "Royalty   40.5   NaN   NaN  40.0   NaN   NaN"
      ]
     },
     "execution_count": 147,
     "metadata": {},
     "output_type": "execute_result"
    }
   ],
   "source": [
    "median_ages = df.pivot_table('Age', index=['Title'], columns=['Sex', 'Pclass'], aggfunc='median')\n",
    "median_ages"
   ]
  },
  {
   "cell_type": "code",
   "execution_count": 148,
   "metadata": {
    "ExecuteTime": {
     "end_time": "2016-05-22T14:19:27.154326",
     "start_time": "2016-05-22T14:19:27.026319"
    },
    "collapsed": false
   },
   "outputs": [
    {
     "data": {
      "text/html": [
       "<div>\n",
       "<table border=\"1\" class=\"dataframe\">\n",
       "  <thead>\n",
       "    <tr style=\"text-align: right;\">\n",
       "      <th></th>\n",
       "      <th>Age</th>\n",
       "      <th>Title</th>\n",
       "      <th>Sex</th>\n",
       "      <th>Pclass</th>\n",
       "    </tr>\n",
       "    <tr>\n",
       "      <th>PassengerId</th>\n",
       "      <th></th>\n",
       "      <th></th>\n",
       "      <th></th>\n",
       "      <th></th>\n",
       "    </tr>\n",
       "  </thead>\n",
       "  <tbody>\n",
       "    <tr>\n",
       "      <th>6</th>\n",
       "      <td>26.0</td>\n",
       "      <td>Mr</td>\n",
       "      <td>male</td>\n",
       "      <td>3</td>\n",
       "    </tr>\n",
       "    <tr>\n",
       "      <th>18</th>\n",
       "      <td>31.0</td>\n",
       "      <td>Mr</td>\n",
       "      <td>male</td>\n",
       "      <td>2</td>\n",
       "    </tr>\n",
       "    <tr>\n",
       "      <th>20</th>\n",
       "      <td>31.0</td>\n",
       "      <td>Mrs</td>\n",
       "      <td>female</td>\n",
       "      <td>3</td>\n",
       "    </tr>\n",
       "    <tr>\n",
       "      <th>27</th>\n",
       "      <td>26.0</td>\n",
       "      <td>Mr</td>\n",
       "      <td>male</td>\n",
       "      <td>3</td>\n",
       "    </tr>\n",
       "    <tr>\n",
       "      <th>29</th>\n",
       "      <td>18.0</td>\n",
       "      <td>Miss</td>\n",
       "      <td>female</td>\n",
       "      <td>3</td>\n",
       "    </tr>\n",
       "  </tbody>\n",
       "</table>\n",
       "</div>"
      ],
      "text/plain": [
       "              Age Title     Sex  Pclass\n",
       "PassengerId                            \n",
       "6            26.0    Mr    male       3\n",
       "18           31.0    Mr    male       2\n",
       "20           31.0   Mrs  female       3\n",
       "27           26.0    Mr    male       3\n",
       "29           18.0  Miss  female       3"
      ]
     },
     "execution_count": 148,
     "metadata": {},
     "output_type": "execute_result"
    }
   ],
   "source": [
    "def age_guesser(person):\n",
    "    gender = person['Sex']\n",
    "    persons_age = median_ages[gender].loc[person['Title'], person['Pclass']]\n",
    "    return persons_age\n",
    "\n",
    "unknown_age = df['Age'].isnull()\n",
    "people_w_unknown_age = df.loc[unknown_age, [\"Age\", \"Title\", \"Sex\", \"Pclass\"]]\n",
    "\n",
    "people_w_unknown_age['Age'] = people_w_unknown_age.apply(age_guesser, axis=1)\n",
    "people_w_unknown_age.head()"
   ]
  },
  {
   "cell_type": "markdown",
   "metadata": {},
   "source": [
    "Above we can see that people were given the median age of their group.\n",
    "\n",
    "Now we can create a new column `new_age` with ages for all passengers."
   ]
  },
  {
   "cell_type": "code",
   "execution_count": 149,
   "metadata": {
    "ExecuteTime": {
     "end_time": "2016-05-22T14:19:27.181328",
     "start_time": "2016-05-22T14:19:27.155326"
    },
    "collapsed": false
   },
   "outputs": [
    {
     "data": {
      "text/html": [
       "<div>\n",
       "<table border=\"1\" class=\"dataframe\">\n",
       "  <thead>\n",
       "    <tr style=\"text-align: right;\">\n",
       "      <th></th>\n",
       "      <th>Survived</th>\n",
       "      <th>Pclass</th>\n",
       "      <th>Name</th>\n",
       "      <th>Sex</th>\n",
       "      <th>Age</th>\n",
       "      <th>SibSp</th>\n",
       "      <th>Parch</th>\n",
       "      <th>Ticket</th>\n",
       "      <th>Fare</th>\n",
       "      <th>Cabin</th>\n",
       "      <th>Embarked</th>\n",
       "      <th>Title</th>\n",
       "      <th>new_age</th>\n",
       "    </tr>\n",
       "    <tr>\n",
       "      <th>PassengerId</th>\n",
       "      <th></th>\n",
       "      <th></th>\n",
       "      <th></th>\n",
       "      <th></th>\n",
       "      <th></th>\n",
       "      <th></th>\n",
       "      <th></th>\n",
       "      <th></th>\n",
       "      <th></th>\n",
       "      <th></th>\n",
       "      <th></th>\n",
       "      <th></th>\n",
       "      <th></th>\n",
       "    </tr>\n",
       "  </thead>\n",
       "  <tbody>\n",
       "    <tr>\n",
       "      <th>1</th>\n",
       "      <td>0</td>\n",
       "      <td>3</td>\n",
       "      <td>Braund, Mr. Owen Harris</td>\n",
       "      <td>male</td>\n",
       "      <td>22.0</td>\n",
       "      <td>1</td>\n",
       "      <td>0</td>\n",
       "      <td>A/5 21171</td>\n",
       "      <td>7.2500</td>\n",
       "      <td>NaN</td>\n",
       "      <td>S</td>\n",
       "      <td>Mr</td>\n",
       "      <td>22.0</td>\n",
       "    </tr>\n",
       "    <tr>\n",
       "      <th>2</th>\n",
       "      <td>1</td>\n",
       "      <td>1</td>\n",
       "      <td>Cumings, Mrs. John Bradley (Florence Briggs Th...</td>\n",
       "      <td>female</td>\n",
       "      <td>38.0</td>\n",
       "      <td>1</td>\n",
       "      <td>0</td>\n",
       "      <td>PC 17599</td>\n",
       "      <td>71.2833</td>\n",
       "      <td>C85</td>\n",
       "      <td>C</td>\n",
       "      <td>Mrs</td>\n",
       "      <td>38.0</td>\n",
       "    </tr>\n",
       "    <tr>\n",
       "      <th>3</th>\n",
       "      <td>1</td>\n",
       "      <td>3</td>\n",
       "      <td>Heikkinen, Miss. Laina</td>\n",
       "      <td>female</td>\n",
       "      <td>26.0</td>\n",
       "      <td>0</td>\n",
       "      <td>0</td>\n",
       "      <td>STON/O2. 3101282</td>\n",
       "      <td>7.9250</td>\n",
       "      <td>NaN</td>\n",
       "      <td>S</td>\n",
       "      <td>Miss</td>\n",
       "      <td>26.0</td>\n",
       "    </tr>\n",
       "    <tr>\n",
       "      <th>4</th>\n",
       "      <td>1</td>\n",
       "      <td>1</td>\n",
       "      <td>Futrelle, Mrs. Jacques Heath (Lily May Peel)</td>\n",
       "      <td>female</td>\n",
       "      <td>35.0</td>\n",
       "      <td>1</td>\n",
       "      <td>0</td>\n",
       "      <td>113803</td>\n",
       "      <td>53.1000</td>\n",
       "      <td>C123</td>\n",
       "      <td>S</td>\n",
       "      <td>Mrs</td>\n",
       "      <td>35.0</td>\n",
       "    </tr>\n",
       "    <tr>\n",
       "      <th>5</th>\n",
       "      <td>0</td>\n",
       "      <td>3</td>\n",
       "      <td>Allen, Mr. William Henry</td>\n",
       "      <td>male</td>\n",
       "      <td>35.0</td>\n",
       "      <td>0</td>\n",
       "      <td>0</td>\n",
       "      <td>373450</td>\n",
       "      <td>8.0500</td>\n",
       "      <td>NaN</td>\n",
       "      <td>S</td>\n",
       "      <td>Mr</td>\n",
       "      <td>35.0</td>\n",
       "    </tr>\n",
       "    <tr>\n",
       "      <th>6</th>\n",
       "      <td>0</td>\n",
       "      <td>3</td>\n",
       "      <td>Moran, Mr. James</td>\n",
       "      <td>male</td>\n",
       "      <td>NaN</td>\n",
       "      <td>0</td>\n",
       "      <td>0</td>\n",
       "      <td>330877</td>\n",
       "      <td>8.4583</td>\n",
       "      <td>NaN</td>\n",
       "      <td>Q</td>\n",
       "      <td>Mr</td>\n",
       "      <td>26.0</td>\n",
       "    </tr>\n",
       "    <tr>\n",
       "      <th>7</th>\n",
       "      <td>0</td>\n",
       "      <td>1</td>\n",
       "      <td>McCarthy, Mr. Timothy J</td>\n",
       "      <td>male</td>\n",
       "      <td>54.0</td>\n",
       "      <td>0</td>\n",
       "      <td>0</td>\n",
       "      <td>17463</td>\n",
       "      <td>51.8625</td>\n",
       "      <td>E46</td>\n",
       "      <td>S</td>\n",
       "      <td>Mr</td>\n",
       "      <td>54.0</td>\n",
       "    </tr>\n",
       "  </tbody>\n",
       "</table>\n",
       "</div>"
      ],
      "text/plain": [
       "             Survived  Pclass  \\\n",
       "PassengerId                     \n",
       "1                   0       3   \n",
       "2                   1       1   \n",
       "3                   1       3   \n",
       "4                   1       1   \n",
       "5                   0       3   \n",
       "6                   0       3   \n",
       "7                   0       1   \n",
       "\n",
       "                                                          Name     Sex   Age  \\\n",
       "PassengerId                                                                    \n",
       "1                                      Braund, Mr. Owen Harris    male  22.0   \n",
       "2            Cumings, Mrs. John Bradley (Florence Briggs Th...  female  38.0   \n",
       "3                                       Heikkinen, Miss. Laina  female  26.0   \n",
       "4                 Futrelle, Mrs. Jacques Heath (Lily May Peel)  female  35.0   \n",
       "5                                     Allen, Mr. William Henry    male  35.0   \n",
       "6                                             Moran, Mr. James    male   NaN   \n",
       "7                                      McCarthy, Mr. Timothy J    male  54.0   \n",
       "\n",
       "             SibSp  Parch            Ticket     Fare Cabin Embarked Title  \\\n",
       "PassengerId                                                                 \n",
       "1                1      0         A/5 21171   7.2500   NaN        S    Mr   \n",
       "2                1      0          PC 17599  71.2833   C85        C   Mrs   \n",
       "3                0      0  STON/O2. 3101282   7.9250   NaN        S  Miss   \n",
       "4                1      0            113803  53.1000  C123        S   Mrs   \n",
       "5                0      0            373450   8.0500   NaN        S    Mr   \n",
       "6                0      0            330877   8.4583   NaN        Q    Mr   \n",
       "7                0      0             17463  51.8625   E46        S    Mr   \n",
       "\n",
       "             new_age  \n",
       "PassengerId           \n",
       "1               22.0  \n",
       "2               38.0  \n",
       "3               26.0  \n",
       "4               35.0  \n",
       "5               35.0  \n",
       "6               26.0  \n",
       "7               54.0  "
      ]
     },
     "execution_count": 149,
     "metadata": {},
     "output_type": "execute_result"
    }
   ],
   "source": [
    "known_age = df['Age'].notnull()\n",
    "people_w_known_age = df.loc[known_age, [\"Age\", \"Title\", \"Sex\", \"Pclass\"]]\n",
    "\n",
    "df['new_age'] = pd.concat([people_w_known_age['Age'], people_w_unknown_age['Age']])\n",
    "df.head(7)"
   ]
  },
  {
   "cell_type": "markdown",
   "metadata": {},
   "source": [
    "Let's compare distributions of age densities in different classes, before and after filling the missing values."
   ]
  },
  {
   "cell_type": "code",
   "execution_count": 150,
   "metadata": {
    "ExecuteTime": {
     "end_time": "2016-05-22T14:19:27.755361",
     "start_time": "2016-05-22T14:19:27.182328"
    },
    "collapsed": false
   },
   "outputs": [
    {
     "data": {
      "text/plain": [
       "(0, 0.05)"
      ]
     },
     "execution_count": 150,
     "metadata": {},
     "output_type": "execute_result"
    },
    {
     "data": {
      "image/png": "[encoded data removed]",
      "text/plain": [
       "<matplotlib.figure.Figure at 0xff5c0b8>"
      ]
     },
     "metadata": {},
     "output_type": "display_data"
    }
   ],
   "source": [
    "for pclass in [1, 2, 3]:\n",
    "    plt.subplot(211)\n",
    "    df[df['Pclass'] == pclass]['Age'].plot.kde(figsize=(12,10))\n",
    "    plt.subplot(212)\n",
    "    df[df['Pclass'] == pclass]['new_age'].plot.kde()\n",
    "plt.suptitle('Age Density by Passenger Class', size=12)\n",
    "\n",
    "plt.subplot(211)\n",
    "plt.xlabel('Age - before filling missing values')\n",
    "plt.legend(('1st Class', '2nd Class', '3rd Class'))\n",
    "plt.xlim(-10,90)\n",
    "plt.ylim(0, 0.05)\n",
    "\n",
    "plt.subplot(212)\n",
    "plt.xlabel('Age - values filled')\n",
    "plt.legend(('1st Class', '2nd Class', '3rd Class'))\n",
    "plt.xlim(-10,90)\n",
    "plt.ylim(0, 0.05)"
   ]
  },
  {
   "cell_type": "markdown",
   "metadata": {},
   "source": [
    "We'll use `new_age` for further analysis."
   ]
  },
  {
   "cell_type": "code",
   "execution_count": 151,
   "metadata": {
    "ExecuteTime": {
     "end_time": "2016-05-22T14:19:28.322393",
     "start_time": "2016-05-22T14:19:27.756361"
    },
    "collapsed": false,
    "scrolled": false
   },
   "outputs": [
    {
     "data": {
      "text/plain": [
       "<matplotlib.text.Text at 0x11c00d68>"
      ]
     },
     "execution_count": 151,
     "metadata": {},
     "output_type": "execute_result"
    },
    {
     "data": {
      "image/png": "[encoded data removed]",
      "text/plain": [
       "<matplotlib.figure.Figure at 0x1333e240>"
      ]
     },
     "metadata": {},
     "output_type": "display_data"
    }
   ],
   "source": [
    "sns.regplot(x='new_age', y='Survived', data=df, x_bins=100, x_ci=None)\n",
    "plt.xlim(0, None)\n",
    "plt.title('Survival Rate by Age Group')"
   ]
  },
  {
   "cell_type": "code",
   "execution_count": 152,
   "metadata": {
    "ExecuteTime": {
     "end_time": "2016-05-22T14:19:28.639411",
     "start_time": "2016-05-22T14:19:28.323393"
    },
    "collapsed": false,
    "scrolled": false
   },
   "outputs": [
    {
     "data": {
      "text/plain": [
       "<matplotlib.axes._subplots.AxesSubplot at 0x1173edd8>"
      ]
     },
     "execution_count": 152,
     "metadata": {},
     "output_type": "execute_result"
    },
    {
     "data": {
      "image/png": "[encoded data removed]",
      "text/plain": [
       "<matplotlib.figure.Figure at 0x607d5c0>"
      ]
     },
     "metadata": {},
     "output_type": "display_data"
    }
   ],
   "source": [
    "age_bins = np.arange(0, 81, 5)\n",
    "age_groups = pd.cut(df['new_age'], age_bins)\n",
    "grouped_ages = df.groupby(age_groups)\n",
    "\n",
    "age_survival_1 = grouped_ages['Survived'].mean()\n",
    "\n",
    "age_survival_1.plot(kind='bar')"
   ]
  },
  {
   "cell_type": "markdown",
   "metadata": {},
   "source": [
    "### Family on Titanic\n",
    "\n",
    "We'll combine two columns: `SibSp` and `Parch`, and categorize passengers by number of family members on Titanic."
   ]
  },
  {
   "cell_type": "code",
   "execution_count": 153,
   "metadata": {
    "ExecuteTime": {
     "end_time": "2016-05-22T14:19:28.646412",
     "start_time": "2016-05-22T14:19:28.640411"
    },
    "collapsed": false
   },
   "outputs": [
    {
     "data": {
      "text/plain": [
       "0     537\n",
       "1     161\n",
       "2     102\n",
       "3      29\n",
       "5      22\n",
       "4      15\n",
       "6      12\n",
       "10      7\n",
       "7       6\n",
       "Name: family, dtype: int64"
      ]
     },
     "execution_count": 153,
     "metadata": {},
     "output_type": "execute_result"
    }
   ],
   "source": [
    "df['family'] = df['SibSp'] + df['Parch']\n",
    "df['family'].value_counts()"
   ]
  },
  {
   "cell_type": "code",
   "execution_count": 154,
   "metadata": {
    "ExecuteTime": {
     "end_time": "2016-05-22T14:19:28.894426",
     "start_time": "2016-05-22T14:19:28.647412"
    },
    "collapsed": false
   },
   "outputs": [
    {
     "data": {
      "text/plain": [
       "<matplotlib.text.Text at 0x1171bc88>"
      ]
     },
     "execution_count": 154,
     "metadata": {},
     "output_type": "execute_result"
    },
    {
     "data": {
      "image/png": "[encoded data removed]",
      "text/plain": [
       "<matplotlib.figure.Figure at 0x116b11d0>"
      ]
     },
     "metadata": {},
     "output_type": "display_data"
    }
   ],
   "source": [
    "sns.factorplot(x='family', y='Survived', data=df, kind='bar', size=5, ci=None)\n",
    "plt.title('Survival Rate by Family Size')"
   ]
  },
  {
   "cell_type": "markdown",
   "metadata": {},
   "source": [
    "We'll create three values:\n",
    "- 0 - for people with no family on Titanic\n",
    "- 1 - for people with small family (1-2 members) on Titanic\n",
    "- 2 - for people with large family (3+ members) on Titanic"
   ]
  },
  {
   "cell_type": "code",
   "execution_count": 155,
   "metadata": {
    "ExecuteTime": {
     "end_time": "2016-05-22T14:19:28.905426",
     "start_time": "2016-05-22T14:19:28.895426"
    },
    "collapsed": false
   },
   "outputs": [],
   "source": [
    "df.loc[df['family'].isin([1, 2]), 'family'] = 1\n",
    "df.loc[df['family'] > 2, 'family'] = 2"
   ]
  },
  {
   "cell_type": "code",
   "execution_count": 156,
   "metadata": {
    "ExecuteTime": {
     "end_time": "2016-05-22T14:19:29.164441",
     "start_time": "2016-05-22T14:19:28.906426"
    },
    "collapsed": false
   },
   "outputs": [
    {
     "data": {
      "text/plain": [
       "<matplotlib.text.Text at 0x117c77f0>"
      ]
     },
     "execution_count": 156,
     "metadata": {},
     "output_type": "execute_result"
    },
    {
     "data": {
      "image/png": "[encoded data removed]",
      "text/plain": [
       "<matplotlib.figure.Figure at 0x11703390>"
      ]
     },
     "metadata": {},
     "output_type": "display_data"
    }
   ],
   "source": [
    "sns.factorplot(x='Sex', y='Survived', data=df, kind='bar', size=5, ci=None, hue='family', legend=False)\n",
    "plt.legend(('No family', 'Small family (1-2 members)', 'Large family'), loc='best')\n",
    "plt.title('Survival Rate by Gender and Family Size')"
   ]
  },
  {
   "cell_type": "code",
   "execution_count": 157,
   "metadata": {
    "ExecuteTime": {
     "end_time": "2016-05-22T14:19:29.462458",
     "start_time": "2016-05-22T14:19:29.165441"
    },
    "collapsed": false
   },
   "outputs": [
    {
     "data": {
      "text/plain": [
       "<matplotlib.text.Text at 0x1180f518>"
      ]
     },
     "execution_count": 157,
     "metadata": {},
     "output_type": "execute_result"
    },
    {
     "data": {
      "image/png": "[encoded data removed]",
      "text/plain": [
       "<matplotlib.figure.Figure at 0x117dd518>"
      ]
     },
     "metadata": {},
     "output_type": "display_data"
    }
   ],
   "source": [
    "sns.factorplot(x='Pclass', y='Survived', data=df, kind='bar', size=5, aspect=1.5, ci=None, hue='family', legend=False)\n",
    "plt.legend(('No family', 'Small family (1-2 members)', 'Large family'), loc='best')\n",
    "plt.title('Survival Rate by Class and Family Size')"
   ]
  },
  {
   "cell_type": "code",
   "execution_count": 158,
   "metadata": {
    "ExecuteTime": {
     "end_time": "2016-05-22T14:19:29.497460",
     "start_time": "2016-05-22T14:19:29.463458"
    },
    "collapsed": false
   },
   "outputs": [
    {
     "data": {
      "text/html": [
       "<div>\n",
       "<table border=\"1\" class=\"dataframe\">\n",
       "  <thead>\n",
       "    <tr style=\"text-align: right;\">\n",
       "      <th></th>\n",
       "      <th>family</th>\n",
       "      <th>0</th>\n",
       "      <th>1</th>\n",
       "      <th>2</th>\n",
       "      <th>All</th>\n",
       "    </tr>\n",
       "    <tr>\n",
       "      <th>Sex</th>\n",
       "      <th>Pclass</th>\n",
       "      <th></th>\n",
       "      <th></th>\n",
       "      <th></th>\n",
       "      <th></th>\n",
       "    </tr>\n",
       "  </thead>\n",
       "  <tbody>\n",
       "    <tr>\n",
       "      <th rowspan=\"3\" valign=\"top\">female</th>\n",
       "      <th>1</th>\n",
       "      <td>0.970588</td>\n",
       "      <td>1.000000</td>\n",
       "      <td>0.750000</td>\n",
       "      <td>0.968085</td>\n",
       "    </tr>\n",
       "    <tr>\n",
       "      <th>2</th>\n",
       "      <td>0.906250</td>\n",
       "      <td>0.909091</td>\n",
       "      <td>1.000000</td>\n",
       "      <td>0.921053</td>\n",
       "    </tr>\n",
       "    <tr>\n",
       "      <th>3</th>\n",
       "      <td>0.616667</td>\n",
       "      <td>0.529412</td>\n",
       "      <td>0.242424</td>\n",
       "      <td>0.500000</td>\n",
       "    </tr>\n",
       "    <tr>\n",
       "      <th rowspan=\"3\" valign=\"top\">male</th>\n",
       "      <th>1</th>\n",
       "      <td>0.333333</td>\n",
       "      <td>0.404762</td>\n",
       "      <td>0.600000</td>\n",
       "      <td>0.368852</td>\n",
       "    </tr>\n",
       "    <tr>\n",
       "      <th>2</th>\n",
       "      <td>0.097222</td>\n",
       "      <td>0.281250</td>\n",
       "      <td>0.250000</td>\n",
       "      <td>0.157407</td>\n",
       "    </tr>\n",
       "    <tr>\n",
       "      <th>3</th>\n",
       "      <td>0.121212</td>\n",
       "      <td>0.245283</td>\n",
       "      <td>0.066667</td>\n",
       "      <td>0.135447</td>\n",
       "    </tr>\n",
       "    <tr>\n",
       "      <th>All</th>\n",
       "      <th></th>\n",
       "      <td>0.303538</td>\n",
       "      <td>0.562738</td>\n",
       "      <td>0.340659</td>\n",
       "      <td>0.383838</td>\n",
       "    </tr>\n",
       "  </tbody>\n",
       "</table>\n",
       "</div>"
      ],
      "text/plain": [
       "family                0         1         2       All\n",
       "Sex    Pclass                                        \n",
       "female 1       0.970588  1.000000  0.750000  0.968085\n",
       "       2       0.906250  0.909091  1.000000  0.921053\n",
       "       3       0.616667  0.529412  0.242424  0.500000\n",
       "male   1       0.333333  0.404762  0.600000  0.368852\n",
       "       2       0.097222  0.281250  0.250000  0.157407\n",
       "       3       0.121212  0.245283  0.066667  0.135447\n",
       "All            0.303538  0.562738  0.340659  0.383838"
      ]
     },
     "execution_count": 158,
     "metadata": {},
     "output_type": "execute_result"
    }
   ],
   "source": [
    "df.pivot_table('Survived', index=['Sex', 'Pclass'], columns=['family'], margins=True)"
   ]
  },
  {
   "cell_type": "markdown",
   "metadata": {},
   "source": [
    "### Embarkment\n",
    "\n",
    "- S - Southampton\n",
    "- C - Cherbourg\n",
    "- Q - Queenstown"
   ]
  },
  {
   "cell_type": "code",
   "execution_count": 159,
   "metadata": {
    "ExecuteTime": {
     "end_time": "2016-05-22T14:19:29.687471",
     "start_time": "2016-05-22T14:19:29.498460"
    },
    "collapsed": false
   },
   "outputs": [
    {
     "data": {
      "text/plain": [
       "<matplotlib.text.Text at 0x11a077b8>"
      ]
     },
     "execution_count": 159,
     "metadata": {},
     "output_type": "execute_result"
    },
    {
     "data": {
      "image/png": "[encoded data removed]",
      "text/plain": [
       "<matplotlib.figure.Figure at 0x11c3a438>"
      ]
     },
     "metadata": {},
     "output_type": "display_data"
    }
   ],
   "source": [
    "sns.factorplot(x='Embarked', y='Survived', data=df, kind='bar', size=5, ci=None)\n",
    "plt.title('Survival Rate by Embarkment Location')"
   ]
  },
  {
   "cell_type": "markdown",
   "metadata": {},
   "source": [
    "Why Cherbourg has higher survival rate? Let's explore passengers' gender and class for each embarkment location:"
   ]
  },
  {
   "cell_type": "code",
   "execution_count": 160,
   "metadata": {
    "ExecuteTime": {
     "end_time": "2016-05-22T14:19:29.948486",
     "start_time": "2016-05-22T14:19:29.688471"
    },
    "collapsed": false
   },
   "outputs": [
    {
     "data": {
      "text/plain": [
       "<matplotlib.text.Text at 0x11a6ba58>"
      ]
     },
     "execution_count": 160,
     "metadata": {},
     "output_type": "execute_result"
    },
    {
     "data": {
      "image/png": "[encoded data removed]",
      "text/plain": [
       "<matplotlib.figure.Figure at 0x11c482b0>"
      ]
     },
     "metadata": {},
     "output_type": "display_data"
    }
   ],
   "source": [
    "sns.countplot(x='Embarked', hue='Sex', data=df)\n",
    "plt.title('Number of Passengers by Embarkment Location and Class')"
   ]
  },
  {
   "cell_type": "code",
   "execution_count": 161,
   "metadata": {
    "ExecuteTime": {
     "end_time": "2016-05-22T14:19:30.223502",
     "start_time": "2016-05-22T14:19:29.949486"
    },
    "collapsed": false,
    "scrolled": false
   },
   "outputs": [
    {
     "data": {
      "text/plain": [
       "<matplotlib.text.Text at 0x11ae7d30>"
      ]
     },
     "execution_count": 161,
     "metadata": {},
     "output_type": "execute_result"
    },
    {
     "data": {
      "image/png": "[encoded data removed]",
      "text/plain": [
       "<matplotlib.figure.Figure at 0x11ab2048>"
      ]
     },
     "metadata": {},
     "output_type": "display_data"
    }
   ],
   "source": [
    "sns.countplot(x='Embarked', hue='Pclass', data=df)\n",
    "plt.title('Number of Passengers by Embarkment Location and Class')"
   ]
  },
  {
   "cell_type": "markdown",
   "metadata": {},
   "source": [
    "Passengers from Southampton were mostly male and mostly travelled in 3rd class, and we've seen earlier males in general had much lower survival rate than females.  \n",
    "Majority of passengers from Queenstown were 3rd class passengers, and we've seen earlier that 3rd class passengers had lower survival rate than passengers in first two classes.\n",
    "\n",
    "Passengers from Cherbourg had better both gender and class split, increasing their survival rates."
   ]
  },
  {
   "cell_type": "markdown",
   "metadata": {},
   "source": [
    "### Survival rate by title"
   ]
  },
  {
   "cell_type": "code",
   "execution_count": 162,
   "metadata": {
    "ExecuteTime": {
     "end_time": "2016-05-22T14:19:30.453515",
     "start_time": "2016-05-22T14:19:30.224502"
    },
    "collapsed": false
   },
   "outputs": [
    {
     "data": {
      "text/plain": [
       "<matplotlib.text.Text at 0x11b723c8>"
      ]
     },
     "execution_count": 162,
     "metadata": {},
     "output_type": "execute_result"
    },
    {
     "data": {
      "image/png": "[encoded data removed]",
      "text/plain": [
       "<matplotlib.figure.Figure at 0x11ae46d8>"
      ]
     },
     "metadata": {},
     "output_type": "display_data"
    }
   ],
   "source": [
    "sns.factorplot(x='Title', y='Survived', data=df, kind='bar', size=5, aspect=1.5, ci=None)\n",
    "plt.title('Survival Rate by Title')"
   ]
  },
  {
   "cell_type": "markdown",
   "metadata": {},
   "source": [
    "### Survival rate by fare"
   ]
  },
  {
   "cell_type": "code",
   "execution_count": 163,
   "metadata": {
    "ExecuteTime": {
     "end_time": "2016-05-22T14:19:31.587580",
     "start_time": "2016-05-22T14:19:30.454515"
    },
    "collapsed": false
   },
   "outputs": [
    {
     "data": {
      "text/plain": [
       "[None, (1.0, 1000.0)]"
      ]
     },
     "execution_count": 163,
     "metadata": {},
     "output_type": "execute_result"
    },
    {
     "data": {
      "image/png": "[encoded data removed]",
      "text/plain": [
       "<matplotlib.figure.Figure at 0x11b6c208>"
      ]
     },
     "metadata": {},
     "output_type": "display_data"
    }
   ],
   "source": [
    "ax = sns.regplot(x='Fare', y='Survived', data=df, x_bins=150, x_ci=None)\n",
    "ax.set(xscale=\"log\", xlim=(1e0, 1e3))"
   ]
  },
  {
   "cell_type": "markdown",
   "metadata": {},
   "source": [
    "The more you pay, the higher the chances. Probably has to do with different prices for different classes:"
   ]
  },
  {
   "cell_type": "code",
   "execution_count": 164,
   "metadata": {
    "ExecuteTime": {
     "end_time": "2016-05-22T14:19:32.259618",
     "start_time": "2016-05-22T14:19:31.588580"
    },
    "collapsed": false
   },
   "outputs": [
    {
     "data": {
      "text/plain": [
       "<matplotlib.legend.Legend at 0x11ac3e80>"
      ]
     },
     "execution_count": 164,
     "metadata": {},
     "output_type": "execute_result"
    },
    {
     "data": {
      "image/png": "[encoded data removed]",
      "text/plain": [
       "<matplotlib.figure.Figure at 0x11f17e10>"
      ]
     },
     "metadata": {},
     "output_type": "display_data"
    }
   ],
   "source": [
    "for pclass in [1, 2, 3]:\n",
    "    ax = df[df['Pclass'] == pclass]['Fare'].plot.kde()\n",
    "ax.set(xscale=\"log\", xlim=(1e0, 1e3))\n",
    "plt.legend(('1st Class', '2nd Class', '3rd Class'))"
   ]
  },
  {
   "cell_type": "markdown",
   "metadata": {},
   "source": [
    "We'll create four classes of passengers based on `Fare` quartiles:"
   ]
  },
  {
   "cell_type": "code",
   "execution_count": 165,
   "metadata": {
    "ExecuteTime": {
     "end_time": "2016-05-22T14:19:32.267619",
     "start_time": "2016-05-22T14:19:32.260618"
    },
    "collapsed": false
   },
   "outputs": [
    {
     "data": {
      "text/plain": [
       "0    223\n",
       "1    224\n",
       "2    222\n",
       "3    222\n",
       "Name: fare_class, dtype: int64"
      ]
     },
     "execution_count": 165,
     "metadata": {},
     "output_type": "execute_result"
    }
   ],
   "source": [
    "df['fare_class'] = pd.qcut(df['Fare'], 4, labels=range(4)).astype(int)\n",
    "df['fare_class'].value_counts(sort=False)"
   ]
  },
  {
   "cell_type": "code",
   "execution_count": 166,
   "metadata": {
    "ExecuteTime": {
     "end_time": "2016-05-22T14:19:32.475631",
     "start_time": "2016-05-22T14:19:32.268619"
    },
    "collapsed": false
   },
   "outputs": [
    {
     "data": {
      "text/plain": [
       "<seaborn.axisgrid.FacetGrid at 0x117c98d0>"
      ]
     },
     "execution_count": 166,
     "metadata": {},
     "output_type": "execute_result"
    },
    {
     "data": {
      "image/png": "[encoded data removed]",
      "text/plain": [
       "<matplotlib.figure.Figure at 0x151b1ba8>"
      ]
     },
     "metadata": {},
     "output_type": "display_data"
    }
   ],
   "source": [
    "sns.factorplot(x='fare_class', y='Survived', data=df, kind='bar', size=5, ci=None)"
   ]
  },
  {
   "cell_type": "markdown",
   "metadata": {},
   "source": [
    "# Tidying up and preparing data"
   ]
  },
  {
   "cell_type": "code",
   "execution_count": 167,
   "metadata": {
    "ExecuteTime": {
     "end_time": "2016-05-22T14:19:32.484631",
     "start_time": "2016-05-22T14:19:32.476631"
    },
    "collapsed": false
   },
   "outputs": [
    {
     "name": "stdout",
     "output_type": "stream",
     "text": [
      "<class 'pandas.core.frame.DataFrame'>\n",
      "Int64Index: 891 entries, 1 to 891\n",
      "Data columns (total 15 columns):\n",
      "Survived      891 non-null int64\n",
      "Pclass        891 non-null int64\n",
      "Name          891 non-null object\n",
      "Sex           891 non-null object\n",
      "Age           714 non-null float64\n",
      "SibSp         891 non-null int64\n",
      "Parch         891 non-null int64\n",
      "Ticket        891 non-null object\n",
      "Fare          891 non-null float64\n",
      "Cabin         204 non-null object\n",
      "Embarked      891 non-null object\n",
      "Title         891 non-null object\n",
      "new_age       891 non-null float64\n",
      "family        891 non-null int64\n",
      "fare_class    891 non-null int32\n",
      "dtypes: float64(3), int32(1), int64(5), object(6)\n",
      "memory usage: 107.9+ KB\n"
     ]
    }
   ],
   "source": [
    "df.info()"
   ]
  },
  {
   "cell_type": "markdown",
   "metadata": {},
   "source": [
    "We'll drop:\n",
    "\n",
    "- `Name` - extracted titles, we don't need individual names\n",
    "- `Age` - we created `new_age` where we filled all the missing values\n",
    "- `SibSp` - we created `family` where we combined `SibSp` and `Parch`\n",
    "- `Parch` - we created `family` where we combined `SibSp` and `Parch`\n",
    "- `Ticket` - too many unique values, didn't extrract anything useful\n",
    "- `Fare` - we created `fare_class` where we divided passengers into 4 grups depending on `Fare` value\n",
    "- `Cabin` - too many missing values"
   ]
  },
  {
   "cell_type": "code",
   "execution_count": 168,
   "metadata": {
    "ExecuteTime": {
     "end_time": "2016-05-22T14:19:32.500632",
     "start_time": "2016-05-22T14:19:32.485631"
    },
    "collapsed": false
   },
   "outputs": [
    {
     "data": {
      "text/html": [
       "<div>\n",
       "<table border=\"1\" class=\"dataframe\">\n",
       "  <thead>\n",
       "    <tr style=\"text-align: right;\">\n",
       "      <th></th>\n",
       "      <th>Survived</th>\n",
       "      <th>Pclass</th>\n",
       "      <th>Sex</th>\n",
       "      <th>Embarked</th>\n",
       "      <th>Title</th>\n",
       "      <th>new_age</th>\n",
       "      <th>family</th>\n",
       "      <th>fare_class</th>\n",
       "    </tr>\n",
       "    <tr>\n",
       "      <th>PassengerId</th>\n",
       "      <th></th>\n",
       "      <th></th>\n",
       "      <th></th>\n",
       "      <th></th>\n",
       "      <th></th>\n",
       "      <th></th>\n",
       "      <th></th>\n",
       "      <th></th>\n",
       "    </tr>\n",
       "  </thead>\n",
       "  <tbody>\n",
       "    <tr>\n",
       "      <th>1</th>\n",
       "      <td>0</td>\n",
       "      <td>3</td>\n",
       "      <td>male</td>\n",
       "      <td>S</td>\n",
       "      <td>Mr</td>\n",
       "      <td>22.0</td>\n",
       "      <td>1</td>\n",
       "      <td>0</td>\n",
       "    </tr>\n",
       "    <tr>\n",
       "      <th>2</th>\n",
       "      <td>1</td>\n",
       "      <td>1</td>\n",
       "      <td>female</td>\n",
       "      <td>C</td>\n",
       "      <td>Mrs</td>\n",
       "      <td>38.0</td>\n",
       "      <td>1</td>\n",
       "      <td>3</td>\n",
       "    </tr>\n",
       "    <tr>\n",
       "      <th>3</th>\n",
       "      <td>1</td>\n",
       "      <td>3</td>\n",
       "      <td>female</td>\n",
       "      <td>S</td>\n",
       "      <td>Miss</td>\n",
       "      <td>26.0</td>\n",
       "      <td>0</td>\n",
       "      <td>1</td>\n",
       "    </tr>\n",
       "    <tr>\n",
       "      <th>4</th>\n",
       "      <td>1</td>\n",
       "      <td>1</td>\n",
       "      <td>female</td>\n",
       "      <td>S</td>\n",
       "      <td>Mrs</td>\n",
       "      <td>35.0</td>\n",
       "      <td>1</td>\n",
       "      <td>3</td>\n",
       "    </tr>\n",
       "    <tr>\n",
       "      <th>5</th>\n",
       "      <td>0</td>\n",
       "      <td>3</td>\n",
       "      <td>male</td>\n",
       "      <td>S</td>\n",
       "      <td>Mr</td>\n",
       "      <td>35.0</td>\n",
       "      <td>0</td>\n",
       "      <td>1</td>\n",
       "    </tr>\n",
       "  </tbody>\n",
       "</table>\n",
       "</div>"
      ],
      "text/plain": [
       "             Survived  Pclass     Sex Embarked Title  new_age  family  \\\n",
       "PassengerId                                                             \n",
       "1                   0       3    male        S    Mr     22.0       1   \n",
       "2                   1       1  female        C   Mrs     38.0       1   \n",
       "3                   1       3  female        S  Miss     26.0       0   \n",
       "4                   1       1  female        S   Mrs     35.0       1   \n",
       "5                   0       3    male        S    Mr     35.0       0   \n",
       "\n",
       "             fare_class  \n",
       "PassengerId              \n",
       "1                     0  \n",
       "2                     3  \n",
       "3                     1  \n",
       "4                     3  \n",
       "5                     1  "
      ]
     },
     "execution_count": 168,
     "metadata": {},
     "output_type": "execute_result"
    }
   ],
   "source": [
    "not_needed = ['Name', 'Age', 'SibSp', 'Parch', 'Ticket', 'Fare', 'Cabin']\n",
    "\n",
    "df.drop(not_needed, axis=1, inplace=True)\n",
    "df.head()"
   ]
  },
  {
   "cell_type": "markdown",
   "metadata": {},
   "source": [
    "## Creating dummy values for categorical columns\n",
    "\n",
    "`Sex` has only two values so we'll convert that in the new column `male` where 1 will represent males, and 0 will represent females:"
   ]
  },
  {
   "cell_type": "code",
   "execution_count": 169,
   "metadata": {
    "ExecuteTime": {
     "end_time": "2016-05-22T14:19:32.507632",
     "start_time": "2016-05-22T14:19:32.501632"
    },
    "collapsed": true
   },
   "outputs": [],
   "source": [
    "df['male'] = (~df['Sex'].str.contains('fe')).astype(int)\n",
    "df.drop('Sex', axis=1, inplace=True)"
   ]
  },
  {
   "cell_type": "markdown",
   "metadata": {},
   "source": [
    "For other categorical columns, we'll create dummy values:"
   ]
  },
  {
   "cell_type": "code",
   "execution_count": 170,
   "metadata": {
    "ExecuteTime": {
     "end_time": "2016-05-22T14:19:32.551635",
     "start_time": "2016-05-22T14:19:32.508633"
    },
    "collapsed": false
   },
   "outputs": [
    {
     "data": {
      "text/html": [
       "<div>\n",
       "<table border=\"1\" class=\"dataframe\">\n",
       "  <thead>\n",
       "    <tr style=\"text-align: right;\">\n",
       "      <th></th>\n",
       "      <th>Survived</th>\n",
       "      <th>new_age</th>\n",
       "      <th>male</th>\n",
       "      <th>Pclass_1</th>\n",
       "      <th>Pclass_2</th>\n",
       "      <th>Pclass_3</th>\n",
       "      <th>Embarked_C</th>\n",
       "      <th>Embarked_Q</th>\n",
       "      <th>Embarked_S</th>\n",
       "      <th>Title_Master</th>\n",
       "      <th>...</th>\n",
       "      <th>Title_Mrs</th>\n",
       "      <th>Title_Officer</th>\n",
       "      <th>Title_Royalty</th>\n",
       "      <th>family_0</th>\n",
       "      <th>family_1</th>\n",
       "      <th>family_2</th>\n",
       "      <th>fare_class_0</th>\n",
       "      <th>fare_class_1</th>\n",
       "      <th>fare_class_2</th>\n",
       "      <th>fare_class_3</th>\n",
       "    </tr>\n",
       "    <tr>\n",
       "      <th>PassengerId</th>\n",
       "      <th></th>\n",
       "      <th></th>\n",
       "      <th></th>\n",
       "      <th></th>\n",
       "      <th></th>\n",
       "      <th></th>\n",
       "      <th></th>\n",
       "      <th></th>\n",
       "      <th></th>\n",
       "      <th></th>\n",
       "      <th></th>\n",
       "      <th></th>\n",
       "      <th></th>\n",
       "      <th></th>\n",
       "      <th></th>\n",
       "      <th></th>\n",
       "      <th></th>\n",
       "      <th></th>\n",
       "      <th></th>\n",
       "      <th></th>\n",
       "      <th></th>\n",
       "    </tr>\n",
       "  </thead>\n",
       "  <tbody>\n",
       "    <tr>\n",
       "      <th>1</th>\n",
       "      <td>0</td>\n",
       "      <td>22.0</td>\n",
       "      <td>1</td>\n",
       "      <td>0</td>\n",
       "      <td>0</td>\n",
       "      <td>1</td>\n",
       "      <td>0</td>\n",
       "      <td>0</td>\n",
       "      <td>1</td>\n",
       "      <td>0</td>\n",
       "      <td>...</td>\n",
       "      <td>0</td>\n",
       "      <td>0</td>\n",
       "      <td>0</td>\n",
       "      <td>0</td>\n",
       "      <td>1</td>\n",
       "      <td>0</td>\n",
       "      <td>1</td>\n",
       "      <td>0</td>\n",
       "      <td>0</td>\n",
       "      <td>0</td>\n",
       "    </tr>\n",
       "    <tr>\n",
       "      <th>2</th>\n",
       "      <td>1</td>\n",
       "      <td>38.0</td>\n",
       "      <td>0</td>\n",
       "      <td>1</td>\n",
       "      <td>0</td>\n",
       "      <td>0</td>\n",
       "      <td>1</td>\n",
       "      <td>0</td>\n",
       "      <td>0</td>\n",
       "      <td>0</td>\n",
       "      <td>...</td>\n",
       "      <td>1</td>\n",
       "      <td>0</td>\n",
       "      <td>0</td>\n",
       "      <td>0</td>\n",
       "      <td>1</td>\n",
       "      <td>0</td>\n",
       "      <td>0</td>\n",
       "      <td>0</td>\n",
       "      <td>0</td>\n",
       "      <td>1</td>\n",
       "    </tr>\n",
       "    <tr>\n",
       "      <th>3</th>\n",
       "      <td>1</td>\n",
       "      <td>26.0</td>\n",
       "      <td>0</td>\n",
       "      <td>0</td>\n",
       "      <td>0</td>\n",
       "      <td>1</td>\n",
       "      <td>0</td>\n",
       "      <td>0</td>\n",
       "      <td>1</td>\n",
       "      <td>0</td>\n",
       "      <td>...</td>\n",
       "      <td>0</td>\n",
       "      <td>0</td>\n",
       "      <td>0</td>\n",
       "      <td>1</td>\n",
       "      <td>0</td>\n",
       "      <td>0</td>\n",
       "      <td>0</td>\n",
       "      <td>1</td>\n",
       "      <td>0</td>\n",
       "      <td>0</td>\n",
       "    </tr>\n",
       "    <tr>\n",
       "      <th>4</th>\n",
       "      <td>1</td>\n",
       "      <td>35.0</td>\n",
       "      <td>0</td>\n",
       "      <td>1</td>\n",
       "      <td>0</td>\n",
       "      <td>0</td>\n",
       "      <td>0</td>\n",
       "      <td>0</td>\n",
       "      <td>1</td>\n",
       "      <td>0</td>\n",
       "      <td>...</td>\n",
       "      <td>1</td>\n",
       "      <td>0</td>\n",
       "      <td>0</td>\n",
       "      <td>0</td>\n",
       "      <td>1</td>\n",
       "      <td>0</td>\n",
       "      <td>0</td>\n",
       "      <td>0</td>\n",
       "      <td>0</td>\n",
       "      <td>1</td>\n",
       "    </tr>\n",
       "    <tr>\n",
       "      <th>5</th>\n",
       "      <td>0</td>\n",
       "      <td>35.0</td>\n",
       "      <td>1</td>\n",
       "      <td>0</td>\n",
       "      <td>0</td>\n",
       "      <td>1</td>\n",
       "      <td>0</td>\n",
       "      <td>0</td>\n",
       "      <td>1</td>\n",
       "      <td>0</td>\n",
       "      <td>...</td>\n",
       "      <td>0</td>\n",
       "      <td>0</td>\n",
       "      <td>0</td>\n",
       "      <td>1</td>\n",
       "      <td>0</td>\n",
       "      <td>0</td>\n",
       "      <td>0</td>\n",
       "      <td>1</td>\n",
       "      <td>0</td>\n",
       "      <td>0</td>\n",
       "    </tr>\n",
       "  </tbody>\n",
       "</table>\n",
       "<p>5 rows × 22 columns</p>\n",
       "</div>"
      ],
      "text/plain": [
       "             Survived  new_age  male  Pclass_1  Pclass_2  Pclass_3  \\\n",
       "PassengerId                                                          \n",
       "1                   0     22.0     1         0         0         1   \n",
       "2                   1     38.0     0         1         0         0   \n",
       "3                   1     26.0     0         0         0         1   \n",
       "4                   1     35.0     0         1         0         0   \n",
       "5                   0     35.0     1         0         0         1   \n",
       "\n",
       "             Embarked_C  Embarked_Q  Embarked_S  Title_Master      ...       \\\n",
       "PassengerId                                                        ...        \n",
       "1                     0           0           1             0      ...        \n",
       "2                     1           0           0             0      ...        \n",
       "3                     0           0           1             0      ...        \n",
       "4                     0           0           1             0      ...        \n",
       "5                     0           0           1             0      ...        \n",
       "\n",
       "             Title_Mrs  Title_Officer  Title_Royalty  family_0  family_1  \\\n",
       "PassengerId                                                                \n",
       "1                    0              0              0         0         1   \n",
       "2                    1              0              0         0         1   \n",
       "3                    0              0              0         1         0   \n",
       "4                    1              0              0         0         1   \n",
       "5                    0              0              0         1         0   \n",
       "\n",
       "             family_2  fare_class_0  fare_class_1  fare_class_2  fare_class_3  \n",
       "PassengerId                                                                    \n",
       "1                   0             1             0             0             0  \n",
       "2                   0             0             0             0             1  \n",
       "3                   0             0             1             0             0  \n",
       "4                   0             0             0             0             1  \n",
       "5                   0             0             1             0             0  \n",
       "\n",
       "[5 rows x 22 columns]"
      ]
     },
     "execution_count": 170,
     "metadata": {},
     "output_type": "execute_result"
    }
   ],
   "source": [
    "categorical = ['Pclass', 'Embarked', 'Title', 'family', 'fare_class']\n",
    "\n",
    "for column in categorical:\n",
    "    dummy = pd.get_dummies(df[column], prefix=column).astype(int)\n",
    "    df = df.join(dummy)\n",
    "    df.drop(column, axis=1, inplace=True)\n",
    "\n",
    "df.head()"
   ]
  },
  {
   "cell_type": "code",
   "execution_count": 171,
   "metadata": {
    "ExecuteTime": {
     "end_time": "2016-05-22T14:19:32.561636",
     "start_time": "2016-05-22T14:19:32.552635"
    },
    "collapsed": false
   },
   "outputs": [
    {
     "name": "stdout",
     "output_type": "stream",
     "text": [
      "<class 'pandas.core.frame.DataFrame'>\n",
      "Int64Index: 891 entries, 1 to 891\n",
      "Data columns (total 22 columns):\n",
      "Survived         891 non-null int64\n",
      "new_age          891 non-null float64\n",
      "male             891 non-null int32\n",
      "Pclass_1         891 non-null int32\n",
      "Pclass_2         891 non-null int32\n",
      "Pclass_3         891 non-null int32\n",
      "Embarked_C       891 non-null int32\n",
      "Embarked_Q       891 non-null int32\n",
      "Embarked_S       891 non-null int32\n",
      "Title_Master     891 non-null int32\n",
      "Title_Miss       891 non-null int32\n",
      "Title_Mr         891 non-null int32\n",
      "Title_Mrs        891 non-null int32\n",
      "Title_Officer    891 non-null int32\n",
      "Title_Royalty    891 non-null int32\n",
      "family_0         891 non-null int32\n",
      "family_1         891 non-null int32\n",
      "family_2         891 non-null int32\n",
      "fare_class_0     891 non-null int32\n",
      "fare_class_1     891 non-null int32\n",
      "fare_class_2     891 non-null int32\n",
      "fare_class_3     891 non-null int32\n",
      "dtypes: float64(1), int32(20), int64(1)\n",
      "memory usage: 90.5 KB\n"
     ]
    }
   ],
   "source": [
    "df.info()"
   ]
  },
  {
   "cell_type": "markdown",
   "metadata": {},
   "source": [
    "# Test data\n",
    "\n",
    "We'll explore test data set and do the same modification we did in the training set."
   ]
  },
  {
   "cell_type": "code",
   "execution_count": 172,
   "metadata": {
    "ExecuteTime": {
     "end_time": "2016-05-22T14:19:32.584637",
     "start_time": "2016-05-22T14:19:32.562636"
    },
    "collapsed": false
   },
   "outputs": [
    {
     "data": {
      "text/html": [
       "<div>\n",
       "<table border=\"1\" class=\"dataframe\">\n",
       "  <thead>\n",
       "    <tr style=\"text-align: right;\">\n",
       "      <th></th>\n",
       "      <th>Pclass</th>\n",
       "      <th>Name</th>\n",
       "      <th>Sex</th>\n",
       "      <th>Age</th>\n",
       "      <th>SibSp</th>\n",
       "      <th>Parch</th>\n",
       "      <th>Ticket</th>\n",
       "      <th>Fare</th>\n",
       "      <th>Cabin</th>\n",
       "      <th>Embarked</th>\n",
       "    </tr>\n",
       "    <tr>\n",
       "      <th>PassengerId</th>\n",
       "      <th></th>\n",
       "      <th></th>\n",
       "      <th></th>\n",
       "      <th></th>\n",
       "      <th></th>\n",
       "      <th></th>\n",
       "      <th></th>\n",
       "      <th></th>\n",
       "      <th></th>\n",
       "      <th></th>\n",
       "    </tr>\n",
       "  </thead>\n",
       "  <tbody>\n",
       "    <tr>\n",
       "      <th>892</th>\n",
       "      <td>3</td>\n",
       "      <td>Kelly, Mr. James</td>\n",
       "      <td>male</td>\n",
       "      <td>34.5</td>\n",
       "      <td>0</td>\n",
       "      <td>0</td>\n",
       "      <td>330911</td>\n",
       "      <td>7.8292</td>\n",
       "      <td>NaN</td>\n",
       "      <td>Q</td>\n",
       "    </tr>\n",
       "    <tr>\n",
       "      <th>893</th>\n",
       "      <td>3</td>\n",
       "      <td>Wilkes, Mrs. James (Ellen Needs)</td>\n",
       "      <td>female</td>\n",
       "      <td>47.0</td>\n",
       "      <td>1</td>\n",
       "      <td>0</td>\n",
       "      <td>363272</td>\n",
       "      <td>7.0000</td>\n",
       "      <td>NaN</td>\n",
       "      <td>S</td>\n",
       "    </tr>\n",
       "    <tr>\n",
       "      <th>894</th>\n",
       "      <td>2</td>\n",
       "      <td>Myles, Mr. Thomas Francis</td>\n",
       "      <td>male</td>\n",
       "      <td>62.0</td>\n",
       "      <td>0</td>\n",
       "      <td>0</td>\n",
       "      <td>240276</td>\n",
       "      <td>9.6875</td>\n",
       "      <td>NaN</td>\n",
       "      <td>Q</td>\n",
       "    </tr>\n",
       "    <tr>\n",
       "      <th>895</th>\n",
       "      <td>3</td>\n",
       "      <td>Wirz, Mr. Albert</td>\n",
       "      <td>male</td>\n",
       "      <td>27.0</td>\n",
       "      <td>0</td>\n",
       "      <td>0</td>\n",
       "      <td>315154</td>\n",
       "      <td>8.6625</td>\n",
       "      <td>NaN</td>\n",
       "      <td>S</td>\n",
       "    </tr>\n",
       "    <tr>\n",
       "      <th>896</th>\n",
       "      <td>3</td>\n",
       "      <td>Hirvonen, Mrs. Alexander (Helga E Lindqvist)</td>\n",
       "      <td>female</td>\n",
       "      <td>22.0</td>\n",
       "      <td>1</td>\n",
       "      <td>1</td>\n",
       "      <td>3101298</td>\n",
       "      <td>12.2875</td>\n",
       "      <td>NaN</td>\n",
       "      <td>S</td>\n",
       "    </tr>\n",
       "    <tr>\n",
       "      <th>897</th>\n",
       "      <td>3</td>\n",
       "      <td>Svensson, Mr. Johan Cervin</td>\n",
       "      <td>male</td>\n",
       "      <td>14.0</td>\n",
       "      <td>0</td>\n",
       "      <td>0</td>\n",
       "      <td>7538</td>\n",
       "      <td>9.2250</td>\n",
       "      <td>NaN</td>\n",
       "      <td>S</td>\n",
       "    </tr>\n",
       "    <tr>\n",
       "      <th>898</th>\n",
       "      <td>3</td>\n",
       "      <td>Connolly, Miss. Kate</td>\n",
       "      <td>female</td>\n",
       "      <td>30.0</td>\n",
       "      <td>0</td>\n",
       "      <td>0</td>\n",
       "      <td>330972</td>\n",
       "      <td>7.6292</td>\n",
       "      <td>NaN</td>\n",
       "      <td>Q</td>\n",
       "    </tr>\n",
       "    <tr>\n",
       "      <th>899</th>\n",
       "      <td>2</td>\n",
       "      <td>Caldwell, Mr. Albert Francis</td>\n",
       "      <td>male</td>\n",
       "      <td>26.0</td>\n",
       "      <td>1</td>\n",
       "      <td>1</td>\n",
       "      <td>248738</td>\n",
       "      <td>29.0000</td>\n",
       "      <td>NaN</td>\n",
       "      <td>S</td>\n",
       "    </tr>\n",
       "    <tr>\n",
       "      <th>900</th>\n",
       "      <td>3</td>\n",
       "      <td>Abrahim, Mrs. Joseph (Sophie Halaut Easu)</td>\n",
       "      <td>female</td>\n",
       "      <td>18.0</td>\n",
       "      <td>0</td>\n",
       "      <td>0</td>\n",
       "      <td>2657</td>\n",
       "      <td>7.2292</td>\n",
       "      <td>NaN</td>\n",
       "      <td>C</td>\n",
       "    </tr>\n",
       "    <tr>\n",
       "      <th>901</th>\n",
       "      <td>3</td>\n",
       "      <td>Davies, Mr. John Samuel</td>\n",
       "      <td>male</td>\n",
       "      <td>21.0</td>\n",
       "      <td>2</td>\n",
       "      <td>0</td>\n",
       "      <td>A/4 48871</td>\n",
       "      <td>24.1500</td>\n",
       "      <td>NaN</td>\n",
       "      <td>S</td>\n",
       "    </tr>\n",
       "    <tr>\n",
       "      <th>902</th>\n",
       "      <td>3</td>\n",
       "      <td>Ilieff, Mr. Ylio</td>\n",
       "      <td>male</td>\n",
       "      <td>NaN</td>\n",
       "      <td>0</td>\n",
       "      <td>0</td>\n",
       "      <td>349220</td>\n",
       "      <td>7.8958</td>\n",
       "      <td>NaN</td>\n",
       "      <td>S</td>\n",
       "    </tr>\n",
       "    <tr>\n",
       "      <th>903</th>\n",
       "      <td>1</td>\n",
       "      <td>Jones, Mr. Charles Cresson</td>\n",
       "      <td>male</td>\n",
       "      <td>46.0</td>\n",
       "      <td>0</td>\n",
       "      <td>0</td>\n",
       "      <td>694</td>\n",
       "      <td>26.0000</td>\n",
       "      <td>NaN</td>\n",
       "      <td>S</td>\n",
       "    </tr>\n",
       "  </tbody>\n",
       "</table>\n",
       "</div>"
      ],
      "text/plain": [
       "             Pclass                                          Name     Sex  \\\n",
       "PassengerId                                                                 \n",
       "892               3                              Kelly, Mr. James    male   \n",
       "893               3              Wilkes, Mrs. James (Ellen Needs)  female   \n",
       "894               2                     Myles, Mr. Thomas Francis    male   \n",
       "895               3                              Wirz, Mr. Albert    male   \n",
       "896               3  Hirvonen, Mrs. Alexander (Helga E Lindqvist)  female   \n",
       "897               3                    Svensson, Mr. Johan Cervin    male   \n",
       "898               3                          Connolly, Miss. Kate  female   \n",
       "899               2                  Caldwell, Mr. Albert Francis    male   \n",
       "900               3     Abrahim, Mrs. Joseph (Sophie Halaut Easu)  female   \n",
       "901               3                       Davies, Mr. John Samuel    male   \n",
       "902               3                              Ilieff, Mr. Ylio    male   \n",
       "903               1                    Jones, Mr. Charles Cresson    male   \n",
       "\n",
       "              Age  SibSp  Parch     Ticket     Fare Cabin Embarked  \n",
       "PassengerId                                                         \n",
       "892          34.5      0      0     330911   7.8292   NaN        Q  \n",
       "893          47.0      1      0     363272   7.0000   NaN        S  \n",
       "894          62.0      0      0     240276   9.6875   NaN        Q  \n",
       "895          27.0      0      0     315154   8.6625   NaN        S  \n",
       "896          22.0      1      1    3101298  12.2875   NaN        S  \n",
       "897          14.0      0      0       7538   9.2250   NaN        S  \n",
       "898          30.0      0      0     330972   7.6292   NaN        Q  \n",
       "899          26.0      1      1     248738  29.0000   NaN        S  \n",
       "900          18.0      0      0       2657   7.2292   NaN        C  \n",
       "901          21.0      2      0  A/4 48871  24.1500   NaN        S  \n",
       "902           NaN      0      0     349220   7.8958   NaN        S  \n",
       "903          46.0      0      0        694  26.0000   NaN        S  "
      ]
     },
     "execution_count": 172,
     "metadata": {},
     "output_type": "execute_result"
    }
   ],
   "source": [
    "df_test = pd.read_csv('../#data-sets/titanic-test.csv', index_col='PassengerId')\n",
    "df_test.head(12)"
   ]
  },
  {
   "cell_type": "code",
   "execution_count": 173,
   "metadata": {
    "ExecuteTime": {
     "end_time": "2016-05-22T14:19:32.593637",
     "start_time": "2016-05-22T14:19:32.585637"
    },
    "collapsed": false
   },
   "outputs": [
    {
     "name": "stdout",
     "output_type": "stream",
     "text": [
      "<class 'pandas.core.frame.DataFrame'>\n",
      "Int64Index: 418 entries, 892 to 1309\n",
      "Data columns (total 10 columns):\n",
      "Pclass      418 non-null int64\n",
      "Name        418 non-null object\n",
      "Sex         418 non-null object\n",
      "Age         332 non-null float64\n",
      "SibSp       418 non-null int64\n",
      "Parch       418 non-null int64\n",
      "Ticket      418 non-null object\n",
      "Fare        417 non-null float64\n",
      "Cabin       91 non-null object\n",
      "Embarked    418 non-null object\n",
      "dtypes: float64(2), int64(3), object(5)\n",
      "memory usage: 35.9+ KB\n"
     ]
    }
   ],
   "source": [
    "df_test.info()"
   ]
  },
  {
   "cell_type": "markdown",
   "metadata": {},
   "source": [
    "## Creating new columns\n",
    "\n",
    "Creating `Title` column:"
   ]
  },
  {
   "cell_type": "code",
   "execution_count": 174,
   "metadata": {
    "ExecuteTime": {
     "end_time": "2016-05-22T14:19:32.598638",
     "start_time": "2016-05-22T14:19:32.594637"
    },
    "collapsed": true
   },
   "outputs": [],
   "source": [
    "df_test['Title'] = df_test['Name'].apply(lambda x: Title_Dictionary[x.split(',')[1].split('.')[0].strip()])"
   ]
  },
  {
   "cell_type": "code",
   "execution_count": 175,
   "metadata": {
    "ExecuteTime": {
     "end_time": "2016-05-22T14:19:32.617639",
     "start_time": "2016-05-22T14:19:32.599638"
    },
    "collapsed": false
   },
   "outputs": [
    {
     "data": {
      "text/html": [
       "<div>\n",
       "<table border=\"1\" class=\"dataframe\">\n",
       "  <thead>\n",
       "    <tr style=\"text-align: right;\">\n",
       "      <th></th>\n",
       "      <th>Pclass</th>\n",
       "      <th>Name</th>\n",
       "      <th>Sex</th>\n",
       "      <th>Age</th>\n",
       "      <th>SibSp</th>\n",
       "      <th>Parch</th>\n",
       "      <th>Ticket</th>\n",
       "      <th>Fare</th>\n",
       "      <th>Cabin</th>\n",
       "      <th>Embarked</th>\n",
       "      <th>Title</th>\n",
       "    </tr>\n",
       "    <tr>\n",
       "      <th>PassengerId</th>\n",
       "      <th></th>\n",
       "      <th></th>\n",
       "      <th></th>\n",
       "      <th></th>\n",
       "      <th></th>\n",
       "      <th></th>\n",
       "      <th></th>\n",
       "      <th></th>\n",
       "      <th></th>\n",
       "      <th></th>\n",
       "      <th></th>\n",
       "    </tr>\n",
       "  </thead>\n",
       "  <tbody>\n",
       "    <tr>\n",
       "      <th>892</th>\n",
       "      <td>3</td>\n",
       "      <td>Kelly, Mr. James</td>\n",
       "      <td>male</td>\n",
       "      <td>34.5</td>\n",
       "      <td>0</td>\n",
       "      <td>0</td>\n",
       "      <td>330911</td>\n",
       "      <td>7.8292</td>\n",
       "      <td>NaN</td>\n",
       "      <td>Q</td>\n",
       "      <td>Mr</td>\n",
       "    </tr>\n",
       "    <tr>\n",
       "      <th>893</th>\n",
       "      <td>3</td>\n",
       "      <td>Wilkes, Mrs. James (Ellen Needs)</td>\n",
       "      <td>female</td>\n",
       "      <td>47.0</td>\n",
       "      <td>1</td>\n",
       "      <td>0</td>\n",
       "      <td>363272</td>\n",
       "      <td>7.0000</td>\n",
       "      <td>NaN</td>\n",
       "      <td>S</td>\n",
       "      <td>Mrs</td>\n",
       "    </tr>\n",
       "    <tr>\n",
       "      <th>894</th>\n",
       "      <td>2</td>\n",
       "      <td>Myles, Mr. Thomas Francis</td>\n",
       "      <td>male</td>\n",
       "      <td>62.0</td>\n",
       "      <td>0</td>\n",
       "      <td>0</td>\n",
       "      <td>240276</td>\n",
       "      <td>9.6875</td>\n",
       "      <td>NaN</td>\n",
       "      <td>Q</td>\n",
       "      <td>Mr</td>\n",
       "    </tr>\n",
       "    <tr>\n",
       "      <th>895</th>\n",
       "      <td>3</td>\n",
       "      <td>Wirz, Mr. Albert</td>\n",
       "      <td>male</td>\n",
       "      <td>27.0</td>\n",
       "      <td>0</td>\n",
       "      <td>0</td>\n",
       "      <td>315154</td>\n",
       "      <td>8.6625</td>\n",
       "      <td>NaN</td>\n",
       "      <td>S</td>\n",
       "      <td>Mr</td>\n",
       "    </tr>\n",
       "    <tr>\n",
       "      <th>896</th>\n",
       "      <td>3</td>\n",
       "      <td>Hirvonen, Mrs. Alexander (Helga E Lindqvist)</td>\n",
       "      <td>female</td>\n",
       "      <td>22.0</td>\n",
       "      <td>1</td>\n",
       "      <td>1</td>\n",
       "      <td>3101298</td>\n",
       "      <td>12.2875</td>\n",
       "      <td>NaN</td>\n",
       "      <td>S</td>\n",
       "      <td>Mrs</td>\n",
       "    </tr>\n",
       "  </tbody>\n",
       "</table>\n",
       "</div>"
      ],
      "text/plain": [
       "             Pclass                                          Name     Sex  \\\n",
       "PassengerId                                                                 \n",
       "892               3                              Kelly, Mr. James    male   \n",
       "893               3              Wilkes, Mrs. James (Ellen Needs)  female   \n",
       "894               2                     Myles, Mr. Thomas Francis    male   \n",
       "895               3                              Wirz, Mr. Albert    male   \n",
       "896               3  Hirvonen, Mrs. Alexander (Helga E Lindqvist)  female   \n",
       "\n",
       "              Age  SibSp  Parch   Ticket     Fare Cabin Embarked Title  \n",
       "PassengerId                                                             \n",
       "892          34.5      0      0   330911   7.8292   NaN        Q    Mr  \n",
       "893          47.0      1      0   363272   7.0000   NaN        S   Mrs  \n",
       "894          62.0      0      0   240276   9.6875   NaN        Q    Mr  \n",
       "895          27.0      0      0   315154   8.6625   NaN        S    Mr  \n",
       "896          22.0      1      1  3101298  12.2875   NaN        S   Mrs  "
      ]
     },
     "execution_count": 175,
     "metadata": {},
     "output_type": "execute_result"
    }
   ],
   "source": [
    "df_test.head()"
   ]
  },
  {
   "cell_type": "markdown",
   "metadata": {},
   "source": [
    "Creating `family` column:"
   ]
  },
  {
   "cell_type": "code",
   "execution_count": 176,
   "metadata": {
    "ExecuteTime": {
     "end_time": "2016-05-22T14:19:32.627639",
     "start_time": "2016-05-22T14:19:32.618639"
    },
    "collapsed": true
   },
   "outputs": [],
   "source": [
    "df_test['family'] = df_test['SibSp'] + df_test['Parch']\n",
    "\n",
    "df_test.loc[df_test['family'].isin([1, 2]), 'family'] = 1\n",
    "df_test.loc[df_test['family'] > 2, 'family'] = 2"
   ]
  },
  {
   "cell_type": "markdown",
   "metadata": {},
   "source": [
    "## Filling in the missing values\n",
    "\n",
    "Fill in missing `age` values."
   ]
  },
  {
   "cell_type": "code",
   "execution_count": 177,
   "metadata": {
    "ExecuteTime": {
     "end_time": "2016-05-22T14:19:32.725645",
     "start_time": "2016-05-22T14:19:32.628639"
    },
    "collapsed": false
   },
   "outputs": [
    {
     "data": {
      "text/html": [
       "<div>\n",
       "<table border=\"1\" class=\"dataframe\">\n",
       "  <thead>\n",
       "    <tr style=\"text-align: right;\">\n",
       "      <th></th>\n",
       "      <th>Pclass</th>\n",
       "      <th>Name</th>\n",
       "      <th>Sex</th>\n",
       "      <th>Age</th>\n",
       "      <th>SibSp</th>\n",
       "      <th>Parch</th>\n",
       "      <th>Ticket</th>\n",
       "      <th>Fare</th>\n",
       "      <th>Cabin</th>\n",
       "      <th>Embarked</th>\n",
       "      <th>Title</th>\n",
       "      <th>family</th>\n",
       "      <th>new_age</th>\n",
       "    </tr>\n",
       "    <tr>\n",
       "      <th>PassengerId</th>\n",
       "      <th></th>\n",
       "      <th></th>\n",
       "      <th></th>\n",
       "      <th></th>\n",
       "      <th></th>\n",
       "      <th></th>\n",
       "      <th></th>\n",
       "      <th></th>\n",
       "      <th></th>\n",
       "      <th></th>\n",
       "      <th></th>\n",
       "      <th></th>\n",
       "      <th></th>\n",
       "    </tr>\n",
       "  </thead>\n",
       "  <tbody>\n",
       "    <tr>\n",
       "      <th>899</th>\n",
       "      <td>2</td>\n",
       "      <td>Caldwell, Mr. Albert Francis</td>\n",
       "      <td>male</td>\n",
       "      <td>26.0</td>\n",
       "      <td>1</td>\n",
       "      <td>1</td>\n",
       "      <td>248738</td>\n",
       "      <td>29.0000</td>\n",
       "      <td>NaN</td>\n",
       "      <td>S</td>\n",
       "      <td>Mr</td>\n",
       "      <td>1</td>\n",
       "      <td>26.0</td>\n",
       "    </tr>\n",
       "    <tr>\n",
       "      <th>900</th>\n",
       "      <td>3</td>\n",
       "      <td>Abrahim, Mrs. Joseph (Sophie Halaut Easu)</td>\n",
       "      <td>female</td>\n",
       "      <td>18.0</td>\n",
       "      <td>0</td>\n",
       "      <td>0</td>\n",
       "      <td>2657</td>\n",
       "      <td>7.2292</td>\n",
       "      <td>NaN</td>\n",
       "      <td>C</td>\n",
       "      <td>Mrs</td>\n",
       "      <td>0</td>\n",
       "      <td>18.0</td>\n",
       "    </tr>\n",
       "    <tr>\n",
       "      <th>901</th>\n",
       "      <td>3</td>\n",
       "      <td>Davies, Mr. John Samuel</td>\n",
       "      <td>male</td>\n",
       "      <td>21.0</td>\n",
       "      <td>2</td>\n",
       "      <td>0</td>\n",
       "      <td>A/4 48871</td>\n",
       "      <td>24.1500</td>\n",
       "      <td>NaN</td>\n",
       "      <td>S</td>\n",
       "      <td>Mr</td>\n",
       "      <td>1</td>\n",
       "      <td>21.0</td>\n",
       "    </tr>\n",
       "    <tr>\n",
       "      <th>902</th>\n",
       "      <td>3</td>\n",
       "      <td>Ilieff, Mr. Ylio</td>\n",
       "      <td>male</td>\n",
       "      <td>NaN</td>\n",
       "      <td>0</td>\n",
       "      <td>0</td>\n",
       "      <td>349220</td>\n",
       "      <td>7.8958</td>\n",
       "      <td>NaN</td>\n",
       "      <td>S</td>\n",
       "      <td>Mr</td>\n",
       "      <td>0</td>\n",
       "      <td>25.0</td>\n",
       "    </tr>\n",
       "    <tr>\n",
       "      <th>903</th>\n",
       "      <td>1</td>\n",
       "      <td>Jones, Mr. Charles Cresson</td>\n",
       "      <td>male</td>\n",
       "      <td>46.0</td>\n",
       "      <td>0</td>\n",
       "      <td>0</td>\n",
       "      <td>694</td>\n",
       "      <td>26.0000</td>\n",
       "      <td>NaN</td>\n",
       "      <td>S</td>\n",
       "      <td>Mr</td>\n",
       "      <td>0</td>\n",
       "      <td>46.0</td>\n",
       "    </tr>\n",
       "  </tbody>\n",
       "</table>\n",
       "</div>"
      ],
      "text/plain": [
       "             Pclass                                       Name     Sex   Age  \\\n",
       "PassengerId                                                                    \n",
       "899               2               Caldwell, Mr. Albert Francis    male  26.0   \n",
       "900               3  Abrahim, Mrs. Joseph (Sophie Halaut Easu)  female  18.0   \n",
       "901               3                    Davies, Mr. John Samuel    male  21.0   \n",
       "902               3                           Ilieff, Mr. Ylio    male   NaN   \n",
       "903               1                 Jones, Mr. Charles Cresson    male  46.0   \n",
       "\n",
       "             SibSp  Parch     Ticket     Fare Cabin Embarked Title  family  \\\n",
       "PassengerId                                                                  \n",
       "899              1      1     248738  29.0000   NaN        S    Mr       1   \n",
       "900              0      0       2657   7.2292   NaN        C   Mrs       0   \n",
       "901              2      0  A/4 48871  24.1500   NaN        S    Mr       1   \n",
       "902              0      0     349220   7.8958   NaN        S    Mr       0   \n",
       "903              0      0        694  26.0000   NaN        S    Mr       0   \n",
       "\n",
       "             new_age  \n",
       "PassengerId           \n",
       "899             26.0  \n",
       "900             18.0  \n",
       "901             21.0  \n",
       "902             25.0  \n",
       "903             46.0  "
      ]
     },
     "execution_count": 177,
     "metadata": {},
     "output_type": "execute_result"
    }
   ],
   "source": [
    "def age_guesser(person):\n",
    "    gender = person['Sex']\n",
    "    persons_age = median_ages[gender].loc[person['Title'], person['Pclass']]\n",
    "    return persons_age\n",
    "\n",
    "\n",
    "median_ages = df_test.pivot_table('Age', index=['Title'], columns=['Sex', 'Pclass'], aggfunc='median')\n",
    "\n",
    "unknown_age = df_test['Age'].isnull()\n",
    "people_w_unknown_age = df_test.loc[unknown_age, [\"Age\", \"Title\", \"Sex\", \"Pclass\"]]\n",
    "people_w_unknown_age['Age'] = people_w_unknown_age.apply(age_guesser, axis=1)\n",
    "\n",
    "known_age = df_test['Age'].notnull()\n",
    "people_w_known_age = df_test.loc[known_age, [\"Age\", \"Title\", \"Sex\", \"Pclass\"]]\n",
    "\n",
    "df_test['new_age'] = pd.concat([people_w_known_age['Age'], people_w_unknown_age['Age']])\n",
    "df_test[7:12]"
   ]
  },
  {
   "cell_type": "markdown",
   "metadata": {},
   "source": [
    "Fill missing `Fare` value and create `fare-class`:"
   ]
  },
  {
   "cell_type": "code",
   "execution_count": 178,
   "metadata": {
    "ExecuteTime": {
     "end_time": "2016-05-22T14:19:32.731645",
     "start_time": "2016-05-22T14:19:32.726645"
    },
    "collapsed": true
   },
   "outputs": [],
   "source": [
    "df_test['Fare'].fillna(value=df_test['Fare'].mean(), inplace=True)\n",
    "df_test['fare_class'] = pd.qcut(df_test['Fare'], 4, labels=range(4)).astype(int)"
   ]
  },
  {
   "cell_type": "markdown",
   "metadata": {},
   "source": [
    "## Deleting unneeded columns"
   ]
  },
  {
   "cell_type": "code",
   "execution_count": 179,
   "metadata": {
    "ExecuteTime": {
     "end_time": "2016-05-22T14:19:32.737646",
     "start_time": "2016-05-22T14:19:32.732645"
    },
    "collapsed": true
   },
   "outputs": [],
   "source": [
    "not_needed = ['Name', 'Age', 'SibSp', 'Parch', 'Ticket', 'Fare', 'Cabin']\n",
    "\n",
    "df_test.drop(not_needed, axis=1, inplace=True)"
   ]
  },
  {
   "cell_type": "markdown",
   "metadata": {},
   "source": [
    "## Creating dummy values for categorical columns"
   ]
  },
  {
   "cell_type": "code",
   "execution_count": 180,
   "metadata": {
    "ExecuteTime": {
     "end_time": "2016-05-22T14:19:32.744646",
     "start_time": "2016-05-22T14:19:32.738646"
    },
    "collapsed": true
   },
   "outputs": [],
   "source": [
    "df_test['male'] = (~df_test['Sex'].str.contains('fe')).astype(int)\n",
    "df_test.drop('Sex', axis=1, inplace=True)"
   ]
  },
  {
   "cell_type": "code",
   "execution_count": 181,
   "metadata": {
    "ExecuteTime": {
     "end_time": "2016-05-22T14:19:32.787648",
     "start_time": "2016-05-22T14:19:32.745646"
    },
    "collapsed": false
   },
   "outputs": [
    {
     "data": {
      "text/html": [
       "<div>\n",
       "<table border=\"1\" class=\"dataframe\">\n",
       "  <thead>\n",
       "    <tr style=\"text-align: right;\">\n",
       "      <th></th>\n",
       "      <th>new_age</th>\n",
       "      <th>male</th>\n",
       "      <th>Pclass_1</th>\n",
       "      <th>Pclass_2</th>\n",
       "      <th>Pclass_3</th>\n",
       "      <th>Embarked_C</th>\n",
       "      <th>Embarked_Q</th>\n",
       "      <th>Embarked_S</th>\n",
       "      <th>Title_Master</th>\n",
       "      <th>Title_Miss</th>\n",
       "      <th>...</th>\n",
       "      <th>Title_Mrs</th>\n",
       "      <th>Title_Officer</th>\n",
       "      <th>Title_Royalty</th>\n",
       "      <th>family_0</th>\n",
       "      <th>family_1</th>\n",
       "      <th>family_2</th>\n",
       "      <th>fare_class_0</th>\n",
       "      <th>fare_class_1</th>\n",
       "      <th>fare_class_2</th>\n",
       "      <th>fare_class_3</th>\n",
       "    </tr>\n",
       "    <tr>\n",
       "      <th>PassengerId</th>\n",
       "      <th></th>\n",
       "      <th></th>\n",
       "      <th></th>\n",
       "      <th></th>\n",
       "      <th></th>\n",
       "      <th></th>\n",
       "      <th></th>\n",
       "      <th></th>\n",
       "      <th></th>\n",
       "      <th></th>\n",
       "      <th></th>\n",
       "      <th></th>\n",
       "      <th></th>\n",
       "      <th></th>\n",
       "      <th></th>\n",
       "      <th></th>\n",
       "      <th></th>\n",
       "      <th></th>\n",
       "      <th></th>\n",
       "      <th></th>\n",
       "      <th></th>\n",
       "    </tr>\n",
       "  </thead>\n",
       "  <tbody>\n",
       "    <tr>\n",
       "      <th>892</th>\n",
       "      <td>34.5</td>\n",
       "      <td>1</td>\n",
       "      <td>0</td>\n",
       "      <td>0</td>\n",
       "      <td>1</td>\n",
       "      <td>0</td>\n",
       "      <td>1</td>\n",
       "      <td>0</td>\n",
       "      <td>0</td>\n",
       "      <td>0</td>\n",
       "      <td>...</td>\n",
       "      <td>0</td>\n",
       "      <td>0</td>\n",
       "      <td>0</td>\n",
       "      <td>1</td>\n",
       "      <td>0</td>\n",
       "      <td>0</td>\n",
       "      <td>1</td>\n",
       "      <td>0</td>\n",
       "      <td>0</td>\n",
       "      <td>0</td>\n",
       "    </tr>\n",
       "    <tr>\n",
       "      <th>893</th>\n",
       "      <td>47.0</td>\n",
       "      <td>0</td>\n",
       "      <td>0</td>\n",
       "      <td>0</td>\n",
       "      <td>1</td>\n",
       "      <td>0</td>\n",
       "      <td>0</td>\n",
       "      <td>1</td>\n",
       "      <td>0</td>\n",
       "      <td>0</td>\n",
       "      <td>...</td>\n",
       "      <td>1</td>\n",
       "      <td>0</td>\n",
       "      <td>0</td>\n",
       "      <td>0</td>\n",
       "      <td>1</td>\n",
       "      <td>0</td>\n",
       "      <td>1</td>\n",
       "      <td>0</td>\n",
       "      <td>0</td>\n",
       "      <td>0</td>\n",
       "    </tr>\n",
       "    <tr>\n",
       "      <th>894</th>\n",
       "      <td>62.0</td>\n",
       "      <td>1</td>\n",
       "      <td>0</td>\n",
       "      <td>1</td>\n",
       "      <td>0</td>\n",
       "      <td>0</td>\n",
       "      <td>1</td>\n",
       "      <td>0</td>\n",
       "      <td>0</td>\n",
       "      <td>0</td>\n",
       "      <td>...</td>\n",
       "      <td>0</td>\n",
       "      <td>0</td>\n",
       "      <td>0</td>\n",
       "      <td>1</td>\n",
       "      <td>0</td>\n",
       "      <td>0</td>\n",
       "      <td>0</td>\n",
       "      <td>1</td>\n",
       "      <td>0</td>\n",
       "      <td>0</td>\n",
       "    </tr>\n",
       "    <tr>\n",
       "      <th>895</th>\n",
       "      <td>27.0</td>\n",
       "      <td>1</td>\n",
       "      <td>0</td>\n",
       "      <td>0</td>\n",
       "      <td>1</td>\n",
       "      <td>0</td>\n",
       "      <td>0</td>\n",
       "      <td>1</td>\n",
       "      <td>0</td>\n",
       "      <td>0</td>\n",
       "      <td>...</td>\n",
       "      <td>0</td>\n",
       "      <td>0</td>\n",
       "      <td>0</td>\n",
       "      <td>1</td>\n",
       "      <td>0</td>\n",
       "      <td>0</td>\n",
       "      <td>0</td>\n",
       "      <td>1</td>\n",
       "      <td>0</td>\n",
       "      <td>0</td>\n",
       "    </tr>\n",
       "    <tr>\n",
       "      <th>896</th>\n",
       "      <td>22.0</td>\n",
       "      <td>0</td>\n",
       "      <td>0</td>\n",
       "      <td>0</td>\n",
       "      <td>1</td>\n",
       "      <td>0</td>\n",
       "      <td>0</td>\n",
       "      <td>1</td>\n",
       "      <td>0</td>\n",
       "      <td>0</td>\n",
       "      <td>...</td>\n",
       "      <td>1</td>\n",
       "      <td>0</td>\n",
       "      <td>0</td>\n",
       "      <td>0</td>\n",
       "      <td>1</td>\n",
       "      <td>0</td>\n",
       "      <td>0</td>\n",
       "      <td>1</td>\n",
       "      <td>0</td>\n",
       "      <td>0</td>\n",
       "    </tr>\n",
       "  </tbody>\n",
       "</table>\n",
       "<p>5 rows × 21 columns</p>\n",
       "</div>"
      ],
      "text/plain": [
       "             new_age  male  Pclass_1  Pclass_2  Pclass_3  Embarked_C  \\\n",
       "PassengerId                                                            \n",
       "892             34.5     1         0         0         1           0   \n",
       "893             47.0     0         0         0         1           0   \n",
       "894             62.0     1         0         1         0           0   \n",
       "895             27.0     1         0         0         1           0   \n",
       "896             22.0     0         0         0         1           0   \n",
       "\n",
       "             Embarked_Q  Embarked_S  Title_Master  Title_Miss      ...       \\\n",
       "PassengerId                                                        ...        \n",
       "892                   1           0             0           0      ...        \n",
       "893                   0           1             0           0      ...        \n",
       "894                   1           0             0           0      ...        \n",
       "895                   0           1             0           0      ...        \n",
       "896                   0           1             0           0      ...        \n",
       "\n",
       "             Title_Mrs  Title_Officer  Title_Royalty  family_0  family_1  \\\n",
       "PassengerId                                                                \n",
       "892                  0              0              0         1         0   \n",
       "893                  1              0              0         0         1   \n",
       "894                  0              0              0         1         0   \n",
       "895                  0              0              0         1         0   \n",
       "896                  1              0              0         0         1   \n",
       "\n",
       "             family_2  fare_class_0  fare_class_1  fare_class_2  fare_class_3  \n",
       "PassengerId                                                                    \n",
       "892                 0             1             0             0             0  \n",
       "893                 0             1             0             0             0  \n",
       "894                 0             0             1             0             0  \n",
       "895                 0             0             1             0             0  \n",
       "896                 0             0             1             0             0  \n",
       "\n",
       "[5 rows x 21 columns]"
      ]
     },
     "execution_count": 181,
     "metadata": {},
     "output_type": "execute_result"
    }
   ],
   "source": [
    "categorical = ['Pclass', 'Embarked', 'Title', 'family', 'fare_class']\n",
    "\n",
    "for column in categorical:\n",
    "    dummy = pd.get_dummies(df_test[column], prefix=column).astype(int)\n",
    "    df_test = df_test.join(dummy)\n",
    "    df_test.drop(column, axis=1, inplace=True)\n",
    "\n",
    "df_test.head()"
   ]
  },
  {
   "cell_type": "code",
   "execution_count": 182,
   "metadata": {
    "ExecuteTime": {
     "end_time": "2016-05-22T14:19:32.797649",
     "start_time": "2016-05-22T14:19:32.788649"
    },
    "collapsed": false
   },
   "outputs": [
    {
     "name": "stdout",
     "output_type": "stream",
     "text": [
      "<class 'pandas.core.frame.DataFrame'>\n",
      "Int64Index: 418 entries, 892 to 1309\n",
      "Data columns (total 21 columns):\n",
      "new_age          418 non-null float64\n",
      "male             418 non-null int32\n",
      "Pclass_1         418 non-null int32\n",
      "Pclass_2         418 non-null int32\n",
      "Pclass_3         418 non-null int32\n",
      "Embarked_C       418 non-null int32\n",
      "Embarked_Q       418 non-null int32\n",
      "Embarked_S       418 non-null int32\n",
      "Title_Master     418 non-null int32\n",
      "Title_Miss       418 non-null int32\n",
      "Title_Mr         418 non-null int32\n",
      "Title_Mrs        418 non-null int32\n",
      "Title_Officer    418 non-null int32\n",
      "Title_Royalty    418 non-null int32\n",
      "family_0         418 non-null int32\n",
      "family_1         418 non-null int32\n",
      "family_2         418 non-null int32\n",
      "fare_class_0     418 non-null int32\n",
      "fare_class_1     418 non-null int32\n",
      "fare_class_2     418 non-null int32\n",
      "fare_class_3     418 non-null int32\n",
      "dtypes: float64(1), int32(20)\n",
      "memory usage: 39.2 KB\n"
     ]
    }
   ],
   "source": [
    "df_test.info()"
   ]
  },
  {
   "cell_type": "markdown",
   "metadata": {},
   "source": [
    "# Training"
   ]
  },
  {
   "cell_type": "code",
   "execution_count": 183,
   "metadata": {
    "ExecuteTime": {
     "end_time": "2016-05-22T14:19:32.803649",
     "start_time": "2016-05-22T14:19:32.798649"
    },
    "collapsed": true
   },
   "outputs": [],
   "source": [
    "from sklearn.cross_validation import KFold, cross_val_score, train_test_split\n",
    "from sklearn.linear_model import LogisticRegression\n",
    "from sklearn.neighbors import KNeighborsClassifier\n",
    "from sklearn.naive_bayes import GaussianNB\n",
    "from sklearn.tree import DecisionTreeClassifier\n",
    "from sklearn.ensemble import (BaggingClassifier, RandomForestClassifier, AdaBoostClassifier, \n",
    "                              GradientBoostingClassifier, VotingClassifier)\n",
    "from sklearn.grid_search import GridSearchCV"
   ]
  },
  {
   "cell_type": "code",
   "execution_count": 184,
   "metadata": {
    "ExecuteTime": {
     "end_time": "2016-05-22T14:19:32.808650",
     "start_time": "2016-05-22T14:19:32.804649"
    },
    "collapsed": true
   },
   "outputs": [],
   "source": [
    "X = df.drop('Survived', 1)\n",
    "y = df['Survived']"
   ]
  },
  {
   "cell_type": "code",
   "execution_count": 185,
   "metadata": {
    "ExecuteTime": {
     "end_time": "2016-05-22T14:19:32.813650",
     "start_time": "2016-05-22T14:19:32.809650"
    },
    "collapsed": true
   },
   "outputs": [],
   "source": [
    "seed = 2016\n",
    "num_folds = 10\n",
    "num_instances = len(X)\n",
    "jobs = -1\n",
    "\n",
    "scoring = 'accuracy'\n",
    "\n",
    "kfold = KFold(n=num_instances, n_folds=num_folds, random_state=seed)"
   ]
  },
  {
   "cell_type": "markdown",
   "metadata": {},
   "source": [
    "## Models\n",
    "\n",
    "We'll test different models:\n",
    "- basic models:\n",
    "    - logistic regression\n",
    "    - k-nearest neighbors\n",
    "    - gaussian naive bayes\n",
    "    - decision tree\n",
    "- ensembles:\n",
    "    - bagged decision tree\n",
    "    - random forest\n",
    "- boosting:\n",
    "    - ada boost\n",
    "    - gradient boost"
   ]
  },
  {
   "cell_type": "code",
   "execution_count": 186,
   "metadata": {
    "ExecuteTime": {
     "end_time": "2016-05-22T14:19:32.819650",
     "start_time": "2016-05-22T14:19:32.814650"
    },
    "collapsed": false
   },
   "outputs": [],
   "source": [
    "models = [('lr', LogisticRegression()), \n",
    "          ('knn', KNeighborsClassifier()),\n",
    "          ('nb', GaussianNB()),\n",
    "          ('cart', DecisionTreeClassifier(random_state=seed)),\n",
    "          ('bag', BaggingClassifier(random_state=seed)),\n",
    "          ('rf', RandomForestClassifier(random_state=seed)), \n",
    "          ('ada', AdaBoostClassifier()),\n",
    "          ('gbm', GradientBoostingClassifier())]"
   ]
  },
  {
   "cell_type": "code",
   "execution_count": 187,
   "metadata": {
    "ExecuteTime": {
     "end_time": "2016-05-22T14:19:35.304792",
     "start_time": "2016-05-22T14:19:32.820650"
    },
    "collapsed": false
   },
   "outputs": [
    {
     "name": "stdout",
     "output_type": "stream",
     "text": [
      "lr:\t (0.8227) +/- (0.0383)\n",
      "knn:\t (0.7857) +/- (0.0358)\n",
      "nb:\t (0.7621) +/- (0.0421)\n",
      "cart:\t (0.7869) +/- (0.0422)\n",
      "bag:\t (0.7980) +/- (0.0368)\n",
      "rf:\t (0.7789) +/- (0.0332)\n",
      "ada:\t (0.8092) +/- (0.0297)\n",
      "gbm:\t (0.8272) +/- (0.0393)\n"
     ]
    }
   ],
   "source": [
    "for name, model in models:\n",
    "    result = cross_val_score(model, X, y, cv=kfold, scoring=scoring)\n",
    "    print(\"{0}:\\t ({1:.4f}) +/- ({2:.4f})\".format(name, result.mean(), result.std()))"
   ]
  },
  {
   "cell_type": "markdown",
   "metadata": {},
   "source": [
    "## Hyperparameter tuning\n",
    "\n",
    "We'll use `GridSearchCV` to find the best parameters for each algorithm that we used above.\n",
    "\n",
    "Best scores and parameters for each algorithms will be saved in these variables:"
   ]
  },
  {
   "cell_type": "code",
   "execution_count": 63,
   "metadata": {
    "ExecuteTime": {
     "end_time": "2016-05-22T14:00:51.993543",
     "start_time": "2016-05-22T14:00:51.989542"
    },
    "collapsed": true
   },
   "outputs": [],
   "source": [
    "lr_best = (0, None)\n",
    "knn_best = (0, None)\n",
    "cart_best = (0, None)\n",
    "bag_best = (0, None)\n",
    "rf_best = (0, None)\n",
    "ada_best = (0, None)\n",
    "gbm_best = (0, None)"
   ]
  },
  {
   "cell_type": "markdown",
   "metadata": {},
   "source": [
    "### Logistic regression"
   ]
  },
  {
   "cell_type": "code",
   "execution_count": 65,
   "metadata": {
    "collapsed": false
   },
   "outputs": [
    {
     "data": {
      "text/plain": [
       "[mean: 0.82379, std: 0.03679, params: {'C': 1, 'penalty': 'l1'},\n",
       " mean: 0.82267, std: 0.03832, params: {'C': 1, 'penalty': 'l2'},\n",
       " mean: 0.82267, std: 0.04016, params: {'C': 10, 'penalty': 'l1'},\n",
       " mean: 0.82155, std: 0.03910, params: {'C': 10, 'penalty': 'l2'},\n",
       " mean: 0.82155, std: 0.03878, params: {'C': 100, 'penalty': 'l1'},\n",
       " mean: 0.82155, std: 0.03878, params: {'C': 100, 'penalty': 'l2'},\n",
       " mean: 0.82043, std: 0.03300, params: {'C': 0.1, 'penalty': 'l2'},\n",
       " mean: 0.79237, std: 0.03825, params: {'C': 0.1, 'penalty': 'l1'},\n",
       " mean: 0.79012, std: 0.03838, params: {'C': 0.01, 'penalty': 'l2'},\n",
       " mean: 0.62177, std: 0.07373, params: {'C': 0.001, 'penalty': 'l2'},\n",
       " mean: 0.61616, std: 0.07049, params: {'C': 0.001, 'penalty': 'l1'},\n",
       " mean: 0.61616, std: 0.07049, params: {'C': 0.01, 'penalty': 'l1'}]"
      ]
     },
     "execution_count": 65,
     "metadata": {},
     "output_type": "execute_result"
    }
   ],
   "source": [
    "lr_grid = GridSearchCV(estimator = LogisticRegression(random_state=seed),\n",
    "                       param_grid = {'penalty': ['l1', 'l2'], \n",
    "                                     'C': [0.001, 0.01, 0.1, 1, 10, 100]}, \n",
    "                       cv = kfold, \n",
    "                       scoring = scoring)\n",
    "\n",
    "lr_grid.fit(X, y)\n",
    "\n",
    "lr_best = max(lr_best, (lr_grid.best_score_, lr_grid.best_params_))\n",
    "\n",
    "lr_grid.grid_scores_.sort(key=lambda x: x[1], reverse=True)\n",
    "lr_grid.grid_scores_"
   ]
  },
  {
   "cell_type": "markdown",
   "metadata": {},
   "source": [
    "Let's try different solvers - they work only with L2 penalty:"
   ]
  },
  {
   "cell_type": "code",
   "execution_count": 67,
   "metadata": {
    "collapsed": false
   },
   "outputs": [
    {
     "data": {
      "text/plain": [
       "[mean: 0.82267, std: 0.03889, params: {'C': 1, 'penalty': 'l2', 'solver': 'lbfgs'},\n",
       " mean: 0.82267, std: 0.03832, params: {'C': 1, 'penalty': 'l2', 'solver': 'liblinear'},\n",
       " mean: 0.82155, std: 0.03943, params: {'C': 1, 'penalty': 'l2', 'solver': 'newton-cg'},\n",
       " mean: 0.82155, std: 0.03910, params: {'C': 2, 'penalty': 'l2', 'solver': 'liblinear'},\n",
       " mean: 0.82155, std: 0.03910, params: {'C': 5, 'penalty': 'l2', 'solver': 'newton-cg'},\n",
       " mean: 0.82155, std: 0.03910, params: {'C': 5, 'penalty': 'l2', 'solver': 'lbfgs'},\n",
       " mean: 0.82155, std: 0.03910, params: {'C': 5, 'penalty': 'l2', 'solver': 'liblinear'},\n",
       " mean: 0.82155, std: 0.03910, params: {'C': 10, 'penalty': 'l2', 'solver': 'newton-cg'},\n",
       " mean: 0.82155, std: 0.03910, params: {'C': 10, 'penalty': 'l2', 'solver': 'lbfgs'},\n",
       " mean: 0.82155, std: 0.03910, params: {'C': 10, 'penalty': 'l2', 'solver': 'liblinear'},\n",
       " mean: 0.82043, std: 0.04024, params: {'C': 2, 'penalty': 'l2', 'solver': 'newton-cg'},\n",
       " mean: 0.82043, std: 0.04268, params: {'C': 2, 'penalty': 'l2', 'solver': 'lbfgs'}]"
      ]
     },
     "execution_count": 67,
     "metadata": {},
     "output_type": "execute_result"
    }
   ],
   "source": [
    "lr_grid = GridSearchCV(estimator = LogisticRegression(random_state=seed),\n",
    "                       param_grid = {'penalty': ['l2'], \n",
    "                                     'solver': ['newton-cg', 'lbfgs', 'liblinear'],\n",
    "                                     'C': [1, 2, 5, 10]}, \n",
    "                       cv = kfold, \n",
    "                       scoring = scoring)\n",
    "\n",
    "lr_grid.fit(X, y)\n",
    "\n",
    "lr_best = max(lr_best, (lr_grid.best_score_, lr_grid.best_params_))\n",
    "\n",
    "lr_grid.grid_scores_.sort(key=lambda x: x[1], reverse=True)\n",
    "lr_grid.grid_scores_"
   ]
  },
  {
   "cell_type": "markdown",
   "metadata": {},
   "source": [
    "Default solver (liblinear) seems like the best choice - let's tune it a bit more:"
   ]
  },
  {
   "cell_type": "code",
   "execution_count": 68,
   "metadata": {
    "collapsed": false,
    "scrolled": true
   },
   "outputs": [
    {
     "data": {
      "text/plain": [
       "[mean: 0.82492, std: 0.04067, params: {'C': 2, 'penalty': 'l1'},\n",
       " mean: 0.82492, std: 0.04067, params: {'C': 3, 'penalty': 'l1'},\n",
       " mean: 0.82379, std: 0.03679, params: {'C': 1, 'penalty': 'l1'},\n",
       " mean: 0.82379, std: 0.04177, params: {'C': 4, 'penalty': 'l1'},\n",
       " mean: 0.82267, std: 0.03832, params: {'C': 1, 'penalty': 'l2'},\n",
       " mean: 0.82267, std: 0.04079, params: {'C': 3, 'penalty': 'l2'},\n",
       " mean: 0.82267, std: 0.04079, params: {'C': 4, 'penalty': 'l2'},\n",
       " mean: 0.82267, std: 0.04016, params: {'C': 5, 'penalty': 'l1'},\n",
       " mean: 0.82267, std: 0.04016, params: {'C': 10, 'penalty': 'l1'},\n",
       " mean: 0.82155, std: 0.03910, params: {'C': 2, 'penalty': 'l2'},\n",
       " mean: 0.82155, std: 0.03910, params: {'C': 5, 'penalty': 'l2'},\n",
       " mean: 0.82155, std: 0.03910, params: {'C': 10, 'penalty': 'l2'}]"
      ]
     },
     "execution_count": 68,
     "metadata": {},
     "output_type": "execute_result"
    }
   ],
   "source": [
    "lr_grid = GridSearchCV(estimator = LogisticRegression(random_state=seed),\n",
    "                       param_grid = {'penalty': ['l1', 'l2'], \n",
    "                                     'C': [1, 2, 3, 4, 5, 10]}, \n",
    "                       cv = kfold, \n",
    "                       scoring = scoring)\n",
    "\n",
    "lr_grid.fit(X, y)\n",
    "\n",
    "lr_best = max(lr_best, (lr_grid.best_score_, lr_grid.best_params_))\n",
    "\n",
    "lr_grid.grid_scores_.sort(key=lambda x: x[1], reverse=True)\n",
    "lr_grid.grid_scores_"
   ]
  },
  {
   "cell_type": "code",
   "execution_count": 69,
   "metadata": {
    "collapsed": false
   },
   "outputs": [
    {
     "data": {
      "text/plain": [
       "(0.82491582491582494, {'C': 2, 'penalty': 'l1'})"
      ]
     },
     "execution_count": 69,
     "metadata": {},
     "output_type": "execute_result"
    }
   ],
   "source": [
    "lr_best"
   ]
  },
  {
   "cell_type": "markdown",
   "metadata": {},
   "source": [
    "### K-nearest neighbors"
   ]
  },
  {
   "cell_type": "code",
   "execution_count": 70,
   "metadata": {
    "collapsed": false
   },
   "outputs": [
    {
     "data": {
      "text/plain": [
       "[mean: 0.80808, std: 0.04322, params: {'n_neighbors': 10, 'algorithm': 'kd_tree', 'leaf_size': 5, 'weights': 'distance', 'p': 1},\n",
       " mean: 0.80584, std: 0.04163, params: {'n_neighbors': 10, 'algorithm': 'ball_tree', 'leaf_size': 5, 'weights': 'distance', 'p': 1},\n",
       " mean: 0.80359, std: 0.04170, params: {'n_neighbors': 10, 'algorithm': 'ball_tree', 'leaf_size': 30, 'weights': 'distance', 'p': 1},\n",
       " mean: 0.80359, std: 0.04170, params: {'n_neighbors': 10, 'algorithm': 'ball_tree', 'leaf_size': 50, 'weights': 'distance', 'p': 1},\n",
       " mean: 0.80359, std: 0.03559, params: {'n_neighbors': 10, 'algorithm': 'kd_tree', 'leaf_size': 15, 'weights': 'distance', 'p': 1},\n",
       " mean: 0.80247, std: 0.03414, params: {'n_neighbors': 5, 'algorithm': 'kd_tree', 'leaf_size': 15, 'weights': 'distance', 'p': 1},\n",
       " mean: 0.80247, std: 0.02991, params: {'n_neighbors': 5, 'algorithm': 'kd_tree', 'leaf_size': 30, 'weights': 'distance', 'p': 1},\n",
       " mean: 0.80247, std: 0.03789, params: {'n_neighbors': 10, 'algorithm': 'kd_tree', 'leaf_size': 30, 'weights': 'distance', 'p': 1},\n",
       " mean: 0.80247, std: 0.02991, params: {'n_neighbors': 5, 'algorithm': 'kd_tree', 'leaf_size': 50, 'weights': 'distance', 'p': 1},\n",
       " mean: 0.80247, std: 0.03789, params: {'n_neighbors': 10, 'algorithm': 'kd_tree', 'leaf_size': 50, 'weights': 'distance', 'p': 1},\n",
       " mean: 0.80135, std: 0.02528, params: {'n_neighbors': 5, 'algorithm': 'ball_tree', 'leaf_size': 5, 'weights': 'distance', 'p': 1},\n",
       " mean: 0.80022, std: 0.03820, params: {'n_neighbors': 10, 'algorithm': 'ball_tree', 'leaf_size': 15, 'weights': 'distance', 'p': 1},\n",
       " mean: 0.80022, std: 0.03089, params: {'n_neighbors': 5, 'algorithm': 'kd_tree', 'leaf_size': 5, 'weights': 'distance', 'p': 1},\n",
       " mean: 0.80022, std: 0.03994, params: {'n_neighbors': 25, 'algorithm': 'kd_tree', 'leaf_size': 5, 'weights': 'distance', 'p': 1},\n",
       " mean: 0.79910, std: 0.02786, params: {'n_neighbors': 5, 'algorithm': 'ball_tree', 'leaf_size': 15, 'weights': 'distance', 'p': 1}]"
      ]
     },
     "execution_count": 70,
     "metadata": {},
     "output_type": "execute_result"
    }
   ],
   "source": [
    "knn_grid = GridSearchCV(estimator = KNeighborsClassifier(),\n",
    "                        param_grid = {'n_neighbors': [1, 5, 10, 25, 50],\n",
    "                                      'weights': ['uniform', 'distance'],\n",
    "                                      'algorithm': ['ball_tree', 'kd_tree'],\n",
    "                                      'leaf_size': [5, 15, 30, 50], \n",
    "                                      'p': [1, 2]}, \n",
    "                        cv = kfold, \n",
    "                        scoring = scoring)\n",
    "\n",
    "knn_grid.fit(X, y)\n",
    "\n",
    "knn_best = max(knn_best, (knn_grid.best_score_, knn_grid.best_params_))\n",
    "\n",
    "knn_grid.grid_scores_.sort(key=lambda x: x[1], reverse=True)\n",
    "knn_grid.grid_scores_[:15]"
   ]
  },
  {
   "cell_type": "code",
   "execution_count": 71,
   "metadata": {
    "collapsed": false
   },
   "outputs": [
    {
     "data": {
      "text/plain": [
       "[mean: 0.80808, std: 0.04322, params: {'n_neighbors': 10, 'algorithm': 'kd_tree', 'leaf_size': 5, 'weights': 'distance', 'p': 1},\n",
       " mean: 0.80808, std: 0.03668, params: {'n_neighbors': 11, 'algorithm': 'kd_tree', 'leaf_size': 5, 'weights': 'distance', 'p': 1},\n",
       " mean: 0.80696, std: 0.04419, params: {'n_neighbors': 12, 'algorithm': 'ball_tree', 'leaf_size': 5, 'weights': 'distance', 'p': 1},\n",
       " mean: 0.80584, std: 0.04163, params: {'n_neighbors': 10, 'algorithm': 'ball_tree', 'leaf_size': 5, 'weights': 'distance', 'p': 1},\n",
       " mean: 0.80584, std: 0.03690, params: {'n_neighbors': 12, 'algorithm': 'kd_tree', 'leaf_size': 5, 'weights': 'distance', 'p': 1},\n",
       " mean: 0.80471, std: 0.04545, params: {'n_neighbors': 11, 'algorithm': 'ball_tree', 'leaf_size': 5, 'weights': 'distance', 'p': 1},\n",
       " mean: 0.80471, std: 0.03222, params: {'n_neighbors': 8, 'algorithm': 'ball_tree', 'leaf_size': 15, 'weights': 'distance', 'p': 1},\n",
       " mean: 0.80471, std: 0.03960, params: {'n_neighbors': 11, 'algorithm': 'kd_tree', 'leaf_size': 15, 'weights': 'distance', 'p': 1},\n",
       " mean: 0.80471, std: 0.03896, params: {'n_neighbors': 12, 'algorithm': 'kd_tree', 'leaf_size': 15, 'weights': 'distance', 'p': 1},\n",
       " mean: 0.80471, std: 0.03764, params: {'n_neighbors': 11, 'algorithm': 'kd_tree', 'leaf_size': 30, 'weights': 'distance', 'p': 1},\n",
       " mean: 0.80471, std: 0.04054, params: {'n_neighbors': 12, 'algorithm': 'kd_tree', 'leaf_size': 30, 'weights': 'distance', 'p': 1},\n",
       " mean: 0.80471, std: 0.03764, params: {'n_neighbors': 11, 'algorithm': 'kd_tree', 'leaf_size': 50, 'weights': 'distance', 'p': 1},\n",
       " mean: 0.80471, std: 0.04054, params: {'n_neighbors': 12, 'algorithm': 'kd_tree', 'leaf_size': 50, 'weights': 'distance', 'p': 1},\n",
       " mean: 0.80359, std: 0.03451, params: {'n_neighbors': 8, 'algorithm': 'ball_tree', 'leaf_size': 5, 'weights': 'distance', 'p': 1},\n",
       " mean: 0.80359, std: 0.04118, params: {'n_neighbors': 12, 'algorithm': 'ball_tree', 'leaf_size': 15, 'weights': 'distance', 'p': 1}]"
      ]
     },
     "execution_count": 71,
     "metadata": {},
     "output_type": "execute_result"
    }
   ],
   "source": [
    "knn_grid = GridSearchCV(estimator = KNeighborsClassifier(),\n",
    "                        param_grid = {'n_neighbors': [5, 6, 7, 8, 9, 10, 11, 12, 13, 14, 15, 20],\n",
    "                                      'weights': ['distance'],\n",
    "                                      'algorithm': ['ball_tree', 'kd_tree'],\n",
    "                                      'leaf_size': [5, 15, 30, 50], \n",
    "                                      'p': [1]}, \n",
    "                        cv = kfold, \n",
    "                        scoring = scoring)\n",
    "\n",
    "knn_grid.fit(X, y)\n",
    "\n",
    "knn_best = max(knn_best, (knn_grid.best_score_, knn_grid.best_params_))\n",
    "\n",
    "knn_grid.grid_scores_.sort(key=lambda x: x[1], reverse=True)\n",
    "knn_grid.grid_scores_[:15]"
   ]
  },
  {
   "cell_type": "code",
   "execution_count": 72,
   "metadata": {
    "collapsed": false
   },
   "outputs": [
    {
     "data": {
      "text/plain": [
       "[mean: 0.80808, std: 0.03901, params: {'n_neighbors': 10, 'algorithm': 'ball_tree', 'leaf_size': 7, 'weights': 'distance', 'p': 1},\n",
       " mean: 0.80808, std: 0.03901, params: {'n_neighbors': 10, 'algorithm': 'ball_tree', 'leaf_size': 8, 'weights': 'distance', 'p': 1},\n",
       " mean: 0.80808, std: 0.03901, params: {'n_neighbors': 10, 'algorithm': 'ball_tree', 'leaf_size': 9, 'weights': 'distance', 'p': 1},\n",
       " mean: 0.80808, std: 0.03901, params: {'n_neighbors': 10, 'algorithm': 'ball_tree', 'leaf_size': 10, 'weights': 'distance', 'p': 1},\n",
       " mean: 0.80808, std: 0.04173, params: {'n_neighbors': 10, 'algorithm': 'kd_tree', 'leaf_size': 1, 'weights': 'distance', 'p': 1},\n",
       " mean: 0.80808, std: 0.04322, params: {'n_neighbors': 10, 'algorithm': 'kd_tree', 'leaf_size': 4, 'weights': 'distance', 'p': 1},\n",
       " mean: 0.80808, std: 0.03668, params: {'n_neighbors': 11, 'algorithm': 'kd_tree', 'leaf_size': 4, 'weights': 'distance', 'p': 1},\n",
       " mean: 0.80808, std: 0.04322, params: {'n_neighbors': 10, 'algorithm': 'kd_tree', 'leaf_size': 5, 'weights': 'distance', 'p': 1},\n",
       " mean: 0.80808, std: 0.03668, params: {'n_neighbors': 11, 'algorithm': 'kd_tree', 'leaf_size': 5, 'weights': 'distance', 'p': 1},\n",
       " mean: 0.80808, std: 0.04322, params: {'n_neighbors': 10, 'algorithm': 'kd_tree', 'leaf_size': 6, 'weights': 'distance', 'p': 1},\n",
       " mean: 0.80808, std: 0.03668, params: {'n_neighbors': 11, 'algorithm': 'kd_tree', 'leaf_size': 6, 'weights': 'distance', 'p': 1},\n",
       " mean: 0.80696, std: 0.04283, params: {'n_neighbors': 10, 'algorithm': 'ball_tree', 'leaf_size': 2, 'weights': 'distance', 'p': 1},\n",
       " mean: 0.80696, std: 0.04283, params: {'n_neighbors': 10, 'algorithm': 'ball_tree', 'leaf_size': 3, 'weights': 'distance', 'p': 1},\n",
       " mean: 0.80696, std: 0.04419, params: {'n_neighbors': 12, 'algorithm': 'ball_tree', 'leaf_size': 4, 'weights': 'distance', 'p': 1},\n",
       " mean: 0.80696, std: 0.04419, params: {'n_neighbors': 12, 'algorithm': 'ball_tree', 'leaf_size': 5, 'weights': 'distance', 'p': 1}]"
      ]
     },
     "execution_count": 72,
     "metadata": {},
     "output_type": "execute_result"
    }
   ],
   "source": [
    "knn_grid = GridSearchCV(estimator = KNeighborsClassifier(),\n",
    "                        param_grid = {'n_neighbors': [8, 10, 11, 12],\n",
    "                                      'weights': ['distance', ],\n",
    "                                      'algorithm': ['ball_tree', 'kd_tree'],\n",
    "                                      'leaf_size': list(range(1, 11)) + [15, 30], \n",
    "                                      'p': [1]}, \n",
    "                        cv = kfold, \n",
    "                        scoring = scoring)\n",
    "\n",
    "knn_grid.fit(X, y)\n",
    "\n",
    "# knn_best = max(knn_best, (knn_grid.best_score_, knn_grid.best_params_))\n",
    "\n",
    "knn_grid.grid_scores_.sort(key=lambda x: x[1], reverse=True)\n",
    "knn_grid.grid_scores_[:15]"
   ]
  },
  {
   "cell_type": "code",
   "execution_count": 73,
   "metadata": {
    "collapsed": false
   },
   "outputs": [
    {
     "data": {
      "text/plain": [
       "[mean: 0.80808, std: 0.03901, params: {'n_neighbors': 10, 'algorithm': 'ball_tree', 'leaf_size': 7, 'weights': 'distance', 'p': 1},\n",
       " mean: 0.80808, std: 0.03901, params: {'n_neighbors': 10, 'algorithm': 'ball_tree', 'leaf_size': 8, 'weights': 'distance', 'p': 1},\n",
       " mean: 0.80808, std: 0.03901, params: {'n_neighbors': 10, 'algorithm': 'ball_tree', 'leaf_size': 9, 'weights': 'distance', 'p': 1},\n",
       " mean: 0.80808, std: 0.03901, params: {'n_neighbors': 10, 'algorithm': 'ball_tree', 'leaf_size': 10, 'weights': 'distance', 'p': 1},\n",
       " mean: 0.80808, std: 0.03901, params: {'n_neighbors': 10, 'algorithm': 'ball_tree', 'leaf_size': 11, 'weights': 'distance', 'p': 1},\n",
       " mean: 0.80808, std: 0.03901, params: {'n_neighbors': 10, 'algorithm': 'ball_tree', 'leaf_size': 12, 'weights': 'distance', 'p': 1},\n",
       " mean: 0.80584, std: 0.03341, params: {'n_neighbors': 8, 'algorithm': 'kd_tree', 'leaf_size': 7, 'weights': 'distance', 'p': 1},\n",
       " mean: 0.80584, std: 0.03912, params: {'n_neighbors': 11, 'algorithm': 'kd_tree', 'leaf_size': 7, 'weights': 'distance', 'p': 1},\n",
       " mean: 0.80584, std: 0.03341, params: {'n_neighbors': 8, 'algorithm': 'kd_tree', 'leaf_size': 8, 'weights': 'distance', 'p': 1},\n",
       " mean: 0.80584, std: 0.03912, params: {'n_neighbors': 11, 'algorithm': 'kd_tree', 'leaf_size': 8, 'weights': 'distance', 'p': 1},\n",
       " mean: 0.80584, std: 0.03341, params: {'n_neighbors': 8, 'algorithm': 'kd_tree', 'leaf_size': 9, 'weights': 'distance', 'p': 1},\n",
       " mean: 0.80584, std: 0.03912, params: {'n_neighbors': 11, 'algorithm': 'kd_tree', 'leaf_size': 9, 'weights': 'distance', 'p': 1},\n",
       " mean: 0.80584, std: 0.03341, params: {'n_neighbors': 8, 'algorithm': 'kd_tree', 'leaf_size': 10, 'weights': 'distance', 'p': 1},\n",
       " mean: 0.80584, std: 0.03912, params: {'n_neighbors': 11, 'algorithm': 'kd_tree', 'leaf_size': 10, 'weights': 'distance', 'p': 1},\n",
       " mean: 0.80584, std: 0.03341, params: {'n_neighbors': 8, 'algorithm': 'kd_tree', 'leaf_size': 11, 'weights': 'distance', 'p': 1}]"
      ]
     },
     "execution_count": 73,
     "metadata": {},
     "output_type": "execute_result"
    }
   ],
   "source": [
    "knn_grid = GridSearchCV(estimator = KNeighborsClassifier(),\n",
    "                        param_grid = {'n_neighbors': [8, 10, 11, 12],\n",
    "                                      'weights': ['distance'],\n",
    "                                      'algorithm': ['ball_tree', 'kd_tree'],\n",
    "                                      'leaf_size': list(range(7,15)), \n",
    "                                      'p': [1]}, \n",
    "                        cv = kfold, \n",
    "                        scoring = scoring)\n",
    "\n",
    "knn_grid.fit(X, y)\n",
    "\n",
    "knn_best = (knn_grid.best_score_, knn_grid.best_params_)\n",
    "\n",
    "knn_grid.grid_scores_.sort(key=lambda x: x[1], reverse=True)\n",
    "knn_grid.grid_scores_[:15]"
   ]
  },
  {
   "cell_type": "code",
   "execution_count": 74,
   "metadata": {
    "collapsed": false
   },
   "outputs": [
    {
     "data": {
      "text/plain": [
       "(0.80808080808080807,\n",
       " {'algorithm': 'ball_tree',\n",
       "  'leaf_size': 7,\n",
       "  'n_neighbors': 10,\n",
       "  'p': 1,\n",
       "  'weights': 'distance'})"
      ]
     },
     "execution_count": 74,
     "metadata": {},
     "output_type": "execute_result"
    }
   ],
   "source": [
    "knn_best"
   ]
  },
  {
   "cell_type": "markdown",
   "metadata": {},
   "source": [
    "### Decision Tree Classifier"
   ]
  },
  {
   "cell_type": "code",
   "execution_count": 75,
   "metadata": {
    "collapsed": false
   },
   "outputs": [
    {
     "data": {
      "text/plain": [
       "[mean: 0.81481, std: 0.04834, params: {'max_features': 'sqrt', 'max_depth': 5, 'criterion': 'gini', 'splitter': 'best'},\n",
       " mean: 0.81481, std: 0.04834, params: {'max_features': 'log2', 'max_depth': 5, 'criterion': 'gini', 'splitter': 'best'},\n",
       " mean: 0.81369, std: 0.03857, params: {'max_features': 'sqrt', 'max_depth': 5, 'criterion': 'entropy', 'splitter': 'best'},\n",
       " mean: 0.81369, std: 0.03857, params: {'max_features': 'log2', 'max_depth': 5, 'criterion': 'entropy', 'splitter': 'best'},\n",
       " mean: 0.81257, std: 0.02516, params: {'max_features': None, 'max_depth': 5, 'criterion': 'entropy', 'splitter': 'random'},\n",
       " mean: 0.81033, std: 0.02909, params: {'max_features': None, 'max_depth': 5, 'criterion': 'gini', 'splitter': 'best'},\n",
       " mean: 0.80808, std: 0.03540, params: {'max_features': None, 'max_depth': 5, 'criterion': 'gini', 'splitter': 'random'},\n",
       " mean: 0.80471, std: 0.03696, params: {'max_features': None, 'max_depth': 10, 'criterion': 'entropy', 'splitter': 'random'},\n",
       " mean: 0.80359, std: 0.04816, params: {'max_features': None, 'max_depth': 10, 'criterion': 'gini', 'splitter': 'random'},\n",
       " mean: 0.80359, std: 0.03224, params: {'max_features': 'sqrt', 'max_depth': 5, 'criterion': 'entropy', 'splitter': 'random'},\n",
       " mean: 0.80359, std: 0.03224, params: {'max_features': 'log2', 'max_depth': 5, 'criterion': 'entropy', 'splitter': 'random'},\n",
       " mean: 0.80359, std: 0.05080, params: {'max_features': None, 'max_depth': 10, 'criterion': 'entropy', 'splitter': 'best'},\n",
       " mean: 0.80022, std: 0.03743, params: {'max_features': 'sqrt', 'max_depth': 5, 'criterion': 'gini', 'splitter': 'random'},\n",
       " mean: 0.80022, std: 0.03743, params: {'max_features': 'log2', 'max_depth': 5, 'criterion': 'gini', 'splitter': 'random'},\n",
       " mean: 0.79798, std: 0.03168, params: {'max_features': None, 'max_depth': 5, 'criterion': 'entropy', 'splitter': 'best'}]"
      ]
     },
     "execution_count": 75,
     "metadata": {},
     "output_type": "execute_result"
    }
   ],
   "source": [
    "cart_grid = GridSearchCV(estimator = DecisionTreeClassifier(random_state=seed),\n",
    "                         param_grid = {'criterion': ['gini', 'entropy'],\n",
    "                                       'splitter': ['best', 'random'], \n",
    "                                       'max_features': [None, 'sqrt', 'log2'],\n",
    "                                       'max_depth': [None, 2, 5, 10, 20]}, \n",
    "                         cv = kfold, \n",
    "                         scoring = scoring)\n",
    "\n",
    "cart_grid.fit(X, y)\n",
    "\n",
    "cart_best = max(cart_best, (cart_grid.best_score_, cart_grid.best_params_))\n",
    "\n",
    "cart_grid.grid_scores_.sort(key=lambda x: x[1], reverse=True)\n",
    "cart_grid.grid_scores_[:15]"
   ]
  },
  {
   "cell_type": "code",
   "execution_count": 76,
   "metadata": {
    "collapsed": false
   },
   "outputs": [
    {
     "data": {
      "text/plain": [
       "[mean: 0.81818, std: 0.03402, params: {'max_features': 'sqrt', 'max_depth': 4, 'criterion': 'entropy', 'splitter': 'best'},\n",
       " mean: 0.81818, std: 0.03402, params: {'max_features': 'log2', 'max_depth': 4, 'criterion': 'entropy', 'splitter': 'best'},\n",
       " mean: 0.81481, std: 0.04834, params: {'max_features': 'sqrt', 'max_depth': 5, 'criterion': 'gini', 'splitter': 'best'},\n",
       " mean: 0.81481, std: 0.04834, params: {'max_features': 'log2', 'max_depth': 5, 'criterion': 'gini', 'splitter': 'best'},\n",
       " mean: 0.81369, std: 0.03857, params: {'max_features': 'sqrt', 'max_depth': 5, 'criterion': 'entropy', 'splitter': 'best'},\n",
       " mean: 0.81369, std: 0.03857, params: {'max_features': 'log2', 'max_depth': 5, 'criterion': 'entropy', 'splitter': 'best'},\n",
       " mean: 0.80920, std: 0.03494, params: {'max_features': 'sqrt', 'max_depth': 6, 'criterion': 'gini', 'splitter': 'best'},\n",
       " mean: 0.80920, std: 0.03494, params: {'max_features': 'log2', 'max_depth': 6, 'criterion': 'gini', 'splitter': 'best'},\n",
       " mean: 0.80920, std: 0.03747, params: {'max_features': 'sqrt', 'max_depth': 7, 'criterion': 'entropy', 'splitter': 'best'},\n",
       " mean: 0.80920, std: 0.03747, params: {'max_features': 'log2', 'max_depth': 7, 'criterion': 'entropy', 'splitter': 'best'},\n",
       " mean: 0.80920, std: 0.04995, params: {'max_features': 'sqrt', 'max_depth': 9, 'criterion': 'entropy', 'splitter': 'best'},\n",
       " mean: 0.80920, std: 0.04995, params: {'max_features': 'log2', 'max_depth': 9, 'criterion': 'entropy', 'splitter': 'best'},\n",
       " mean: 0.80808, std: 0.05132, params: {'max_features': 'sqrt', 'max_depth': 8, 'criterion': 'entropy', 'splitter': 'best'},\n",
       " mean: 0.80808, std: 0.05132, params: {'max_features': 'log2', 'max_depth': 8, 'criterion': 'entropy', 'splitter': 'best'},\n",
       " mean: 0.80471, std: 0.02837, params: {'max_features': 'sqrt', 'max_depth': 4, 'criterion': 'gini', 'splitter': 'best'}]"
      ]
     },
     "execution_count": 76,
     "metadata": {},
     "output_type": "execute_result"
    }
   ],
   "source": [
    "cart_grid = GridSearchCV(estimator = DecisionTreeClassifier(random_state=seed),\n",
    "                         param_grid = {'criterion': ['gini', 'entropy'],\n",
    "                                       'splitter': ['best'], \n",
    "                                       'max_features': ['sqrt', 'log2'],\n",
    "                                       'max_depth': [None] + list(range(2, 11))}, \n",
    "                         cv = kfold, \n",
    "                         scoring = scoring)\n",
    "\n",
    "cart_grid.fit(X, y)\n",
    "\n",
    "cart_best = max(cart_best, (cart_grid.best_score_, cart_grid.best_params_))\n",
    "\n",
    "cart_grid.grid_scores_.sort(key=lambda x: x[1], reverse=True)\n",
    "cart_grid.grid_scores_[:15]"
   ]
  },
  {
   "cell_type": "code",
   "execution_count": 77,
   "metadata": {
    "collapsed": false
   },
   "outputs": [
    {
     "data": {
      "text/plain": [
       "(0.81818181818181823,\n",
       " {'criterion': 'entropy',\n",
       "  'max_depth': 4,\n",
       "  'max_features': 'sqrt',\n",
       "  'splitter': 'best'})"
      ]
     },
     "execution_count": 77,
     "metadata": {},
     "output_type": "execute_result"
    }
   ],
   "source": [
    "cart_best"
   ]
  },
  {
   "cell_type": "markdown",
   "metadata": {},
   "source": [
    "### Bagging Classifier"
   ]
  },
  {
   "cell_type": "code",
   "execution_count": 78,
   "metadata": {
    "collapsed": false
   },
   "outputs": [
    {
     "data": {
      "text/plain": [
       "[mean: 0.75421, std: 0.04548, params: {'max_features': 5, 'max_samples': 5, 'n_estimators': 50},\n",
       " mean: 0.74972, std: 0.04785, params: {'max_features': 5, 'max_samples': 3, 'n_estimators': 50},\n",
       " mean: 0.73513, std: 0.05095, params: {'max_features': 5, 'max_samples': 4, 'n_estimators': 50},\n",
       " mean: 0.73064, std: 0.03934, params: {'max_features': 3, 'max_samples': 5, 'n_estimators': 50},\n",
       " mean: 0.72278, std: 0.02675, params: {'max_features': 4, 'max_samples': 5, 'n_estimators': 50},\n",
       " mean: 0.71829, std: 0.05620, params: {'max_features': 5, 'max_samples': 2, 'n_estimators': 50},\n",
       " mean: 0.70370, std: 0.05073, params: {'max_features': 3, 'max_samples': 4, 'n_estimators': 50},\n",
       " mean: 0.70258, std: 0.02862, params: {'max_features': 4, 'max_samples': 4, 'n_estimators': 50},\n",
       " mean: 0.69809, std: 0.03498, params: {'max_features': 4, 'max_samples': 3, 'n_estimators': 50},\n",
       " mean: 0.66891, std: 0.06320, params: {'max_features': 2, 'max_samples': 5, 'n_estimators': 50},\n",
       " mean: 0.64310, std: 0.05426, params: {'max_features': 4, 'max_samples': 5, 'n_estimators': 10},\n",
       " mean: 0.62963, std: 0.07244, params: {'max_features': 2, 'max_samples': 2, 'n_estimators': 50},\n",
       " mean: 0.62851, std: 0.07673, params: {'max_features': 2, 'max_samples': 4, 'n_estimators': 50},\n",
       " mean: 0.62738, std: 0.07004, params: {'max_features': 3, 'max_samples': 3, 'n_estimators': 50},\n",
       " mean: 0.62738, std: 0.06119, params: {'max_features': 3, 'max_samples': 5, 'n_estimators': 10}]"
      ]
     },
     "execution_count": 78,
     "metadata": {},
     "output_type": "execute_result"
    }
   ],
   "source": [
    "bag_grid = GridSearchCV(estimator = BaggingClassifier(random_state=seed),\n",
    "                         param_grid = {'n_estimators': [2, 10, 50],\n",
    "                                       'max_samples': [1, 2, 3, 4, 5],\n",
    "                                       'max_features': [1, 2, 3, 4, 5]}, \n",
    "                         cv = kfold, \n",
    "                         scoring = scoring)\n",
    "\n",
    "bag_grid.fit(X, y)\n",
    "\n",
    "bag_best = max(bag_best, (bag_grid.best_score_, bag_grid.best_params_))\n",
    "\n",
    "bag_grid.grid_scores_.sort(key=lambda x: x[1], reverse=True)\n",
    "bag_grid.grid_scores_[:15]"
   ]
  },
  {
   "cell_type": "code",
   "execution_count": 79,
   "metadata": {
    "collapsed": false
   },
   "outputs": [
    {
     "data": {
      "text/plain": [
       "[mean: 0.80471, std: 0.04307, params: {'max_features': 9, 'max_samples': 10, 'n_estimators': 70},\n",
       " mean: 0.79910, std: 0.04936, params: {'max_features': 9, 'max_samples': 10, 'n_estimators': 60},\n",
       " mean: 0.79798, std: 0.04662, params: {'max_features': 8, 'max_samples': 10, 'n_estimators': 60},\n",
       " mean: 0.79574, std: 0.05105, params: {'max_features': 8, 'max_samples': 10, 'n_estimators': 70},\n",
       " mean: 0.79349, std: 0.03508, params: {'max_features': 9, 'max_samples': 9, 'n_estimators': 60},\n",
       " mean: 0.79349, std: 0.04400, params: {'max_features': 10, 'max_samples': 10, 'n_estimators': 40},\n",
       " mean: 0.79237, std: 0.04972, params: {'max_features': 9, 'max_samples': 8, 'n_estimators': 70},\n",
       " mean: 0.79237, std: 0.04587, params: {'max_features': 9, 'max_samples': 9, 'n_estimators': 70},\n",
       " mean: 0.79125, std: 0.04207, params: {'max_features': 8, 'max_samples': 9, 'n_estimators': 60},\n",
       " mean: 0.79125, std: 0.04076, params: {'max_features': 10, 'max_samples': 10, 'n_estimators': 50},\n",
       " mean: 0.79125, std: 0.04226, params: {'max_features': 10, 'max_samples': 10, 'n_estimators': 70},\n",
       " mean: 0.79012, std: 0.04556, params: {'max_features': 9, 'max_samples': 8, 'n_estimators': 60},\n",
       " mean: 0.78900, std: 0.04605, params: {'max_features': 8, 'max_samples': 9, 'n_estimators': 70},\n",
       " mean: 0.78900, std: 0.06219, params: {'max_features': 9, 'max_samples': 10, 'n_estimators': 50},\n",
       " mean: 0.78788, std: 0.04266, params: {'max_features': 8, 'max_samples': 8, 'n_estimators': 70}]"
      ]
     },
     "execution_count": 79,
     "metadata": {},
     "output_type": "execute_result"
    }
   ],
   "source": [
    "bag_grid = GridSearchCV(estimator = BaggingClassifier(random_state=seed),\n",
    "                         param_grid = {'n_estimators': [10, 20, 30, 40, 50, 60, 70],\n",
    "                                       'max_samples': [3, 4, 5, 6, 7, 8, 9, 10],\n",
    "                                       'max_features': [3, 4, 5, 6, 7, 8, 9, 10]}, \n",
    "                         cv = kfold, \n",
    "                         scoring = scoring)\n",
    "\n",
    "bag_grid.fit(X, y)\n",
    "\n",
    "bag_best = max(bag_best, (bag_grid.best_score_, bag_grid.best_params_))\n",
    "\n",
    "bag_grid.grid_scores_.sort(key=lambda x: x[1], reverse=True)\n",
    "bag_grid.grid_scores_[:15]"
   ]
  },
  {
   "cell_type": "code",
   "execution_count": 80,
   "metadata": {
    "collapsed": false
   },
   "outputs": [
    {
     "data": {
      "text/plain": [
       "[mean: 0.81930, std: 0.03934, params: {'max_features': 9, 'max_samples': 11, 'n_estimators': 100},\n",
       " mean: 0.81818, std: 0.04402, params: {'max_features': 8, 'max_samples': 13, 'n_estimators': 100},\n",
       " mean: 0.81818, std: 0.04065, params: {'max_features': 9, 'max_samples': 10, 'n_estimators': 100},\n",
       " mean: 0.81706, std: 0.03515, params: {'max_features': 9, 'max_samples': 11, 'n_estimators': 90},\n",
       " mean: 0.81594, std: 0.04164, params: {'max_features': 9, 'max_samples': 13, 'n_estimators': 70},\n",
       " mean: 0.81594, std: 0.03985, params: {'max_features': 9, 'max_samples': 13, 'n_estimators': 80},\n",
       " mean: 0.81481, std: 0.02751, params: {'max_features': 9, 'max_samples': 12, 'n_estimators': 100},\n",
       " mean: 0.81481, std: 0.04492, params: {'max_features': 9, 'max_samples': 13, 'n_estimators': 50},\n",
       " mean: 0.81481, std: 0.02937, params: {'max_features': 9, 'max_samples': 13, 'n_estimators': 100},\n",
       " mean: 0.81369, std: 0.03551, params: {'max_features': 8, 'max_samples': 14, 'n_estimators': 100},\n",
       " mean: 0.81369, std: 0.04694, params: {'max_features': 9, 'max_samples': 11, 'n_estimators': 70},\n",
       " mean: 0.81257, std: 0.04432, params: {'max_features': 9, 'max_samples': 11, 'n_estimators': 80},\n",
       " mean: 0.81257, std: 0.02824, params: {'max_features': 9, 'max_samples': 12, 'n_estimators': 90},\n",
       " mean: 0.81257, std: 0.03257, params: {'max_features': 9, 'max_samples': 13, 'n_estimators': 90},\n",
       " mean: 0.81257, std: 0.04665, params: {'max_features': 9, 'max_samples': 15, 'n_estimators': 80}]"
      ]
     },
     "execution_count": 80,
     "metadata": {},
     "output_type": "execute_result"
    }
   ],
   "source": [
    "bag_grid = GridSearchCV(estimator = BaggingClassifier(random_state=seed),\n",
    "                         param_grid = {'n_estimators': [50, 60, 70, 80, 90, 100],\n",
    "                                       'max_samples': [9, 10, 11, 12, 13, 14, 15],\n",
    "                                       'max_features': [8, 9, 10, 11, 12]}, \n",
    "                         cv = kfold, \n",
    "                         scoring = scoring)\n",
    "\n",
    "bag_grid.fit(X, y)\n",
    "\n",
    "bag_best = max(bag_best, (bag_grid.best_score_, bag_grid.best_params_))\n",
    "\n",
    "bag_grid.grid_scores_.sort(key=lambda x: x[1], reverse=True)\n",
    "bag_grid.grid_scores_[:15]"
   ]
  },
  {
   "cell_type": "code",
   "execution_count": 81,
   "metadata": {
    "collapsed": false
   },
   "outputs": [
    {
     "data": {
      "text/plain": [
       "(0.81930415263748602,\n",
       " {'max_features': 9, 'max_samples': 11, 'n_estimators': 100})"
      ]
     },
     "execution_count": 81,
     "metadata": {},
     "output_type": "execute_result"
    }
   ],
   "source": [
    "bag_best"
   ]
  },
  {
   "cell_type": "markdown",
   "metadata": {},
   "source": [
    "### Random Forest"
   ]
  },
  {
   "cell_type": "code",
   "execution_count": 82,
   "metadata": {
    "collapsed": false
   },
   "outputs": [
    {
     "data": {
      "text/plain": [
       "[mean: 0.82828, std: 0.03966, params: {'max_features': 'auto', 'n_estimators': 100, 'max_depth': 4, 'criterion': 'entropy'},\n",
       " mean: 0.82828, std: 0.03966, params: {'max_features': 'log2', 'n_estimators': 100, 'max_depth': 4, 'criterion': 'entropy'},\n",
       " mean: 0.82828, std: 0.03966, params: {'max_features': 'auto', 'n_estimators': 100, 'max_depth': 4, 'criterion': 'gini'},\n",
       " mean: 0.82828, std: 0.03966, params: {'max_features': 'log2', 'n_estimators': 100, 'max_depth': 4, 'criterion': 'gini'},\n",
       " mean: 0.82716, std: 0.03915, params: {'max_features': 'auto', 'n_estimators': 50, 'max_depth': 4, 'criterion': 'gini'},\n",
       " mean: 0.82716, std: 0.03915, params: {'max_features': 'log2', 'n_estimators': 50, 'max_depth': 4, 'criterion': 'gini'},\n",
       " mean: 0.82716, std: 0.03621, params: {'max_features': None, 'n_estimators': 100, 'max_depth': 5, 'criterion': 'gini'},\n",
       " mean: 0.82604, std: 0.04190, params: {'max_features': 'auto', 'n_estimators': 100, 'max_depth': 5, 'criterion': 'entropy'},\n",
       " mean: 0.82604, std: 0.04190, params: {'max_features': 'log2', 'n_estimators': 100, 'max_depth': 5, 'criterion': 'entropy'},\n",
       " mean: 0.82492, std: 0.03881, params: {'max_features': None, 'n_estimators': 100, 'max_depth': 5, 'criterion': 'entropy'},\n",
       " mean: 0.82492, std: 0.04470, params: {'max_features': 'auto', 'n_estimators': 20, 'max_depth': 4, 'criterion': 'gini'},\n",
       " mean: 0.82492, std: 0.04470, params: {'max_features': 'log2', 'n_estimators': 20, 'max_depth': 4, 'criterion': 'gini'},\n",
       " mean: 0.82492, std: 0.03903, params: {'max_features': None, 'n_estimators': 20, 'max_depth': 5, 'criterion': 'gini'},\n",
       " mean: 0.82492, std: 0.03941, params: {'max_features': 'auto', 'n_estimators': 50, 'max_depth': 5, 'criterion': 'gini'},\n",
       " mean: 0.82492, std: 0.03941, params: {'max_features': 'log2', 'n_estimators': 50, 'max_depth': 5, 'criterion': 'gini'}]"
      ]
     },
     "execution_count": 82,
     "metadata": {},
     "output_type": "execute_result"
    }
   ],
   "source": [
    "rf_grid = GridSearchCV(estimator = RandomForestClassifier(warm_start=True, random_state=seed), \n",
    "                       param_grid = {'n_estimators': [10, 20, 50, 100],\n",
    "                                     'criterion': ['entropy', 'gini'], \n",
    "                                     'max_features': [None, 'auto', 'log2'], \n",
    "                                     'max_depth': [None, 3, 4, 5, 10]}, \n",
    "                       cv = kfold, \n",
    "                       scoring = scoring)\n",
    "\n",
    "rf_grid.fit(X, y)\n",
    "\n",
    "rf_best = max(rf_best, (rf_grid.best_score_, rf_grid.best_params_))\n",
    "\n",
    "rf_grid.grid_scores_.sort(key=lambda x: x[1], reverse=True)\n",
    "rf_grid.grid_scores_[:15]"
   ]
  },
  {
   "cell_type": "code",
   "execution_count": 84,
   "metadata": {
    "collapsed": false
   },
   "outputs": [
    {
     "data": {
      "text/plain": [
       "[mean: 0.82828, std: 0.03966, params: {'max_features': 'sqrt', 'n_estimators': 100, 'max_depth': 4, 'criterion': 'entropy'},\n",
       " mean: 0.82828, std: 0.03966, params: {'max_features': 'log2', 'n_estimators': 100, 'max_depth': 4, 'criterion': 'entropy'},\n",
       " mean: 0.82828, std: 0.04243, params: {'max_features': 'sqrt', 'n_estimators': 100, 'max_depth': 6, 'criterion': 'entropy'},\n",
       " mean: 0.82828, std: 0.04243, params: {'max_features': 'log2', 'n_estimators': 100, 'max_depth': 6, 'criterion': 'entropy'},\n",
       " mean: 0.82828, std: 0.03966, params: {'max_features': 'sqrt', 'n_estimators': 100, 'max_depth': 4, 'criterion': 'gini'},\n",
       " mean: 0.82828, std: 0.03966, params: {'max_features': 'log2', 'n_estimators': 100, 'max_depth': 4, 'criterion': 'gini'},\n",
       " mean: 0.82716, std: 0.04732, params: {'max_features': 'sqrt', 'n_estimators': 50, 'max_depth': 6, 'criterion': 'entropy'},\n",
       " mean: 0.82716, std: 0.04732, params: {'max_features': 'log2', 'n_estimators': 50, 'max_depth': 6, 'criterion': 'entropy'},\n",
       " mean: 0.82716, std: 0.03915, params: {'max_features': 'sqrt', 'n_estimators': 50, 'max_depth': 4, 'criterion': 'gini'},\n",
       " mean: 0.82716, std: 0.03915, params: {'max_features': 'log2', 'n_estimators': 50, 'max_depth': 4, 'criterion': 'gini'},\n",
       " mean: 0.82716, std: 0.04386, params: {'max_features': 'sqrt', 'n_estimators': 100, 'max_depth': 6, 'criterion': 'gini'},\n",
       " mean: 0.82716, std: 0.04386, params: {'max_features': 'log2', 'n_estimators': 100, 'max_depth': 6, 'criterion': 'gini'},\n",
       " mean: 0.82604, std: 0.04190, params: {'max_features': 'sqrt', 'n_estimators': 100, 'max_depth': 5, 'criterion': 'entropy'},\n",
       " mean: 0.82604, std: 0.04190, params: {'max_features': 'log2', 'n_estimators': 100, 'max_depth': 5, 'criterion': 'entropy'},\n",
       " mean: 0.82492, std: 0.03941, params: {'max_features': 'sqrt', 'n_estimators': 50, 'max_depth': 5, 'criterion': 'gini'}]"
      ]
     },
     "execution_count": 84,
     "metadata": {},
     "output_type": "execute_result"
    }
   ],
   "source": [
    "rf_grid = GridSearchCV(estimator = RandomForestClassifier(warm_start=True, random_state=seed), \n",
    "                       param_grid = {'n_estimators': [50, 100],\n",
    "                                     'criterion': ['entropy', 'gini'], \n",
    "                                     'max_features': ['sqrt', 'log2'], \n",
    "                                     'max_depth': [4, 5, 6, 7]}, \n",
    "                       cv = kfold, \n",
    "                       scoring = scoring)\n",
    "\n",
    "rf_grid.fit(X, y)\n",
    "\n",
    "# rf_best = max(rf_best, (rf_grid.best_score_, rf_grid.best_params_))\n",
    "\n",
    "rf_grid.grid_scores_.sort(key=lambda x: x[1], reverse=True)\n",
    "rf_grid.grid_scores_[:15]"
   ]
  },
  {
   "cell_type": "code",
   "execution_count": 85,
   "metadata": {
    "collapsed": false
   },
   "outputs": [
    {
     "data": {
      "text/plain": [
       "[mean: 0.82941, std: 0.04144, params: {'max_features': 'log2', 'n_estimators': 125, 'max_depth': 4, 'criterion': 'entropy'},\n",
       " mean: 0.82941, std: 0.04144, params: {'max_features': 'log2', 'n_estimators': 150, 'max_depth': 4, 'criterion': 'entropy'},\n",
       " mean: 0.82941, std: 0.04144, params: {'max_features': 'log2', 'n_estimators': 200, 'max_depth': 4, 'criterion': 'entropy'},\n",
       " mean: 0.82941, std: 0.04144, params: {'max_features': 'log2', 'n_estimators': 200, 'max_depth': 4, 'criterion': 'gini'},\n",
       " mean: 0.82828, std: 0.03966, params: {'max_features': 'log2', 'n_estimators': 100, 'max_depth': 4, 'criterion': 'entropy'},\n",
       " mean: 0.82828, std: 0.03966, params: {'max_features': 'log2', 'n_estimators': 100, 'max_depth': 4, 'criterion': 'gini'},\n",
       " mean: 0.82828, std: 0.03966, params: {'max_features': 'log2', 'n_estimators': 125, 'max_depth': 4, 'criterion': 'gini'},\n",
       " mean: 0.82828, std: 0.03966, params: {'max_features': 'log2', 'n_estimators': 150, 'max_depth': 4, 'criterion': 'gini'},\n",
       " mean: 0.82604, std: 0.03744, params: {'max_features': 'log2', 'n_estimators': 75, 'max_depth': 4, 'criterion': 'entropy'},\n",
       " mean: 0.82492, std: 0.03571, params: {'max_features': 'log2', 'n_estimators': 75, 'max_depth': 4, 'criterion': 'gini'},\n",
       " mean: 0.82155, std: 0.04006, params: {'max_features': 'log2', 'n_estimators': 150, 'max_depth': 8, 'criterion': 'gini'},\n",
       " mean: 0.81930, std: 0.04294, params: {'max_features': 'log2', 'n_estimators': 125, 'max_depth': 8, 'criterion': 'entropy'},\n",
       " mean: 0.81930, std: 0.04382, params: {'max_features': 'log2', 'n_estimators': 150, 'max_depth': 8, 'criterion': 'entropy'},\n",
       " mean: 0.81930, std: 0.04145, params: {'max_features': 'log2', 'n_estimators': 200, 'max_depth': 8, 'criterion': 'entropy'},\n",
       " mean: 0.81818, std: 0.04392, params: {'max_features': 'log2', 'n_estimators': 100, 'max_depth': 8, 'criterion': 'entropy'}]"
      ]
     },
     "execution_count": 85,
     "metadata": {},
     "output_type": "execute_result"
    }
   ],
   "source": [
    "rf_grid = GridSearchCV(estimator = RandomForestClassifier(warm_start=True, random_state=seed), \n",
    "                       param_grid = {'n_estimators': [75, 100, 125, 150, 200],\n",
    "                                     'criterion': ['entropy', 'gini'], \n",
    "                                     'max_features': ['log2'], \n",
    "                                     'max_depth': [4, 8, 9, 10]}, \n",
    "                       cv = kfold, \n",
    "                       scoring = scoring)\n",
    "\n",
    "rf_grid.fit(X, y)\n",
    "\n",
    "rf_best = max(rf_best, (rf_grid.best_score_, rf_grid.best_params_))\n",
    "\n",
    "rf_grid.grid_scores_.sort(key=lambda x: x[1], reverse=True)\n",
    "rf_grid.grid_scores_[:15]"
   ]
  },
  {
   "cell_type": "code",
   "execution_count": 87,
   "metadata": {
    "collapsed": false
   },
   "outputs": [
    {
     "data": {
      "text/plain": [
       "[mean: 0.82941, std: 0.04144, params: {'max_features': 'log2', 'n_estimators': 110, 'max_depth': 4, 'criterion': 'entropy'},\n",
       " mean: 0.82828, std: 0.03966, params: {'max_features': 'log2', 'n_estimators': 100, 'max_depth': 4, 'criterion': 'entropy'},\n",
       " mean: 0.82828, std: 0.03966, params: {'max_features': 'log2', 'n_estimators': 120, 'max_depth': 4, 'criterion': 'entropy'},\n",
       " mean: 0.82828, std: 0.03966, params: {'max_features': 'log2', 'n_estimators': 90, 'max_depth': 4, 'criterion': 'gini'},\n",
       " mean: 0.82828, std: 0.03966, params: {'max_features': 'log2', 'n_estimators': 100, 'max_depth': 4, 'criterion': 'gini'},\n",
       " mean: 0.82828, std: 0.03966, params: {'max_features': 'log2', 'n_estimators': 110, 'max_depth': 4, 'criterion': 'gini'},\n",
       " mean: 0.82828, std: 0.03966, params: {'max_features': 'log2', 'n_estimators': 120, 'max_depth': 4, 'criterion': 'gini'},\n",
       " mean: 0.82716, std: 0.03809, params: {'max_features': 'log2', 'n_estimators': 90, 'max_depth': 4, 'criterion': 'entropy'},\n",
       " mean: 0.82604, std: 0.03744, params: {'max_features': 'log2', 'n_estimators': 80, 'max_depth': 4, 'criterion': 'entropy'},\n",
       " mean: 0.82604, std: 0.03744, params: {'max_features': 'log2', 'n_estimators': 80, 'max_depth': 4, 'criterion': 'gini'}]"
      ]
     },
     "execution_count": 87,
     "metadata": {},
     "output_type": "execute_result"
    }
   ],
   "source": [
    "rf_grid = GridSearchCV(estimator = RandomForestClassifier(warm_start=True, random_state=seed), \n",
    "                       param_grid = {'n_estimators': [80, 90, 100, 110, 120],\n",
    "                                     'criterion': ['entropy', 'gini'], \n",
    "                                     'max_features': ['log2'], \n",
    "                                     'max_depth': [4]}, \n",
    "                       cv = kfold, \n",
    "                       scoring = scoring)\n",
    "\n",
    "rf_grid.fit(X, y)\n",
    "\n",
    "# rf_best = max(rf_best, (rf_grid.best_score_, rf_grid.best_params_))\n",
    "\n",
    "rf_grid.grid_scores_.sort(key=lambda x: x[1], reverse=True)\n",
    "rf_grid.grid_scores_[:10]"
   ]
  },
  {
   "cell_type": "code",
   "execution_count": 88,
   "metadata": {
    "collapsed": false
   },
   "outputs": [
    {
     "data": {
      "text/plain": [
       "(0.82940516273849607,\n",
       " {'criterion': 'entropy',\n",
       "  'max_depth': 4,\n",
       "  'max_features': 'log2',\n",
       "  'n_estimators': 125})"
      ]
     },
     "execution_count": 88,
     "metadata": {},
     "output_type": "execute_result"
    }
   ],
   "source": [
    "rf_best"
   ]
  },
  {
   "cell_type": "markdown",
   "metadata": {},
   "source": [
    "### Ada boost"
   ]
  },
  {
   "cell_type": "code",
   "execution_count": 89,
   "metadata": {
    "collapsed": false
   },
   "outputs": [
    {
     "data": {
      "text/plain": [
       "[mean: 0.82604, std: 0.03685, params: {'learning_rate': 1, 'n_estimators': 25, 'algorithm': 'SAMME'},\n",
       " mean: 0.82604, std: 0.03615, params: {'learning_rate': 1, 'n_estimators': 50, 'algorithm': 'SAMME'},\n",
       " mean: 0.82043, std: 0.03041, params: {'learning_rate': 1, 'n_estimators': 100, 'algorithm': 'SAMME'},\n",
       " mean: 0.81369, std: 0.03184, params: {'learning_rate': 0.1, 'n_estimators': 100, 'algorithm': 'SAMME.R'},\n",
       " mean: 0.81369, std: 0.03293, params: {'learning_rate': 1, 'n_estimators': 100, 'algorithm': 'SAMME.R'},\n",
       " mean: 0.81257, std: 0.03530, params: {'learning_rate': 1, 'n_estimators': 10, 'algorithm': 'SAMME.R'},\n",
       " mean: 0.80920, std: 0.02335, params: {'learning_rate': 1, 'n_estimators': 25, 'algorithm': 'SAMME.R'},\n",
       " mean: 0.80920, std: 0.02965, params: {'learning_rate': 1, 'n_estimators': 50, 'algorithm': 'SAMME.R'},\n",
       " mean: 0.80359, std: 0.04215, params: {'learning_rate': 1, 'n_estimators': 10, 'algorithm': 'SAMME'},\n",
       " mean: 0.79686, std: 0.04010, params: {'learning_rate': 0.1, 'n_estimators': 100, 'algorithm': 'SAMME'}]"
      ]
     },
     "execution_count": 89,
     "metadata": {},
     "output_type": "execute_result"
    }
   ],
   "source": [
    "ada_grid = GridSearchCV(estimator = AdaBoostClassifier(random_state=seed), \n",
    "                        param_grid = {'algorithm': ['SAMME', 'SAMME.R'],\n",
    "                                      'n_estimators': [10, 25, 50, 100],\n",
    "                                      'learning_rate': [1e-3, 1e-2, 1e-1, 1]},\n",
    "                        cv = kfold, \n",
    "                        scoring = scoring) \n",
    "\n",
    "ada_grid.fit(X, y)\n",
    "\n",
    "ada_best = max(ada_best, (ada_grid.best_score_, ada_grid.best_params_))\n",
    "\n",
    "ada_grid.grid_scores_.sort(key=lambda x: x[1], reverse=True)\n",
    "ada_grid.grid_scores_[:10]"
   ]
  },
  {
   "cell_type": "code",
   "execution_count": 90,
   "metadata": {
    "collapsed": false
   },
   "outputs": [
    {
     "data": {
      "text/plain": [
       "[mean: 0.82604, std: 0.03685, params: {'learning_rate': 1, 'n_estimators': 25, 'algorithm': 'SAMME'},\n",
       " mean: 0.82604, std: 0.03615, params: {'learning_rate': 1, 'n_estimators': 50, 'algorithm': 'SAMME'},\n",
       " mean: 0.82267, std: 0.03232, params: {'learning_rate': 1, 'n_estimators': 150, 'algorithm': 'SAMME'},\n",
       " mean: 0.82155, std: 0.03258, params: {'learning_rate': 1, 'n_estimators': 75, 'algorithm': 'SAMME'},\n",
       " mean: 0.82043, std: 0.03041, params: {'learning_rate': 1, 'n_estimators': 100, 'algorithm': 'SAMME'},\n",
       " mean: 0.81818, std: 0.03388, params: {'learning_rate': 0.5, 'n_estimators': 150, 'algorithm': 'SAMME'},\n",
       " mean: 0.81594, std: 0.02838, params: {'learning_rate': 0.5, 'n_estimators': 50, 'algorithm': 'SAMME'},\n",
       " mean: 0.81481, std: 0.02971, params: {'learning_rate': 0.5, 'n_estimators': 100, 'algorithm': 'SAMME'},\n",
       " mean: 0.81481, std: 0.03370, params: {'learning_rate': 0.1, 'n_estimators': 150, 'algorithm': 'SAMME.R'},\n",
       " mean: 0.81481, std: 0.03216, params: {'learning_rate': 0.5, 'n_estimators': 25, 'algorithm': 'SAMME.R'}]"
      ]
     },
     "execution_count": 90,
     "metadata": {},
     "output_type": "execute_result"
    }
   ],
   "source": [
    "ada_grid = GridSearchCV(estimator = AdaBoostClassifier(random_state=seed), \n",
    "                        param_grid = {'algorithm': ['SAMME', 'SAMME.R'],\n",
    "                                      'n_estimators': [25, 50, 75, 100, 150],\n",
    "                                      'learning_rate': [0.1, 0.5, 1, 2]},\n",
    "                        cv = kfold, \n",
    "                        scoring = scoring) \n",
    "\n",
    "ada_grid.fit(X, y)\n",
    "\n",
    "ada_best = max(ada_best, (ada_grid.best_score_, ada_grid.best_params_))\n",
    "\n",
    "ada_grid.grid_scores_.sort(key=lambda x: x[1], reverse=True)\n",
    "ada_grid.grid_scores_[:10]"
   ]
  },
  {
   "cell_type": "code",
   "execution_count": 91,
   "metadata": {
    "collapsed": false
   },
   "outputs": [
    {
     "data": {
      "text/plain": [
       "[mean: 0.82716, std: 0.03542, params: {'learning_rate': 1, 'n_estimators': 40, 'algorithm': 'SAMME'},\n",
       " mean: 0.82604, std: 0.03097, params: {'learning_rate': 1, 'n_estimators': 20, 'algorithm': 'SAMME'},\n",
       " mean: 0.82604, std: 0.03615, params: {'learning_rate': 1, 'n_estimators': 50, 'algorithm': 'SAMME'},\n",
       " mean: 0.82604, std: 0.03189, params: {'learning_rate': 1.4, 'n_estimators': 20, 'algorithm': 'SAMME'},\n",
       " mean: 0.82379, std: 0.03113, params: {'learning_rate': 1.4, 'n_estimators': 40, 'algorithm': 'SAMME'},\n",
       " mean: 0.82267, std: 0.02893, params: {'learning_rate': 1.4, 'n_estimators': 30, 'algorithm': 'SAMME'},\n",
       " mean: 0.82267, std: 0.03021, params: {'learning_rate': 1.4, 'n_estimators': 50, 'algorithm': 'SAMME'},\n",
       " mean: 0.82155, std: 0.02671, params: {'learning_rate': 0.8, 'n_estimators': 30, 'algorithm': 'SAMME'},\n",
       " mean: 0.82155, std: 0.03258, params: {'learning_rate': 0.8, 'n_estimators': 40, 'algorithm': 'SAMME'},\n",
       " mean: 0.82155, std: 0.03335, params: {'learning_rate': 0.8, 'n_estimators': 50, 'algorithm': 'SAMME'}]"
      ]
     },
     "execution_count": 91,
     "metadata": {},
     "output_type": "execute_result"
    }
   ],
   "source": [
    "ada_grid = GridSearchCV(estimator = AdaBoostClassifier(random_state=seed), \n",
    "                        param_grid = {'algorithm': ['SAMME'],\n",
    "                                      'n_estimators': [20, 30, 40, 50, 60, 70],\n",
    "                                      'learning_rate': [0.2, 0.4, 0.6, 0.8, 1, 1.2, 1.4]},\n",
    "                        cv = kfold, \n",
    "                        scoring = scoring) \n",
    "\n",
    "ada_grid.fit(X, y)\n",
    "\n",
    "ada_best = max(ada_best, (ada_grid.best_score_, ada_grid.best_params_))\n",
    "\n",
    "ada_grid.grid_scores_.sort(key=lambda x: x[1], reverse=True)\n",
    "ada_grid.grid_scores_[:10]"
   ]
  },
  {
   "cell_type": "code",
   "execution_count": 124,
   "metadata": {
    "collapsed": false
   },
   "outputs": [
    {
     "data": {
      "text/plain": [
       "[mean: 0.82941, std: 0.03835, params: {'learning_rate': 1, 'n_estimators': 38, 'algorithm': 'SAMME'},\n",
       " mean: 0.82941, std: 0.03266, params: {'learning_rate': 1, 'n_estimators': 45, 'algorithm': 'SAMME'},\n",
       " mean: 0.82828, std: 0.03676, params: {'learning_rate': 1, 'n_estimators': 36, 'algorithm': 'SAMME'},\n",
       " mean: 0.82828, std: 0.03464, params: {'learning_rate': 1, 'n_estimators': 39, 'algorithm': 'SAMME'},\n",
       " mean: 0.82828, std: 0.03428, params: {'learning_rate': 1, 'n_estimators': 42, 'algorithm': 'SAMME'},\n",
       " mean: 0.82828, std: 0.03428, params: {'learning_rate': 1, 'n_estimators': 46, 'algorithm': 'SAMME'},\n",
       " mean: 0.82828, std: 0.03428, params: {'learning_rate': 1, 'n_estimators': 47, 'algorithm': 'SAMME'},\n",
       " mean: 0.82828, std: 0.03428, params: {'learning_rate': 1, 'n_estimators': 48, 'algorithm': 'SAMME'},\n",
       " mean: 0.82716, std: 0.03542, params: {'learning_rate': 1, 'n_estimators': 40, 'algorithm': 'SAMME'},\n",
       " mean: 0.82716, std: 0.03322, params: {'learning_rate': 1, 'n_estimators': 43, 'algorithm': 'SAMME'}]"
      ]
     },
     "execution_count": 124,
     "metadata": {},
     "output_type": "execute_result"
    }
   ],
   "source": [
    "ada_grid = GridSearchCV(estimator = AdaBoostClassifier(random_state=seed), \n",
    "                        param_grid = {'algorithm': ['SAMME'],\n",
    "                                      'n_estimators': list(range(35, 50)),\n",
    "                                      'learning_rate': [0.9, 1, 1.1, 1.4]},\n",
    "                        cv = kfold, \n",
    "                        scoring = scoring) \n",
    "\n",
    "ada_grid.fit(X, y)\n",
    "\n",
    "ada_best = max(ada_best, (ada_grid.best_score_, ada_grid.best_params_))\n",
    "\n",
    "ada_grid.grid_scores_.sort(key=lambda x: x[1], reverse=True)\n",
    "ada_grid.grid_scores_[:10]"
   ]
  },
  {
   "cell_type": "code",
   "execution_count": 125,
   "metadata": {
    "collapsed": false
   },
   "outputs": [
    {
     "data": {
      "text/plain": [
       "(0.82940516273849607,\n",
       " {'algorithm': 'SAMME', 'learning_rate': 1, 'n_estimators': 38})"
      ]
     },
     "execution_count": 125,
     "metadata": {},
     "output_type": "execute_result"
    }
   ],
   "source": [
    "ada_best"
   ]
  },
  {
   "cell_type": "markdown",
   "metadata": {},
   "source": [
    "### Gradient boost"
   ]
  },
  {
   "cell_type": "code",
   "execution_count": 93,
   "metadata": {
    "collapsed": false
   },
   "outputs": [
    {
     "data": {
      "text/plain": [
       "[mean: 0.82828, std: 0.03736, params: {'max_features': 'sqrt', 'learning_rate': 1, 'n_estimators': 20, 'max_depth': 2, 'loss': 'deviance'},\n",
       " mean: 0.82828, std: 0.03736, params: {'max_features': 'log2', 'learning_rate': 1, 'n_estimators': 20, 'max_depth': 2, 'loss': 'deviance'},\n",
       " mean: 0.82716, std: 0.04195, params: {'max_features': 'sqrt', 'learning_rate': 0.1, 'n_estimators': 100, 'max_depth': 2, 'loss': 'deviance'},\n",
       " mean: 0.82716, std: 0.04195, params: {'max_features': 'log2', 'learning_rate': 0.1, 'n_estimators': 100, 'max_depth': 2, 'loss': 'deviance'},\n",
       " mean: 0.82604, std: 0.03711, params: {'max_features': 'sqrt', 'learning_rate': 0.01, 'n_estimators': 200, 'max_depth': 3, 'loss': 'deviance'},\n",
       " mean: 0.82604, std: 0.03711, params: {'max_features': 'log2', 'learning_rate': 0.01, 'n_estimators': 200, 'max_depth': 3, 'loss': 'deviance'},\n",
       " mean: 0.82604, std: 0.03711, params: {'max_features': 'sqrt', 'learning_rate': 0.01, 'n_estimators': 200, 'max_depth': 3, 'loss': 'exponential'},\n",
       " mean: 0.82604, std: 0.03711, params: {'max_features': 'log2', 'learning_rate': 0.01, 'n_estimators': 200, 'max_depth': 3, 'loss': 'exponential'},\n",
       " mean: 0.82604, std: 0.03294, params: {'max_features': 'sqrt', 'learning_rate': 0.1, 'n_estimators': 50, 'max_depth': 2, 'loss': 'deviance'},\n",
       " mean: 0.82604, std: 0.04585, params: {'max_features': 'sqrt', 'learning_rate': 0.1, 'n_estimators': 200, 'max_depth': 2, 'loss': 'deviance'},\n",
       " mean: 0.82604, std: 0.03294, params: {'max_features': 'log2', 'learning_rate': 0.1, 'n_estimators': 50, 'max_depth': 2, 'loss': 'deviance'},\n",
       " mean: 0.82604, std: 0.04585, params: {'max_features': 'log2', 'learning_rate': 0.1, 'n_estimators': 200, 'max_depth': 2, 'loss': 'deviance'},\n",
       " mean: 0.82604, std: 0.03793, params: {'max_features': 'sqrt', 'learning_rate': 1, 'n_estimators': 50, 'max_depth': 2, 'loss': 'deviance'},\n",
       " mean: 0.82604, std: 0.03793, params: {'max_features': 'log2', 'learning_rate': 1, 'n_estimators': 50, 'max_depth': 2, 'loss': 'deviance'},\n",
       " mean: 0.82492, std: 0.03579, params: {'max_features': 'sqrt', 'learning_rate': 0.01, 'n_estimators': 100, 'max_depth': 4, 'loss': 'deviance'}]"
      ]
     },
     "execution_count": 93,
     "metadata": {},
     "output_type": "execute_result"
    }
   ],
   "source": [
    "gbm_grid = GridSearchCV(estimator = GradientBoostingClassifier(warm_start=True, random_state=seed),\n",
    "                        param_grid = {'n_estimators': [20, 50, 100, 200],\n",
    "                                      'loss': ['deviance', 'exponential'],\n",
    "                                      'max_depth': [2, 3, 4, 5],\n",
    "                                      'max_features': ['sqrt', 'log2'],\n",
    "                                      'learning_rate': [0.01, 0.1, 1]}, \n",
    "                        cv = kfold, \n",
    "                        scoring = scoring) \n",
    "\n",
    "\n",
    "gbm_grid.fit(X, y)\n",
    "\n",
    "gbm_best = max(gbm_best, (gbm_grid.best_score_, gbm_grid.best_params_))\n",
    "\n",
    "gbm_grid.grid_scores_.sort(key=lambda x: x[1], reverse=True)\n",
    "gbm_grid.grid_scores_[:15]"
   ]
  },
  {
   "cell_type": "code",
   "execution_count": 94,
   "metadata": {
    "collapsed": false
   },
   "outputs": [
    {
     "data": {
      "text/plain": [
       "[mean: 0.82828, std: 0.03736, params: {'max_features': 'log2', 'learning_rate': 1, 'n_estimators': 20, 'max_depth': 2},\n",
       " mean: 0.82716, std: 0.03534, params: {'max_features': 'log2', 'learning_rate': 0.5, 'n_estimators': 15, 'max_depth': 2},\n",
       " mean: 0.82716, std: 0.03550, params: {'max_features': 'log2', 'learning_rate': 0.5, 'n_estimators': 20, 'max_depth': 3},\n",
       " mean: 0.82492, std: 0.03216, params: {'max_features': 'log2', 'learning_rate': 0.1, 'n_estimators': 15, 'max_depth': 3},\n",
       " mean: 0.82379, std: 0.03385, params: {'max_features': 'log2', 'learning_rate': 0.5, 'n_estimators': 20, 'max_depth': 2},\n",
       " mean: 0.82267, std: 0.03347, params: {'max_features': 'log2', 'learning_rate': 0.5, 'n_estimators': 10, 'max_depth': 2},\n",
       " mean: 0.82267, std: 0.04079, params: {'max_features': 'log2', 'learning_rate': 0.5, 'n_estimators': 15, 'max_depth': 3},\n",
       " mean: 0.82155, std: 0.02913, params: {'max_features': 'log2', 'learning_rate': 0.1, 'n_estimators': 10, 'max_depth': 3},\n",
       " mean: 0.82155, std: 0.03438, params: {'max_features': 'log2', 'learning_rate': 1, 'n_estimators': 20, 'max_depth': 3},\n",
       " mean: 0.81930, std: 0.04132, params: {'max_features': 'log2', 'learning_rate': 1, 'n_estimators': 5, 'max_depth': 3}]"
      ]
     },
     "execution_count": 94,
     "metadata": {},
     "output_type": "execute_result"
    }
   ],
   "source": [
    "gbm_grid = GridSearchCV(estimator = GradientBoostingClassifier(warm_start=True, random_state=seed),\n",
    "                        param_grid = {'n_estimators': [5, 10, 15, 20],\n",
    "                                      'max_depth': [2, 3],\n",
    "                                      'max_features': ['log2'],\n",
    "                                      'learning_rate': [0.05, 0.1, 0.5, 1]}, \n",
    "                        cv = kfold, \n",
    "                        scoring = scoring) \n",
    "\n",
    "\n",
    "gbm_grid.fit(X, y)\n",
    "\n",
    "# gbm_best = max(gbm_best, (gbm_grid.best_score_, gbm_grid.best_params_))\n",
    "\n",
    "gbm_grid.grid_scores_.sort(key=lambda x: x[1], reverse=True)\n",
    "gbm_grid.grid_scores_[:10]"
   ]
  },
  {
   "cell_type": "code",
   "execution_count": 95,
   "metadata": {
    "collapsed": false
   },
   "outputs": [
    {
     "data": {
      "text/plain": [
       "[mean: 0.83502, std: 0.02582, params: {'max_features': 'log2', 'learning_rate': 1.2, 'n_estimators': 25, 'max_depth': 2},\n",
       " mean: 0.83165, std: 0.03250, params: {'max_features': 'log2', 'learning_rate': 0.6, 'n_estimators': 30, 'max_depth': 2},\n",
       " mean: 0.83165, std: 0.02563, params: {'max_features': 'log2', 'learning_rate': 1.2, 'n_estimators': 30, 'max_depth': 2},\n",
       " mean: 0.83053, std: 0.03960, params: {'max_features': 'log2', 'learning_rate': 0.5, 'n_estimators': 25, 'max_depth': 3},\n",
       " mean: 0.83053, std: 0.03797, params: {'max_features': 'log2', 'learning_rate': 0.6, 'n_estimators': 20, 'max_depth': 2},\n",
       " mean: 0.82941, std: 0.03908, params: {'max_features': 'log2', 'learning_rate': 0.5, 'n_estimators': 30, 'max_depth': 3},\n",
       " mean: 0.82941, std: 0.03735, params: {'max_features': 'log2', 'learning_rate': 0.7, 'n_estimators': 15, 'max_depth': 2},\n",
       " mean: 0.82941, std: 0.02783, params: {'max_features': 'log2', 'learning_rate': 0.7, 'n_estimators': 25, 'max_depth': 2},\n",
       " mean: 0.82941, std: 0.03852, params: {'max_features': 'log2', 'learning_rate': 0.7, 'n_estimators': 20, 'max_depth': 3},\n",
       " mean: 0.82941, std: 0.03667, params: {'max_features': 'log2', 'learning_rate': 1, 'n_estimators': 30, 'max_depth': 2}]"
      ]
     },
     "execution_count": 95,
     "metadata": {},
     "output_type": "execute_result"
    }
   ],
   "source": [
    "gbm_grid = GridSearchCV(estimator = GradientBoostingClassifier(warm_start=True, random_state=seed),\n",
    "                        param_grid = {'n_estimators': [15, 20, 25, 30],\n",
    "                                      'max_depth': [2, 3],\n",
    "                                      'max_features': ['log2'],\n",
    "                                      'learning_rate': [0.4, 0.5, 0.6, 0.7, 0.8, 0.9, 1, 1.1, 1.2]}, \n",
    "                        cv = kfold, \n",
    "                        scoring = scoring) \n",
    "\n",
    "\n",
    "gbm_grid.fit(X, y)\n",
    "\n",
    "# gbm_best = max(gbm_best, (gbm_grid.best_score_, gbm_grid.best_params_))\n",
    "\n",
    "gbm_grid.grid_scores_.sort(key=lambda x: x[1], reverse=True)\n",
    "gbm_grid.grid_scores_[:10]"
   ]
  },
  {
   "cell_type": "code",
   "execution_count": 96,
   "metadata": {
    "collapsed": false
   },
   "outputs": [
    {
     "data": {
      "text/plain": [
       "[mean: 0.83502, std: 0.02582, params: {'max_features': 'log2', 'learning_rate': 1.2, 'n_estimators': 25, 'max_depth': 2},\n",
       " mean: 0.83502, std: 0.02798, params: {'max_features': 'log2', 'learning_rate': 1.2, 'n_estimators': 27, 'max_depth': 2},\n",
       " mean: 0.83502, std: 0.02698, params: {'max_features': 'log2', 'learning_rate': 1.2, 'n_estimators': 31, 'max_depth': 2},\n",
       " mean: 0.83389, std: 0.03758, params: {'max_features': 'log2', 'learning_rate': 1.2, 'n_estimators': 22, 'max_depth': 3},\n",
       " mean: 0.83277, std: 0.02317, params: {'max_features': 'log2', 'learning_rate': 1.2, 'n_estimators': 26, 'max_depth': 2},\n",
       " mean: 0.83165, std: 0.03781, params: {'max_features': 'log2', 'learning_rate': 0.5, 'n_estimators': 24, 'max_depth': 3},\n",
       " mean: 0.83165, std: 0.03755, params: {'max_features': 'log2', 'learning_rate': 0.6, 'n_estimators': 22, 'max_depth': 2},\n",
       " mean: 0.83165, std: 0.03250, params: {'max_features': 'log2', 'learning_rate': 0.6, 'n_estimators': 30, 'max_depth': 2},\n",
       " mean: 0.83165, std: 0.02679, params: {'max_features': 'log2', 'learning_rate': 1.2, 'n_estimators': 23, 'max_depth': 2},\n",
       " mean: 0.83165, std: 0.02494, params: {'max_features': 'log2', 'learning_rate': 1.2, 'n_estimators': 28, 'max_depth': 2}]"
      ]
     },
     "execution_count": 96,
     "metadata": {},
     "output_type": "execute_result"
    }
   ],
   "source": [
    "gbm_grid = GridSearchCV(estimator = GradientBoostingClassifier(warm_start=True, random_state=seed),\n",
    "                        param_grid = {'n_estimators': list(range(20, 41)),\n",
    "                                      'max_depth': [2, 3],\n",
    "                                      'max_features': ['log2'],\n",
    "                                      'learning_rate': [0.5, 0.6, 0.7, 1, 1.1, 1.2, 1.3, 1.4, 1.5]}, \n",
    "                        cv = kfold, \n",
    "                        scoring = scoring) \n",
    "\n",
    "\n",
    "gbm_grid.fit(X, y)\n",
    "\n",
    "gbm_best = max(gbm_best, (gbm_grid.best_score_, gbm_grid.best_params_))\n",
    "\n",
    "gbm_grid.grid_scores_.sort(key=lambda x: x[1], reverse=True)\n",
    "gbm_grid.grid_scores_[:10]"
   ]
  },
  {
   "cell_type": "code",
   "execution_count": 126,
   "metadata": {
    "collapsed": false
   },
   "outputs": [
    {
     "data": {
      "text/plain": [
       "[mean: 0.82604, std: 0.03892, params: {'max_features': 'log2', 'learning_rate': 0.5, 'n_estimators': 24, 'max_depth': 1},\n",
       " mean: 0.82604, std: 0.04257, params: {'max_features': 'log2', 'learning_rate': 0.5, 'n_estimators': 26, 'max_depth': 1},\n",
       " mean: 0.82492, std: 0.04050, params: {'max_features': 'log2', 'learning_rate': 0.5, 'n_estimators': 23, 'max_depth': 1},\n",
       " mean: 0.82492, std: 0.04136, params: {'max_features': 'log2', 'learning_rate': 0.5, 'n_estimators': 25, 'max_depth': 1},\n",
       " mean: 0.82492, std: 0.03916, params: {'max_features': 'log2', 'learning_rate': 0.5, 'n_estimators': 27, 'max_depth': 1},\n",
       " mean: 0.82379, std: 0.03582, params: {'max_features': 'log2', 'learning_rate': 0.5, 'n_estimators': 20, 'max_depth': 1},\n",
       " mean: 0.82379, std: 0.03686, params: {'max_features': 'log2', 'learning_rate': 0.5, 'n_estimators': 21, 'max_depth': 1},\n",
       " mean: 0.82379, std: 0.04039, params: {'max_features': 'log2', 'learning_rate': 0.5, 'n_estimators': 31, 'max_depth': 1},\n",
       " mean: 0.82379, std: 0.03241, params: {'max_features': 'log2', 'learning_rate': 1, 'n_estimators': 30, 'max_depth': 1},\n",
       " mean: 0.82267, std: 0.03746, params: {'max_features': 'log2', 'learning_rate': 0.5, 'n_estimators': 22, 'max_depth': 1}]"
      ]
     },
     "execution_count": 126,
     "metadata": {},
     "output_type": "execute_result"
    }
   ],
   "source": [
    "gbm_grid = GridSearchCV(estimator = GradientBoostingClassifier(warm_start=True, random_state=seed),\n",
    "                        param_grid = {'n_estimators': list(range(20, 36)),\n",
    "                                      'max_depth': [1],\n",
    "                                      'max_features': ['log2'],\n",
    "                                      'learning_rate': [0.5, 1, 1.2]}, \n",
    "                        cv = kfold, \n",
    "                        scoring = scoring) \n",
    "\n",
    "\n",
    "gbm_grid.fit(X, y)\n",
    "\n",
    "gbm_best = max(gbm_best, (gbm_grid.best_score_, gbm_grid.best_params_))\n",
    "\n",
    "gbm_grid.grid_scores_.sort(key=lambda x: x[1], reverse=True)\n",
    "gbm_grid.grid_scores_[:10]"
   ]
  },
  {
   "cell_type": "code",
   "execution_count": 127,
   "metadata": {
    "collapsed": false
   },
   "outputs": [
    {
     "data": {
      "text/plain": [
       "(0.83501683501683499,\n",
       " {'learning_rate': 1.2,\n",
       "  'max_depth': 2,\n",
       "  'max_features': 'log2',\n",
       "  'n_estimators': 25})"
      ]
     },
     "execution_count": 127,
     "metadata": {},
     "output_type": "execute_result"
    }
   ],
   "source": [
    "gbm_best"
   ]
  },
  {
   "cell_type": "code",
   "execution_count": 128,
   "metadata": {
    "collapsed": false
   },
   "outputs": [
    {
     "name": "stdout",
     "output_type": "stream",
     "text": [
      "(0.82491582491582494, {'C': 2, 'penalty': 'l1'})\n",
      "(0.80808080808080807, {'n_neighbors': 10, 'algorithm': 'ball_tree', 'leaf_size': 7, 'weights': 'distance', 'p': 1})\n",
      "(0.81818181818181823, {'max_features': 'sqrt', 'max_depth': 4, 'criterion': 'entropy', 'splitter': 'best'})\n",
      "(0.81930415263748602, {'max_features': 9, 'max_samples': 11, 'n_estimators': 100})\n",
      "(0.82940516273849607, {'max_features': 'log2', 'n_estimators': 125, 'max_depth': 4, 'criterion': 'entropy'})\n",
      "(0.82940516273849607, {'learning_rate': 1, 'n_estimators': 38, 'algorithm': 'SAMME'})\n",
      "(0.83501683501683499, {'max_features': 'log2', 'learning_rate': 1.2, 'n_estimators': 25, 'max_depth': 2})\n"
     ]
    }
   ],
   "source": [
    "print(lr_best)\n",
    "print(knn_best)\n",
    "print(cart_best)\n",
    "print(bag_best)\n",
    "print(rf_best)\n",
    "print(ada_best)\n",
    "print(gbm_best)"
   ]
  },
  {
   "cell_type": "markdown",
   "metadata": {},
   "source": [
    "---"
   ]
  },
  {
   "cell_type": "markdown",
   "metadata": {},
   "source": [
    "## Democracy\n",
    "\n",
    "We'll check if it is better if everyone's vote should have the same weight, or better performers should have more power in deciding."
   ]
  },
  {
   "cell_type": "code",
   "execution_count": 129,
   "metadata": {
    "collapsed": false
   },
   "outputs": [],
   "source": [
    "estimators = [('lr', LogisticRegression(C=2, penalty='l1', random_state=seed)), \n",
    "              ('knn', KNeighborsClassifier(n_neighbors=11, algorithm='kd_tree', leaf_size=5, weights='distance', p=1)),\n",
    "              ('cart', DecisionTreeClassifier(max_features='log2', max_depth=4, criterion='entropy', \n",
    "                                              splitter='best', random_state=seed)),\n",
    "              ('bag', BaggingClassifier(max_features=9, max_samples=11, n_estimators=100)),\n",
    "              ('rf', RandomForestClassifier(warm_start=True, max_features='log2', n_estimators=110, \n",
    "                                            max_depth=4, criterion='entropy', random_state=seed)),\n",
    "              ('ada', AdaBoostClassifier(learning_rate=1, n_estimators=38, algorithm='SAMME')),\n",
    "              ('gbm', GradientBoostingClassifier(max_features='log2', learning_rate=1.2, n_estimators=25, max_depth=2))]"
   ]
  },
  {
   "cell_type": "code",
   "execution_count": 133,
   "metadata": {
    "collapsed": false
   },
   "outputs": [
    {
     "name": "stdout",
     "output_type": "stream",
     "text": [
      "(0.8362) +/- (0.0379)\n"
     ]
    }
   ],
   "source": [
    "voters = VotingClassifier(estimators, voting='soft')\n",
    "\n",
    "results = cross_val_score(voters, X, y, cv=kfold, scoring=scoring)\n",
    "print(\"({0:.4}) +/- ({1:.4f})\".format(results.mean(), results.std()))"
   ]
  },
  {
   "cell_type": "code",
   "execution_count": 131,
   "metadata": {
    "collapsed": false
   },
   "outputs": [
    {
     "name": "stdout",
     "output_type": "stream",
     "text": [
      "(0.8339) +/- (0.0441)\n"
     ]
    }
   ],
   "source": [
    "voters = VotingClassifier(estimators, voting='hard')\n",
    "\n",
    "results = cross_val_score(voters, X, y, cv=kfold, scoring=scoring)\n",
    "print(\"({0:.4}) +/- ({1:.4f})\".format(results.mean(), results.std()))"
   ]
  },
  {
   "cell_type": "code",
   "execution_count": 135,
   "metadata": {
    "collapsed": false
   },
   "outputs": [
    {
     "name": "stdout",
     "output_type": "stream",
     "text": [
      "(0.8317) +/- (0.0471)\n"
     ]
    }
   ],
   "source": [
    "voters = VotingClassifier(estimators, voting='soft', weights=[2, 1, 2, 2, 3, 3, 3])\n",
    "\n",
    "results = cross_val_score(voters, X, y, cv=kfold, scoring=scoring)\n",
    "print(\"({0:.4}) +/- ({1:.4f})\".format(results.mean(), results.std()))"
   ]
  },
  {
   "cell_type": "code",
   "execution_count": 143,
   "metadata": {
    "collapsed": false
   },
   "outputs": [
    {
     "name": "stdout",
     "output_type": "stream",
     "text": [
      "(0.8328) +/- (0.0444)\n"
     ]
    }
   ],
   "source": [
    "voters = VotingClassifier(estimators, voting='soft', weights=[2, 1, 1, 1, 2, 2, 2])\n",
    "\n",
    "results = cross_val_score(voters, X, y, cv=kfold, scoring=scoring)\n",
    "print(\"({0:.4}) +/- ({1:.4f})\".format(results.mean(), results.std()))"
   ]
  }
 ],
 "metadata": {
  "kernelspec": {
   "display_name": "Python 3",
   "language": "python",
   "name": "python3"
  },
  "language_info": {
   "codemirror_mode": {
    "name": "ipython",
    "version": 3
   },
   "file_extension": ".py",
   "mimetype": "text/x-python",
   "name": "python",
   "nbconvert_exporter": "python",
   "pygments_lexer": "ipython3",
   "version": "3.5.1"
  },
  "latex_envs": {
   "bibliofile": "biblio.bib",
   "cite_by": "apalike",
   "current_citInitial": 1,
   "eqLabelWithNumbers": true,
   "eqNumInitial": 0
  },
  "notify_time": "0",
  "toc": {
   "toc_cell": true,
   "toc_number_sections": false,
   "toc_threshold": "3",
   "toc_window_display": false
  }
 },
 "nbformat": 4,
 "nbformat_minor": 0
}
