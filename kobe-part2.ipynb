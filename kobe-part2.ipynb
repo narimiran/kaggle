{
 "cells": [
  {
   "cell_type": "markdown",
   "metadata": {},
   "source": [
    "# Intro\n",
    "\n",
    "This notebook continues from [my last one](./kobe-part1.ipynb) stopped, so I'll just quickly repeat all modifications I've already done, and then continue with the new stuff."
   ]
  },
  {
   "cell_type": "code",
   "execution_count": 2,
   "metadata": {
    "ExecuteTime": {
     "end_time": "2016-08-10T08:07:20.902710",
     "start_time": "2016-08-10T08:07:20.560690"
    },
    "collapsed": false
   },
   "outputs": [
    {
     "data": {
      "text/html": [
       "<div>\n",
       "<table border=\"1\" class=\"dataframe\">\n",
       "  <thead>\n",
       "    <tr style=\"text-align: right;\">\n",
       "      <th></th>\n",
       "      <th>action_type</th>\n",
       "      <th>combined_shot_type</th>\n",
       "      <th>loc_x</th>\n",
       "      <th>loc_y</th>\n",
       "      <th>period</th>\n",
       "      <th>playoffs</th>\n",
       "      <th>season</th>\n",
       "      <th>shot_made_flag</th>\n",
       "      <th>shot_zone_area</th>\n",
       "      <th>shot_zone_basic</th>\n",
       "      <th>opponent</th>\n",
       "      <th>time_remaining</th>\n",
       "      <th>shot_distance_</th>\n",
       "      <th>3pt_goal</th>\n",
       "      <th>game_year</th>\n",
       "      <th>game_month</th>\n",
       "      <th>game_day</th>\n",
       "      <th>home_game</th>\n",
       "    </tr>\n",
       "    <tr>\n",
       "      <th>shot_id</th>\n",
       "      <th></th>\n",
       "      <th></th>\n",
       "      <th></th>\n",
       "      <th></th>\n",
       "      <th></th>\n",
       "      <th></th>\n",
       "      <th></th>\n",
       "      <th></th>\n",
       "      <th></th>\n",
       "      <th></th>\n",
       "      <th></th>\n",
       "      <th></th>\n",
       "      <th></th>\n",
       "      <th></th>\n",
       "      <th></th>\n",
       "      <th></th>\n",
       "      <th></th>\n",
       "      <th></th>\n",
       "    </tr>\n",
       "  </thead>\n",
       "  <tbody>\n",
       "    <tr>\n",
       "      <th>5983</th>\n",
       "      <td>Jump Shot</td>\n",
       "      <td>Jump Shot</td>\n",
       "      <td>177</td>\n",
       "      <td>176</td>\n",
       "      <td>3</td>\n",
       "      <td>0</td>\n",
       "      <td>2003</td>\n",
       "      <td>1.0</td>\n",
       "      <td>Right Side Center(RC)</td>\n",
       "      <td>Above the Break 3</td>\n",
       "      <td>MIN</td>\n",
       "      <td>389</td>\n",
       "      <td>24.960970</td>\n",
       "      <td>1</td>\n",
       "      <td>2004</td>\n",
       "      <td>3</td>\n",
       "      <td>4</td>\n",
       "      <td>1</td>\n",
       "    </tr>\n",
       "    <tr>\n",
       "      <th>17953</th>\n",
       "      <td>Jump Shot</td>\n",
       "      <td>Jump Shot</td>\n",
       "      <td>43</td>\n",
       "      <td>67</td>\n",
       "      <td>3</td>\n",
       "      <td>0</td>\n",
       "      <td>2010</td>\n",
       "      <td>0.0</td>\n",
       "      <td>Center(C)</td>\n",
       "      <td>In The Paint (Non-RA)</td>\n",
       "      <td>UTA</td>\n",
       "      <td>353</td>\n",
       "      <td>7.961156</td>\n",
       "      <td>0</td>\n",
       "      <td>2011</td>\n",
       "      <td>4</td>\n",
       "      <td>1</td>\n",
       "      <td>1</td>\n",
       "    </tr>\n",
       "    <tr>\n",
       "      <th>24120</th>\n",
       "      <td>Layup Shot</td>\n",
       "      <td>Layup</td>\n",
       "      <td>34</td>\n",
       "      <td>35</td>\n",
       "      <td>2</td>\n",
       "      <td>0</td>\n",
       "      <td>1997</td>\n",
       "      <td>NaN</td>\n",
       "      <td>Center(C)</td>\n",
       "      <td>In The Paint (Non-RA)</td>\n",
       "      <td>TOR</td>\n",
       "      <td>497</td>\n",
       "      <td>4.879549</td>\n",
       "      <td>0</td>\n",
       "      <td>1998</td>\n",
       "      <td>3</td>\n",
       "      <td>1</td>\n",
       "      <td>0</td>\n",
       "    </tr>\n",
       "    <tr>\n",
       "      <th>26628</th>\n",
       "      <td>Driving Dunk Shot</td>\n",
       "      <td>Dunk</td>\n",
       "      <td>0</td>\n",
       "      <td>0</td>\n",
       "      <td>2</td>\n",
       "      <td>1</td>\n",
       "      <td>2001</td>\n",
       "      <td>NaN</td>\n",
       "      <td>Center(C)</td>\n",
       "      <td>Restricted Area</td>\n",
       "      <td>SAS</td>\n",
       "      <td>432</td>\n",
       "      <td>0.000000</td>\n",
       "      <td>0</td>\n",
       "      <td>2002</td>\n",
       "      <td>5</td>\n",
       "      <td>6</td>\n",
       "      <td>1</td>\n",
       "    </tr>\n",
       "    <tr>\n",
       "      <th>2082</th>\n",
       "      <td>Jump Shot</td>\n",
       "      <td>Jump Shot</td>\n",
       "      <td>144</td>\n",
       "      <td>45</td>\n",
       "      <td>3</td>\n",
       "      <td>0</td>\n",
       "      <td>2001</td>\n",
       "      <td>0.0</td>\n",
       "      <td>Right Side(R)</td>\n",
       "      <td>Mid-Range</td>\n",
       "      <td>TOR</td>\n",
       "      <td>662</td>\n",
       "      <td>15.086749</td>\n",
       "      <td>0</td>\n",
       "      <td>2002</td>\n",
       "      <td>1</td>\n",
       "      <td>6</td>\n",
       "      <td>0</td>\n",
       "    </tr>\n",
       "    <tr>\n",
       "      <th>13091</th>\n",
       "      <td>Driving Layup Shot</td>\n",
       "      <td>Layup</td>\n",
       "      <td>0</td>\n",
       "      <td>0</td>\n",
       "      <td>4</td>\n",
       "      <td>0</td>\n",
       "      <td>2007</td>\n",
       "      <td>1.0</td>\n",
       "      <td>Center(C)</td>\n",
       "      <td>Restricted Area</td>\n",
       "      <td>POR</td>\n",
       "      <td>54</td>\n",
       "      <td>0.000000</td>\n",
       "      <td>0</td>\n",
       "      <td>2008</td>\n",
       "      <td>4</td>\n",
       "      <td>1</td>\n",
       "      <td>0</td>\n",
       "    </tr>\n",
       "    <tr>\n",
       "      <th>4827</th>\n",
       "      <td>Jump Shot</td>\n",
       "      <td>Jump Shot</td>\n",
       "      <td>66</td>\n",
       "      <td>160</td>\n",
       "      <td>2</td>\n",
       "      <td>0</td>\n",
       "      <td>2002</td>\n",
       "      <td>0.0</td>\n",
       "      <td>Right Side Center(RC)</td>\n",
       "      <td>Mid-Range</td>\n",
       "      <td>SEA</td>\n",
       "      <td>621</td>\n",
       "      <td>17.307802</td>\n",
       "      <td>0</td>\n",
       "      <td>2003</td>\n",
       "      <td>3</td>\n",
       "      <td>6</td>\n",
       "      <td>0</td>\n",
       "    </tr>\n",
       "    <tr>\n",
       "      <th>29048</th>\n",
       "      <td>Jump Shot</td>\n",
       "      <td>Jump Shot</td>\n",
       "      <td>-190</td>\n",
       "      <td>190</td>\n",
       "      <td>4</td>\n",
       "      <td>1</td>\n",
       "      <td>2009</td>\n",
       "      <td>0.0</td>\n",
       "      <td>Left Side Center(LC)</td>\n",
       "      <td>Above the Break 3</td>\n",
       "      <td>OKC</td>\n",
       "      <td>362</td>\n",
       "      <td>26.870058</td>\n",
       "      <td>1</td>\n",
       "      <td>2010</td>\n",
       "      <td>4</td>\n",
       "      <td>6</td>\n",
       "      <td>1</td>\n",
       "    </tr>\n",
       "    <tr>\n",
       "      <th>4030</th>\n",
       "      <td>Jump Shot</td>\n",
       "      <td>Jump Shot</td>\n",
       "      <td>89</td>\n",
       "      <td>63</td>\n",
       "      <td>1</td>\n",
       "      <td>0</td>\n",
       "      <td>2002</td>\n",
       "      <td>0.0</td>\n",
       "      <td>Right Side(R)</td>\n",
       "      <td>Mid-Range</td>\n",
       "      <td>NJN</td>\n",
       "      <td>79</td>\n",
       "      <td>10.904128</td>\n",
       "      <td>0</td>\n",
       "      <td>2003</td>\n",
       "      <td>1</td>\n",
       "      <td>4</td>\n",
       "      <td>1</td>\n",
       "    </tr>\n",
       "    <tr>\n",
       "      <th>741</th>\n",
       "      <td>Jump Shot</td>\n",
       "      <td>Jump Shot</td>\n",
       "      <td>-107</td>\n",
       "      <td>99</td>\n",
       "      <td>2</td>\n",
       "      <td>0</td>\n",
       "      <td>2000</td>\n",
       "      <td>0.0</td>\n",
       "      <td>Left Side(L)</td>\n",
       "      <td>Mid-Range</td>\n",
       "      <td>UTA</td>\n",
       "      <td>296</td>\n",
       "      <td>14.577380</td>\n",
       "      <td>0</td>\n",
       "      <td>2001</td>\n",
       "      <td>1</td>\n",
       "      <td>2</td>\n",
       "      <td>1</td>\n",
       "    </tr>\n",
       "  </tbody>\n",
       "</table>\n",
       "</div>"
      ],
      "text/plain": [
       "                action_type combined_shot_type  loc_x  loc_y  period  \\\n",
       "shot_id                                                                \n",
       "5983              Jump Shot          Jump Shot    177    176       3   \n",
       "17953             Jump Shot          Jump Shot     43     67       3   \n",
       "24120            Layup Shot              Layup     34     35       2   \n",
       "26628     Driving Dunk Shot               Dunk      0      0       2   \n",
       "2082              Jump Shot          Jump Shot    144     45       3   \n",
       "13091    Driving Layup Shot              Layup      0      0       4   \n",
       "4827              Jump Shot          Jump Shot     66    160       2   \n",
       "29048             Jump Shot          Jump Shot   -190    190       4   \n",
       "4030              Jump Shot          Jump Shot     89     63       1   \n",
       "741               Jump Shot          Jump Shot   -107     99       2   \n",
       "\n",
       "         playoffs  season  shot_made_flag         shot_zone_area  \\\n",
       "shot_id                                                            \n",
       "5983            0    2003             1.0  Right Side Center(RC)   \n",
       "17953           0    2010             0.0              Center(C)   \n",
       "24120           0    1997             NaN              Center(C)   \n",
       "26628           1    2001             NaN              Center(C)   \n",
       "2082            0    2001             0.0          Right Side(R)   \n",
       "13091           0    2007             1.0              Center(C)   \n",
       "4827            0    2002             0.0  Right Side Center(RC)   \n",
       "29048           1    2009             0.0   Left Side Center(LC)   \n",
       "4030            0    2002             0.0          Right Side(R)   \n",
       "741             0    2000             0.0           Left Side(L)   \n",
       "\n",
       "               shot_zone_basic opponent  time_remaining  shot_distance_  \\\n",
       "shot_id                                                                   \n",
       "5983         Above the Break 3      MIN             389       24.960970   \n",
       "17953    In The Paint (Non-RA)      UTA             353        7.961156   \n",
       "24120    In The Paint (Non-RA)      TOR             497        4.879549   \n",
       "26628          Restricted Area      SAS             432        0.000000   \n",
       "2082                 Mid-Range      TOR             662       15.086749   \n",
       "13091          Restricted Area      POR              54        0.000000   \n",
       "4827                 Mid-Range      SEA             621       17.307802   \n",
       "29048        Above the Break 3      OKC             362       26.870058   \n",
       "4030                 Mid-Range      NJN              79       10.904128   \n",
       "741                  Mid-Range      UTA             296       14.577380   \n",
       "\n",
       "         3pt_goal  game_year  game_month  game_day  home_game  \n",
       "shot_id                                                        \n",
       "5983            1       2004           3         4          1  \n",
       "17953           0       2011           4         1          1  \n",
       "24120           0       1998           3         1          0  \n",
       "26628           0       2002           5         6          1  \n",
       "2082            0       2002           1         6          0  \n",
       "13091           0       2008           4         1          0  \n",
       "4827            0       2003           3         6          0  \n",
       "29048           1       2010           4         6          1  \n",
       "4030            0       2003           1         4          1  \n",
       "741             0       2001           1         2          1  "
      ]
     },
     "execution_count": 2,
     "metadata": {},
     "output_type": "execute_result"
    }
   ],
   "source": [
    "import numpy as np \n",
    "import pandas as pd \n",
    "import seaborn as sns\n",
    "import matplotlib.pyplot as plt\n",
    "%matplotlib inline\n",
    "sns.set_style('whitegrid')\n",
    "\n",
    "df = pd.read_csv('../../#data-sets/kobe_data.csv')\n",
    "\n",
    "not_needed = []\n",
    "\n",
    "not_needed.extend(['game_event_id', 'game_id'])\n",
    "\n",
    "not_needed.extend(['lon', 'lat'])\n",
    "\n",
    "df['time_remaining'] = 60 * df.loc[:, 'minutes_remaining'] + df.loc[:, 'seconds_remaining']\n",
    "not_needed.extend(['minutes_remaining', 'seconds_remaining'])\n",
    "\n",
    "df['season'] = df['season'].apply(lambda x: x[:4])\n",
    "df['season'] = pd.to_numeric(df['season'])\n",
    "\n",
    "dist = pd.DataFrame({'true_dist': np.sqrt((df['loc_x']/10)**2 + (df['loc_y']/10)**2), \n",
    "                     'shot_dist': df['shot_distance']})\n",
    "df['shot_distance_'] = dist['true_dist']\n",
    "not_needed.append('shot_distance')\n",
    "\n",
    "df['3pt_goal'] = df['shot_type'].str.contains('3PT').astype('int')\n",
    "not_needed.append('shot_type')\n",
    "\n",
    "not_needed.append('shot_zone_range')\n",
    "\n",
    "not_needed.extend(['team_id', 'team_name'])\n",
    "\n",
    "df['game_date'] = pd.to_datetime(df['game_date'])\n",
    "df['game_year'] = df['game_date'].dt.year\n",
    "df['game_month'] = df['game_date'].dt.month\n",
    "df['game_day'] = df['game_date'].dt.dayofweek\n",
    "not_needed.append('game_date')\n",
    "\n",
    "df['home_game'] = df['matchup'].str.contains('vs.').astype(int)\n",
    "not_needed.append('matchup')\n",
    "\n",
    "df.set_index('shot_id', inplace=True)\n",
    "\n",
    "df = df.drop(not_needed, axis=1)\n",
    "\n",
    "random_sample = df.take(np.random.permutation(len(df))[:10])\n",
    "random_sample.head(10)"
   ]
  },
  {
   "cell_type": "markdown",
   "metadata": {},
   "source": [
    "# New stuff\n",
    "\n",
    "After we've explored the data [last time](https://www.kaggle.com/narimiran/kobe-bryant-shot-selection/beginners-first-time), it's time to analyze some more."
   ]
  },
  {
   "cell_type": "markdown",
   "metadata": {},
   "source": [
    "## Action types"
   ]
  },
  {
   "cell_type": "code",
   "execution_count": 3,
   "metadata": {
    "ExecuteTime": {
     "end_time": "2016-08-10T08:07:20.911711",
     "start_time": "2016-08-10T08:07:20.903710"
    },
    "collapsed": false,
    "scrolled": true
   },
   "outputs": [
    {
     "data": {
      "text/plain": [
       "Jump Shot                             18880\n",
       "Layup Shot                             2567\n",
       "Driving Layup Shot                     1978\n",
       "Turnaround Jump Shot                   1057\n",
       "Fadeaway Jump Shot                     1048\n",
       "Running Jump Shot                       926\n",
       "Pullup Jump shot                        476\n",
       "Turnaround Fadeaway shot                439\n",
       "Slam Dunk Shot                          411\n",
       "Reverse Layup Shot                      395\n",
       "Jump Bank Shot                          333\n",
       "Driving Dunk Shot                       310\n",
       "Dunk Shot                               262\n",
       "Tip Shot                                182\n",
       "Alley Oop Dunk Shot                     122\n",
       "Step Back Jump shot                     118\n",
       "Floating Jump shot                      114\n",
       "Driving Reverse Layup Shot               97\n",
       "Hook Shot                                84\n",
       "Driving Finger Roll Shot                 82\n",
       "Alley Oop Layup shot                     80\n",
       "Reverse Dunk Shot                        75\n",
       "Running Layup Shot                       72\n",
       "Turnaround Bank shot                     71\n",
       "Driving Finger Roll Layup Shot           69\n",
       "Driving Slam Dunk Shot                   48\n",
       "Running Bank shot                        48\n",
       "Running Hook Shot                        41\n",
       "Finger Roll Layup Shot                   33\n",
       "Fadeaway Bank shot                       31\n",
       "Finger Roll Shot                         28\n",
       "Driving Jump shot                        28\n",
       "Jump Hook Shot                           24\n",
       "Running Dunk Shot                        19\n",
       "Reverse Slam Dunk Shot                   16\n",
       "Follow Up Dunk Shot                      15\n",
       "Putback Layup Shot                       15\n",
       "Turnaround Hook Shot                     14\n",
       "Driving Hook Shot                        14\n",
       "Pullup Bank shot                         12\n",
       "Running Reverse Layup Shot               11\n",
       "Cutting Layup Shot                        6\n",
       "Running Finger Roll Layup Shot            6\n",
       "Driving Floating Jump Shot                5\n",
       "Driving Bank shot                         5\n",
       "Putback Dunk Shot                         5\n",
       "Hook Bank Shot                            5\n",
       "Running Finger Roll Shot                  4\n",
       "Running Pull-Up Jump Shot                 4\n",
       "Putback Slam Dunk Shot                    2\n",
       "Tip Layup Shot                            2\n",
       "Running Tip Shot                          2\n",
       "Turnaround Finger Roll Shot               2\n",
       "Turnaround Fadeaway Bank Jump Shot        1\n",
       "Running Slam Dunk Shot                    1\n",
       "Cutting Finger Roll Layup Shot            1\n",
       "Driving Floating Bank Jump Shot           1\n",
       "Name: action_type, dtype: int64"
      ]
     },
     "execution_count": 3,
     "metadata": {},
     "output_type": "execute_result"
    }
   ],
   "source": [
    "df['action_type'].value_counts()"
   ]
  },
  {
   "cell_type": "markdown",
   "metadata": {},
   "source": [
    "There are too many (57) different action types, and many of them have only few shots, so we'll keep first 25 action types (with most of shot attempts), and all other action types will be under `other` category."
   ]
  },
  {
   "cell_type": "code",
   "execution_count": 4,
   "metadata": {
    "ExecuteTime": {
     "end_time": "2016-08-10T08:07:20.927711",
     "start_time": "2016-08-10T08:07:20.912711"
    },
    "collapsed": false
   },
   "outputs": [
    {
     "data": {
      "text/plain": [
       "Jump Shot                         18880\n",
       "Layup Shot                         2567\n",
       "Driving Layup Shot                 1978\n",
       "Turnaround Jump Shot               1057\n",
       "Fadeaway Jump Shot                 1048\n",
       "Running Jump Shot                   926\n",
       "Pullup Jump shot                    476\n",
       "other                               449\n",
       "Turnaround Fadeaway shot            439\n",
       "Slam Dunk Shot                      411\n",
       "Reverse Layup Shot                  395\n",
       "Jump Bank Shot                      333\n",
       "Driving Dunk Shot                   310\n",
       "Dunk Shot                           262\n",
       "Tip Shot                            182\n",
       "Alley Oop Dunk Shot                 122\n",
       "Step Back Jump shot                 118\n",
       "Floating Jump shot                  114\n",
       "Driving Reverse Layup Shot           97\n",
       "Hook Shot                            84\n",
       "Driving Finger Roll Shot             82\n",
       "Alley Oop Layup shot                 80\n",
       "Reverse Dunk Shot                    75\n",
       "Running Layup Shot                   72\n",
       "Turnaround Bank shot                 71\n",
       "Driving Finger Roll Layup Shot       69\n",
       "Name: action_type, dtype: int64"
      ]
     },
     "execution_count": 4,
     "metadata": {},
     "output_type": "execute_result"
    }
   ],
   "source": [
    "rare_action_types = df['action_type'].value_counts()[25:]\n",
    "rare_actions = rare_action_types.index.values\n",
    "\n",
    "df.loc[df['action_type'].isin(rare_actions), 'action_type'] = 'other'\n",
    "df['action_type'].value_counts()"
   ]
  },
  {
   "cell_type": "markdown",
   "metadata": {},
   "source": [
    "## Periods and overtime"
   ]
  },
  {
   "cell_type": "code",
   "execution_count": 5,
   "metadata": {
    "ExecuteTime": {
     "end_time": "2016-08-10T08:07:20.933712",
     "start_time": "2016-08-10T08:07:20.928712"
    },
    "collapsed": false
   },
   "outputs": [
    {
     "data": {
      "text/plain": [
       "3    8296\n",
       "1    8048\n",
       "4    7260\n",
       "2    6718\n",
       "5     330\n",
       "6      38\n",
       "7       7\n",
       "Name: period, dtype: int64"
      ]
     },
     "execution_count": 5,
     "metadata": {},
     "output_type": "execute_result"
    }
   ],
   "source": [
    "df['period'].value_counts()"
   ]
  },
  {
   "cell_type": "markdown",
   "metadata": {},
   "source": [
    "Under 400 shot attempts (with similar accuracy) were made in overtime periods (periods 5, 6, 7), so we'll combine them in one category: `overtime`."
   ]
  },
  {
   "cell_type": "code",
   "execution_count": 6,
   "metadata": {
    "ExecuteTime": {
     "end_time": "2016-08-10T08:07:20.946713",
     "start_time": "2016-08-10T08:07:20.934712"
    },
    "collapsed": false
   },
   "outputs": [
    {
     "data": {
      "text/plain": [
       "3           8296\n",
       "1           8048\n",
       "4           7260\n",
       "2           6718\n",
       "overtime     375\n",
       "Name: period, dtype: int64"
      ]
     },
     "execution_count": 6,
     "metadata": {},
     "output_type": "execute_result"
    }
   ],
   "source": [
    "overtime = np.array([5, 6, 7])\n",
    "df.loc[df['period'].isin(overtime), 'period'] = 'overtime'\n",
    "df['period'].value_counts()"
   ]
  },
  {
   "cell_type": "markdown",
   "metadata": {},
   "source": [
    "## Playoffs\n",
    "\n",
    "As we've seen earlier there's no difference in accuracy between regular season and playoffs, so column `playoffs` won't be needed."
   ]
  },
  {
   "cell_type": "code",
   "execution_count": 7,
   "metadata": {
    "ExecuteTime": {
     "end_time": "2016-08-10T08:07:20.955713",
     "start_time": "2016-08-10T08:07:20.947713"
    },
    "collapsed": true
   },
   "outputs": [],
   "source": [
    "df = df.drop('playoffs', axis=1)"
   ]
  },
  {
   "cell_type": "markdown",
   "metadata": {},
   "source": [
    "# Creating dummies for categorical features\n",
    "\n",
    "We can't use categorical features so we'll convert them to dummies."
   ]
  },
  {
   "cell_type": "code",
   "execution_count": 8,
   "metadata": {
    "ExecuteTime": {
     "end_time": "2016-08-10T08:07:20.963714",
     "start_time": "2016-08-10T08:07:20.956713"
    },
    "collapsed": false
   },
   "outputs": [
    {
     "data": {
      "text/plain": [
       "action_type            object\n",
       "combined_shot_type     object\n",
       "loc_x                   int64\n",
       "loc_y                   int64\n",
       "period                 object\n",
       "season                  int64\n",
       "shot_made_flag        float64\n",
       "shot_zone_area         object\n",
       "shot_zone_basic        object\n",
       "opponent               object\n",
       "time_remaining          int64\n",
       "shot_distance_        float64\n",
       "3pt_goal                int32\n",
       "game_year               int64\n",
       "game_month              int64\n",
       "game_day                int64\n",
       "home_game               int32\n",
       "dtype: object"
      ]
     },
     "execution_count": 8,
     "metadata": {},
     "output_type": "execute_result"
    }
   ],
   "source": [
    "df.dtypes"
   ]
  },
  {
   "cell_type": "code",
   "execution_count": 9,
   "metadata": {
    "ExecuteTime": {
     "end_time": "2016-08-10T08:07:21.477743",
     "start_time": "2016-08-10T08:07:20.964714"
    },
    "collapsed": false
   },
   "outputs": [
    {
     "data": {
      "text/html": [
       "<div>\n",
       "<table border=\"1\" class=\"dataframe\">\n",
       "  <thead>\n",
       "    <tr style=\"text-align: right;\">\n",
       "      <th></th>\n",
       "      <th>loc_x</th>\n",
       "      <th>loc_y</th>\n",
       "      <th>shot_made_flag</th>\n",
       "      <th>time_remaining</th>\n",
       "      <th>shot_distance_</th>\n",
       "      <th>3pt_goal</th>\n",
       "      <th>home_game</th>\n",
       "      <th>action_type_Alley Oop Dunk Shot</th>\n",
       "      <th>action_type_Alley Oop Layup shot</th>\n",
       "      <th>action_type_Driving Dunk Shot</th>\n",
       "      <th>...</th>\n",
       "      <th>game_month_10</th>\n",
       "      <th>game_month_11</th>\n",
       "      <th>game_month_12</th>\n",
       "      <th>game_day_0</th>\n",
       "      <th>game_day_1</th>\n",
       "      <th>game_day_2</th>\n",
       "      <th>game_day_3</th>\n",
       "      <th>game_day_4</th>\n",
       "      <th>game_day_5</th>\n",
       "      <th>game_day_6</th>\n",
       "    </tr>\n",
       "    <tr>\n",
       "      <th>shot_id</th>\n",
       "      <th></th>\n",
       "      <th></th>\n",
       "      <th></th>\n",
       "      <th></th>\n",
       "      <th></th>\n",
       "      <th></th>\n",
       "      <th></th>\n",
       "      <th></th>\n",
       "      <th></th>\n",
       "      <th></th>\n",
       "      <th></th>\n",
       "      <th></th>\n",
       "      <th></th>\n",
       "      <th></th>\n",
       "      <th></th>\n",
       "      <th></th>\n",
       "      <th></th>\n",
       "      <th></th>\n",
       "      <th></th>\n",
       "      <th></th>\n",
       "      <th></th>\n",
       "    </tr>\n",
       "  </thead>\n",
       "  <tbody>\n",
       "    <tr>\n",
       "      <th>1</th>\n",
       "      <td>167</td>\n",
       "      <td>72</td>\n",
       "      <td>NaN</td>\n",
       "      <td>627</td>\n",
       "      <td>18.185984</td>\n",
       "      <td>0</td>\n",
       "      <td>0</td>\n",
       "      <td>0.0</td>\n",
       "      <td>0.0</td>\n",
       "      <td>0.0</td>\n",
       "      <td>...</td>\n",
       "      <td>1.0</td>\n",
       "      <td>0.0</td>\n",
       "      <td>0.0</td>\n",
       "      <td>0.0</td>\n",
       "      <td>1.0</td>\n",
       "      <td>0.0</td>\n",
       "      <td>0.0</td>\n",
       "      <td>0.0</td>\n",
       "      <td>0.0</td>\n",
       "      <td>0.0</td>\n",
       "    </tr>\n",
       "    <tr>\n",
       "      <th>2</th>\n",
       "      <td>-157</td>\n",
       "      <td>0</td>\n",
       "      <td>0.0</td>\n",
       "      <td>622</td>\n",
       "      <td>15.700000</td>\n",
       "      <td>0</td>\n",
       "      <td>0</td>\n",
       "      <td>0.0</td>\n",
       "      <td>0.0</td>\n",
       "      <td>0.0</td>\n",
       "      <td>...</td>\n",
       "      <td>1.0</td>\n",
       "      <td>0.0</td>\n",
       "      <td>0.0</td>\n",
       "      <td>0.0</td>\n",
       "      <td>1.0</td>\n",
       "      <td>0.0</td>\n",
       "      <td>0.0</td>\n",
       "      <td>0.0</td>\n",
       "      <td>0.0</td>\n",
       "      <td>0.0</td>\n",
       "    </tr>\n",
       "    <tr>\n",
       "      <th>3</th>\n",
       "      <td>-101</td>\n",
       "      <td>135</td>\n",
       "      <td>1.0</td>\n",
       "      <td>465</td>\n",
       "      <td>16.860012</td>\n",
       "      <td>0</td>\n",
       "      <td>0</td>\n",
       "      <td>0.0</td>\n",
       "      <td>0.0</td>\n",
       "      <td>0.0</td>\n",
       "      <td>...</td>\n",
       "      <td>1.0</td>\n",
       "      <td>0.0</td>\n",
       "      <td>0.0</td>\n",
       "      <td>0.0</td>\n",
       "      <td>1.0</td>\n",
       "      <td>0.0</td>\n",
       "      <td>0.0</td>\n",
       "      <td>0.0</td>\n",
       "      <td>0.0</td>\n",
       "      <td>0.0</td>\n",
       "    </tr>\n",
       "    <tr>\n",
       "      <th>4</th>\n",
       "      <td>138</td>\n",
       "      <td>175</td>\n",
       "      <td>0.0</td>\n",
       "      <td>412</td>\n",
       "      <td>22.286543</td>\n",
       "      <td>0</td>\n",
       "      <td>0</td>\n",
       "      <td>0.0</td>\n",
       "      <td>0.0</td>\n",
       "      <td>0.0</td>\n",
       "      <td>...</td>\n",
       "      <td>1.0</td>\n",
       "      <td>0.0</td>\n",
       "      <td>0.0</td>\n",
       "      <td>0.0</td>\n",
       "      <td>1.0</td>\n",
       "      <td>0.0</td>\n",
       "      <td>0.0</td>\n",
       "      <td>0.0</td>\n",
       "      <td>0.0</td>\n",
       "      <td>0.0</td>\n",
       "    </tr>\n",
       "    <tr>\n",
       "      <th>5</th>\n",
       "      <td>0</td>\n",
       "      <td>0</td>\n",
       "      <td>1.0</td>\n",
       "      <td>379</td>\n",
       "      <td>0.000000</td>\n",
       "      <td>0</td>\n",
       "      <td>0</td>\n",
       "      <td>0.0</td>\n",
       "      <td>0.0</td>\n",
       "      <td>1.0</td>\n",
       "      <td>...</td>\n",
       "      <td>1.0</td>\n",
       "      <td>0.0</td>\n",
       "      <td>0.0</td>\n",
       "      <td>0.0</td>\n",
       "      <td>1.0</td>\n",
       "      <td>0.0</td>\n",
       "      <td>0.0</td>\n",
       "      <td>0.0</td>\n",
       "      <td>0.0</td>\n",
       "      <td>0.0</td>\n",
       "    </tr>\n",
       "  </tbody>\n",
       "</table>\n",
       "<p>5 rows × 147 columns</p>\n",
       "</div>"
      ],
      "text/plain": [
       "         loc_x  loc_y  shot_made_flag  time_remaining  shot_distance_  \\\n",
       "shot_id                                                                 \n",
       "1          167     72             NaN             627       18.185984   \n",
       "2         -157      0             0.0             622       15.700000   \n",
       "3         -101    135             1.0             465       16.860012   \n",
       "4          138    175             0.0             412       22.286543   \n",
       "5            0      0             1.0             379        0.000000   \n",
       "\n",
       "         3pt_goal  home_game  action_type_Alley Oop Dunk Shot  \\\n",
       "shot_id                                                         \n",
       "1               0          0                              0.0   \n",
       "2               0          0                              0.0   \n",
       "3               0          0                              0.0   \n",
       "4               0          0                              0.0   \n",
       "5               0          0                              0.0   \n",
       "\n",
       "         action_type_Alley Oop Layup shot  action_type_Driving Dunk Shot  \\\n",
       "shot_id                                                                    \n",
       "1                                     0.0                            0.0   \n",
       "2                                     0.0                            0.0   \n",
       "3                                     0.0                            0.0   \n",
       "4                                     0.0                            0.0   \n",
       "5                                     0.0                            1.0   \n",
       "\n",
       "            ...      game_month_10  game_month_11  game_month_12  game_day_0  \\\n",
       "shot_id     ...                                                                \n",
       "1           ...                1.0            0.0            0.0         0.0   \n",
       "2           ...                1.0            0.0            0.0         0.0   \n",
       "3           ...                1.0            0.0            0.0         0.0   \n",
       "4           ...                1.0            0.0            0.0         0.0   \n",
       "5           ...                1.0            0.0            0.0         0.0   \n",
       "\n",
       "         game_day_1  game_day_2  game_day_3  game_day_4  game_day_5  \\\n",
       "shot_id                                                               \n",
       "1               1.0         0.0         0.0         0.0         0.0   \n",
       "2               1.0         0.0         0.0         0.0         0.0   \n",
       "3               1.0         0.0         0.0         0.0         0.0   \n",
       "4               1.0         0.0         0.0         0.0         0.0   \n",
       "5               1.0         0.0         0.0         0.0         0.0   \n",
       "\n",
       "         game_day_6  \n",
       "shot_id              \n",
       "1               0.0  \n",
       "2               0.0  \n",
       "3               0.0  \n",
       "4               0.0  \n",
       "5               0.0  \n",
       "\n",
       "[5 rows x 147 columns]"
      ]
     },
     "execution_count": 9,
     "metadata": {},
     "output_type": "execute_result"
    }
   ],
   "source": [
    "categorical = ['action_type', 'combined_shot_type', 'shot_zone_area', 'shot_zone_basic', \n",
    "               'opponent', 'period', 'season', 'game_year', 'game_month', 'game_day']\n",
    "\n",
    "for column in categorical:\n",
    "    dummy = pd.get_dummies(df[column], prefix=column)\n",
    "    df = df.join(dummy)\n",
    "    df.drop(column, axis=1, inplace=True)\n",
    "\n",
    "df.head()"
   ]
  },
  {
   "cell_type": "markdown",
   "metadata": {},
   "source": [
    "# Separating the data\n",
    "\n",
    "Splitting the data in two parts - one for our learning and other for submission."
   ]
  },
  {
   "cell_type": "code",
   "execution_count": 10,
   "metadata": {
    "ExecuteTime": {
     "end_time": "2016-08-10T08:07:21.518745",
     "start_time": "2016-08-10T08:07:21.478743"
    },
    "collapsed": true
   },
   "outputs": [],
   "source": [
    "unknown_shots = df['shot_made_flag'].isnull()\n",
    "\n",
    "submission_data = df[unknown_shots].drop('shot_made_flag', 1)\n",
    "data = df[~unknown_shots]\n",
    "\n",
    "X = data.drop('shot_made_flag', 1)\n",
    "y = data['shot_made_flag']"
   ]
  },
  {
   "cell_type": "markdown",
   "metadata": {},
   "source": [
    "# Feature selection\n",
    "\n",
    "We have 146 features, but would like to reduce that number to only most important features.\n",
    "\n",
    "---\n",
    "\n",
    "***Big THANK YOU goes to [Norbert Kozlowski](https://www.kaggle.com/khozzy) and [his script](https://www.kaggle.com/khozzy/kobe-bryant-shot-selection/kobe-shots-show-me-your-best-model/) which helped me a lot to make all of the code from now till the end of the notebook.***\n",
    "\n",
    "---"
   ]
  },
  {
   "cell_type": "code",
   "execution_count": 11,
   "metadata": {
    "ExecuteTime": {
     "end_time": "2016-08-10T08:07:21.610751",
     "start_time": "2016-08-10T08:07:21.519745"
    },
    "collapsed": false
   },
   "outputs": [],
   "source": [
    "from sklearn.feature_selection import VarianceThreshold, RFE\n",
    "from sklearn.ensemble import RandomForestClassifier\n",
    "from sklearn.linear_model import LogisticRegression"
   ]
  },
  {
   "cell_type": "markdown",
   "metadata": {},
   "source": [
    "## Variance Threshold"
   ]
  },
  {
   "cell_type": "code",
   "execution_count": 12,
   "metadata": {
    "ExecuteTime": {
     "end_time": "2016-08-10T08:07:21.663754",
     "start_time": "2016-08-10T08:07:21.611751"
    },
    "collapsed": false
   },
   "outputs": [
    {
     "data": {
      "text/plain": [
       "array(['loc_x', 'loc_y', 'time_remaining', 'shot_distance_', '3pt_goal',\n",
       "       'home_game', 'action_type_Jump Shot',\n",
       "       'combined_shot_type_Jump Shot', 'combined_shot_type_Layup',\n",
       "       'shot_zone_area_Center(C)', 'shot_zone_area_Left Side Center(LC)',\n",
       "       'shot_zone_area_Left Side(L)',\n",
       "       'shot_zone_area_Right Side Center(RC)',\n",
       "       'shot_zone_area_Right Side(R)', 'shot_zone_basic_Above the Break 3',\n",
       "       'shot_zone_basic_In The Paint (Non-RA)',\n",
       "       'shot_zone_basic_Mid-Range', 'shot_zone_basic_Restricted Area',\n",
       "       'period_1', 'period_2', 'period_3', 'period_4', 'game_month_1',\n",
       "       'game_month_2', 'game_month_3', 'game_month_4', 'game_month_11',\n",
       "       'game_month_12', 'game_day_1', 'game_day_2', 'game_day_4',\n",
       "       'game_day_6'], dtype=object)"
      ]
     },
     "execution_count": 12,
     "metadata": {},
     "output_type": "execute_result"
    }
   ],
   "source": [
    "threshold = 0.9\n",
    "vt = VarianceThreshold().fit(X)\n",
    "\n",
    "feat_var_threshold = X.columns[vt.variances_ > threshold * (1-threshold)].values\n",
    "feat_var_threshold"
   ]
  },
  {
   "cell_type": "markdown",
   "metadata": {},
   "source": [
    "## Random Forest Classifier"
   ]
  },
  {
   "cell_type": "code",
   "execution_count": 13,
   "metadata": {
    "ExecuteTime": {
     "end_time": "2016-08-10T08:07:22.392795",
     "start_time": "2016-08-10T08:07:21.664754"
    },
    "collapsed": false,
    "scrolled": true
   },
   "outputs": [
    {
     "data": {
      "text/plain": [
       "array(['time_remaining', 'shot_distance_', 'loc_x', 'loc_y',\n",
       "       'action_type_Jump Shot', 'combined_shot_type_Dunk', 'home_game',\n",
       "       'combined_shot_type_Jump Shot', 'period_3',\n",
       "       'action_type_Layup Shot', 'period_2', 'period_1', 'game_day_6',\n",
       "       'game_day_4', 'game_day_1', 'period_4',\n",
       "       'action_type_Running Jump Shot', 'game_month_1', 'game_day_2',\n",
       "       'game_month_2', 'game_month_3', 'game_month_11', 'game_month_4',\n",
       "       'game_month_12', 'game_day_3', 'shot_zone_area_Center(C)',\n",
       "       'game_day_0', 'opponent_SAC', 'game_month_5', 'opponent_SAS',\n",
       "       'opponent_HOU', 'opponent_PHX', 'season_2008', 'opponent_DEN',\n",
       "       'game_day_5'], dtype=object)"
      ]
     },
     "execution_count": 13,
     "metadata": {},
     "output_type": "execute_result"
    }
   ],
   "source": [
    "model = RandomForestClassifier()\n",
    "model.fit(X, y)\n",
    "\n",
    "feature_imp = pd.DataFrame(model.feature_importances_, index=X.columns, columns=[\"importance\"])\n",
    "feat_RFC = feature_imp.sort_values(\"importance\", ascending=False).head(35)\n",
    "\n",
    "feat_RFC = feat_RFC.index.values\n",
    "feat_RFC"
   ]
  },
  {
   "cell_type": "markdown",
   "metadata": {},
   "source": [
    "## Recursive feature elimination (RFE)"
   ]
  },
  {
   "cell_type": "code",
   "execution_count": 14,
   "metadata": {
    "ExecuteTime": {
     "end_time": "2016-08-10T08:07:46.781190",
     "start_time": "2016-08-10T08:07:22.393795"
    },
    "collapsed": false
   },
   "outputs": [
    {
     "data": {
      "text/plain": [
       "array(['action_type_Alley Oop Dunk Shot',\n",
       "       'action_type_Alley Oop Layup shot', 'action_type_Driving Dunk Shot',\n",
       "       'action_type_Driving Finger Roll Layup Shot',\n",
       "       'action_type_Driving Finger Roll Shot',\n",
       "       'action_type_Driving Layup Shot',\n",
       "       'action_type_Driving Reverse Layup Shot', 'action_type_Dunk Shot',\n",
       "       'action_type_Fadeaway Jump Shot', 'action_type_Hook Shot',\n",
       "       'action_type_Jump Bank Shot', 'action_type_Jump Shot',\n",
       "       'action_type_Layup Shot', 'action_type_Pullup Jump shot',\n",
       "       'action_type_Running Layup Shot', 'action_type_Slam Dunk Shot',\n",
       "       'action_type_Tip Shot', 'action_type_Turnaround Fadeaway shot',\n",
       "       'action_type_Turnaround Jump Shot', 'combined_shot_type_Bank Shot',\n",
       "       'combined_shot_type_Dunk', 'combined_shot_type_Layup',\n",
       "       'combined_shot_type_Tip Shot', 'shot_zone_area_Back Court(BC)',\n",
       "       'shot_zone_area_Center(C)', 'shot_zone_area_Left Side Center(LC)',\n",
       "       'shot_zone_area_Left Side(L)',\n",
       "       'shot_zone_area_Right Side Center(RC)',\n",
       "       'shot_zone_area_Right Side(R)', 'shot_zone_basic_Backcourt',\n",
       "       'shot_zone_basic_Left Corner 3', 'opponent_BKN', 'opponent_OKC',\n",
       "       'season_2014', 'season_2015'], dtype=object)"
      ]
     },
     "execution_count": 14,
     "metadata": {},
     "output_type": "execute_result"
    }
   ],
   "source": [
    "rfe = RFE(LogisticRegression(), 35)\n",
    "rfe.fit(X, y)\n",
    "\n",
    "feature_rfe_scoring = pd.DataFrame({'feature': X.columns, 'score': rfe.ranking_})\n",
    "\n",
    "feat_rfe = feature_rfe_scoring[feature_rfe_scoring['score'] == 1]['feature'].values\n",
    "feat_rfe"
   ]
  },
  {
   "cell_type": "markdown",
   "metadata": {},
   "source": [
    "## Putting it all together"
   ]
  },
  {
   "cell_type": "code",
   "execution_count": 15,
   "metadata": {
    "ExecuteTime": {
     "end_time": "2016-08-10T08:07:46.789191",
     "start_time": "2016-08-10T08:07:46.782190"
    },
    "collapsed": false
   },
   "outputs": [
    {
     "name": "stdout",
     "output_type": "stream",
     "text": [
      "Final features set:\n",
      "\n",
      "-3pt_goal\n",
      "-action_type_Alley Oop Dunk Shot\n",
      "-action_type_Alley Oop Layup shot\n",
      "-action_type_Driving Dunk Shot\n",
      "-action_type_Driving Finger Roll Layup Shot\n",
      "-action_type_Driving Finger Roll Shot\n",
      "-action_type_Driving Layup Shot\n",
      "-action_type_Driving Reverse Layup Shot\n",
      "-action_type_Dunk Shot\n",
      "-action_type_Fadeaway Jump Shot\n",
      "-action_type_Hook Shot\n",
      "-action_type_Jump Bank Shot\n",
      "-action_type_Jump Shot\n",
      "-action_type_Layup Shot\n",
      "-action_type_Pullup Jump shot\n",
      "-action_type_Running Jump Shot\n",
      "-action_type_Running Layup Shot\n",
      "-action_type_Slam Dunk Shot\n",
      "-action_type_Tip Shot\n",
      "-action_type_Turnaround Fadeaway shot\n",
      "-action_type_Turnaround Jump Shot\n",
      "-combined_shot_type_Bank Shot\n",
      "-combined_shot_type_Dunk\n",
      "-combined_shot_type_Jump Shot\n",
      "-combined_shot_type_Layup\n",
      "-combined_shot_type_Tip Shot\n",
      "-game_day_0\n",
      "-game_day_1\n",
      "-game_day_2\n",
      "-game_day_3\n",
      "-game_day_4\n",
      "-game_day_5\n",
      "-game_day_6\n",
      "-game_month_1\n",
      "-game_month_11\n",
      "-game_month_12\n",
      "-game_month_2\n",
      "-game_month_3\n",
      "-game_month_4\n",
      "-game_month_5\n",
      "-home_game\n",
      "-loc_x\n",
      "-loc_y\n",
      "-opponent_BKN\n",
      "-opponent_DEN\n",
      "-opponent_HOU\n",
      "-opponent_OKC\n",
      "-opponent_PHX\n",
      "-opponent_SAC\n",
      "-opponent_SAS\n",
      "-period_1\n",
      "-period_2\n",
      "-period_3\n",
      "-period_4\n",
      "-season_2008\n",
      "-season_2014\n",
      "-season_2015\n",
      "-shot_distance_\n",
      "-shot_zone_area_Back Court(BC)\n",
      "-shot_zone_area_Center(C)\n",
      "-shot_zone_area_Left Side Center(LC)\n",
      "-shot_zone_area_Left Side(L)\n",
      "-shot_zone_area_Right Side Center(RC)\n",
      "-shot_zone_area_Right Side(R)\n",
      "-shot_zone_basic_Above the Break 3\n",
      "-shot_zone_basic_Backcourt\n",
      "-shot_zone_basic_In The Paint (Non-RA)\n",
      "-shot_zone_basic_Left Corner 3\n",
      "-shot_zone_basic_Mid-Range\n",
      "-shot_zone_basic_Restricted Area\n",
      "-time_remaining\n"
     ]
    },
    {
     "data": {
      "text/plain": [
       "71"
      ]
     },
     "execution_count": 15,
     "metadata": {},
     "output_type": "execute_result"
    }
   ],
   "source": [
    "features = np.hstack([feat_var_threshold, feat_RFC, feat_rfe])\n",
    "\n",
    "features = np.unique(features)\n",
    "print('Final features set:\\n')\n",
    "for f in features:\n",
    "    print(\"-{}\".format(f))\n",
    "    \n",
    "len(features)"
   ]
  },
  {
   "cell_type": "markdown",
   "metadata": {},
   "source": [
    "We'll make new datasets with only those columns."
   ]
  },
  {
   "cell_type": "code",
   "execution_count": 16,
   "metadata": {
    "ExecuteTime": {
     "end_time": "2016-08-10T08:07:46.808192",
     "start_time": "2016-08-10T08:07:46.790191"
    },
    "collapsed": false
   },
   "outputs": [],
   "source": [
    "submission_data = submission_data.ix[:, features]\n",
    "data = data.ix[:, features]\n",
    "X = X.ix[:, features]"
   ]
  },
  {
   "cell_type": "markdown",
   "metadata": {},
   "source": [
    "# Testing different algorithms"
   ]
  },
  {
   "cell_type": "code",
   "execution_count": 17,
   "metadata": {
    "ExecuteTime": {
     "end_time": "2016-08-10T08:07:46.830193",
     "start_time": "2016-08-10T08:07:46.809192"
    },
    "collapsed": false
   },
   "outputs": [],
   "source": [
    "from sklearn.cross_validation import KFold, cross_val_score\n",
    "from sklearn.grid_search import GridSearchCV\n",
    "from sklearn.neighbors import KNeighborsClassifier\n",
    "from sklearn.ensemble import RandomForestClassifier, AdaBoostClassifier, GradientBoostingClassifier, VotingClassifier\n",
    "from sklearn.linear_model import LogisticRegression\n",
    "from sklearn.discriminant_analysis import LinearDiscriminantAnalysis\n",
    "from sklearn.pipeline import Pipeline\n",
    "from sklearn.preprocessing import StandardScaler"
   ]
  },
  {
   "cell_type": "code",
   "execution_count": 18,
   "metadata": {
    "ExecuteTime": {
     "end_time": "2016-08-10T08:07:46.836193",
     "start_time": "2016-08-10T08:07:46.831193"
    },
    "collapsed": false
   },
   "outputs": [],
   "source": [
    "seed = 2016\n",
    "num_folds = 5\n",
    "num_instances = len(X)\n",
    "jobs = -1\n",
    "\n",
    "scoring = 'log_loss'\n",
    "\n",
    "kfold = KFold(n=num_instances, n_folds=num_folds, random_state=seed)"
   ]
  },
  {
   "cell_type": "markdown",
   "metadata": {},
   "source": [
    "## Logistic regression"
   ]
  },
  {
   "cell_type": "code",
   "execution_count": 19,
   "metadata": {
    "ExecuteTime": {
     "end_time": "2016-08-10T08:07:48.433285",
     "start_time": "2016-08-10T08:07:46.837193"
    },
    "collapsed": false,
    "scrolled": true
   },
   "outputs": [
    {
     "name": "stdout",
     "output_type": "stream",
     "text": [
      "(-0.6135) +/- (0.0057)\n"
     ]
    }
   ],
   "source": [
    "model = LogisticRegression()\n",
    "\n",
    "result = cross_val_score(model, X, y, cv=kfold, scoring=scoring)\n",
    "print(\"({0:.4f}) +/- ({1:.4f})\".format(result.mean(), result.std()))"
   ]
  },
  {
   "cell_type": "markdown",
   "metadata": {},
   "source": [
    "## K-nearest neighbors"
   ]
  },
  {
   "cell_type": "code",
   "execution_count": 20,
   "metadata": {
    "ExecuteTime": {
     "end_time": "2016-08-10T08:08:07.280363",
     "start_time": "2016-08-10T08:07:48.434285"
    },
    "collapsed": false
   },
   "outputs": [
    {
     "name": "stdout",
     "output_type": "stream",
     "text": [
      "(-0.6315) +/- (0.0051)\n"
     ]
    }
   ],
   "source": [
    "model = Pipeline([('std_sc', StandardScaler()),\n",
    "                  ('knn', KNeighborsClassifier(n_neighbors=50, n_jobs=jobs))])\n",
    "\n",
    "result = cross_val_score(model, X, y, cv=kfold, scoring=scoring)\n",
    "print(\"({0:.4f}) +/- ({1:.4f})\".format(result.mean(), result.std()))"
   ]
  },
  {
   "cell_type": "markdown",
   "metadata": {},
   "source": [
    "## Random forest"
   ]
  },
  {
   "cell_type": "code",
   "execution_count": 21,
   "metadata": {
    "ExecuteTime": {
     "end_time": "2016-08-10T08:08:14.480775",
     "start_time": "2016-08-10T08:08:07.281363"
    },
    "collapsed": false
   },
   "outputs": [
    {
     "name": "stdout",
     "output_type": "stream",
     "text": [
      "(-0.6351) +/- (0.0049)\n"
     ]
    }
   ],
   "source": [
    "model = RandomForestClassifier(n_estimators=200, n_jobs=jobs)\n",
    "\n",
    "result = cross_val_score(model, X, y, cv=kfold, scoring=scoring)\n",
    "print(\"({0:.4f}) +/- ({1:.4f})\".format(result.mean(), result.std()))"
   ]
  },
  {
   "cell_type": "markdown",
   "metadata": {},
   "source": [
    "## Ada boost"
   ]
  },
  {
   "cell_type": "code",
   "execution_count": 22,
   "metadata": {
    "ExecuteTime": {
     "end_time": "2016-08-10T08:08:19.827080",
     "start_time": "2016-08-10T08:08:14.481775"
    },
    "collapsed": false
   },
   "outputs": [
    {
     "name": "stdout",
     "output_type": "stream",
     "text": [
      "(-0.6885) +/- (0.0007)\n"
     ]
    }
   ],
   "source": [
    "model = AdaBoostClassifier(random_state=seed)\n",
    "\n",
    "results = cross_val_score(model, X, y, cv=kfold, scoring=scoring, n_jobs=jobs)\n",
    "print(\"({0:.4f}) +/- ({1:.4f})\".format(results.mean(), results.std()))"
   ]
  },
  {
   "cell_type": "markdown",
   "metadata": {},
   "source": [
    "## Gradient Boosting"
   ]
  },
  {
   "cell_type": "code",
   "execution_count": 23,
   "metadata": {
    "ExecuteTime": {
     "end_time": "2016-08-10T08:08:28.629584",
     "start_time": "2016-08-10T08:08:19.828080"
    },
    "collapsed": false
   },
   "outputs": [
    {
     "name": "stdout",
     "output_type": "stream",
     "text": [
      "(-0.6089) +/- (0.0050)\n"
     ]
    }
   ],
   "source": [
    "model = GradientBoostingClassifier(random_state=seed)\n",
    "\n",
    "results = cross_val_score(model, X, y, cv=kfold, scoring=scoring, n_jobs=jobs)\n",
    "print(\"({0:.4f}) +/- ({1:.4f})\".format(results.mean(), results.std()))"
   ]
  },
  {
   "cell_type": "markdown",
   "metadata": {},
   "source": [
    "## Linear Discriminant Analysis (LDA)"
   ]
  },
  {
   "cell_type": "code",
   "execution_count": 24,
   "metadata": {
    "ExecuteTime": {
     "end_time": "2016-08-10T08:08:32.825824",
     "start_time": "2016-08-10T08:08:28.630584"
    },
    "collapsed": false
   },
   "outputs": [
    {
     "name": "stdout",
     "output_type": "stream",
     "text": [
      "(-0.6156) +/- (0.0061)\n"
     ]
    }
   ],
   "source": [
    "model = LinearDiscriminantAnalysis()\n",
    "\n",
    "results = cross_val_score(model, X, y, cv=kfold, scoring=scoring, n_jobs=jobs)\n",
    "print(\"({0:.4f}) +/- ({1:.4f})\".format(results.mean(), results.std()))"
   ]
  },
  {
   "cell_type": "markdown",
   "metadata": {},
   "source": [
    "# Grid search\n",
    "\n",
    "We'll use `GridSearchCV` to find the best parameters for each algorithm that we used above."
   ]
  },
  {
   "cell_type": "markdown",
   "metadata": {},
   "source": [
    "## Logistic regression"
   ]
  },
  {
   "cell_type": "code",
   "execution_count": 25,
   "metadata": {
    "ExecuteTime": {
     "end_time": "2016-08-10T08:08:59.560353",
     "start_time": "2016-08-10T08:08:32.826824"
    },
    "collapsed": false
   },
   "outputs": [
    {
     "name": "stdout",
     "output_type": "stream",
     "text": [
      "-0.613491404182\n",
      "{'C': 1, 'penalty': 'l1'}\n"
     ]
    }
   ],
   "source": [
    "lr_grid = GridSearchCV(estimator = LogisticRegression(random_state=seed),\n",
    "                       param_grid = {'penalty': ['l1', 'l2'], \n",
    "                                     'C': [0.001, 0.01, 0.1, 1, 10, 100]}, \n",
    "                       cv = kfold, \n",
    "                       scoring = scoring)\n",
    "\n",
    "lr_grid.fit(X, y)\n",
    "\n",
    "print(lr_grid.best_score_)\n",
    "print(lr_grid.best_params_)"
   ]
  },
  {
   "cell_type": "markdown",
   "metadata": {},
   "source": [
    "## K-nearest neighbors"
   ]
  },
  {
   "cell_type": "code",
   "execution_count": 26,
   "metadata": {
    "ExecuteTime": {
     "end_time": "2016-08-10T08:11:02.178366",
     "start_time": "2016-08-10T08:08:59.561353"
    },
    "collapsed": false
   },
   "outputs": [
    {
     "name": "stdout",
     "output_type": "stream",
     "text": [
      "-0.622649847237\n",
      "{'knn__weights': 'uniform', 'knn__n_neighbors': 80, 'knn__algorithm': 'ball_tree', 'knn__p': 2}\n"
     ]
    }
   ],
   "source": [
    "knn_grid = GridSearchCV(estimator = Pipeline(\n",
    "    [('st_sc', StandardScaler()),\n",
    "     ('knn', KNeighborsClassifier(n_jobs=jobs))\n",
    "    ]),\n",
    "                         param_grid = {'knn__n_neighbors': [20, 50, 80],\n",
    "                                       'knn__weights': ['uniform'],\n",
    "                                       'knn__algorithm': ['ball_tree'],\n",
    "                                       'knn__p': [1, 2]}, \n",
    "                         cv = kfold, \n",
    "                         scoring = scoring\n",
    "                        )\n",
    "\n",
    "knn_grid.fit(X, y)\n",
    "\n",
    "print(knn_grid.best_score_)\n",
    "print(knn_grid.best_params_)"
   ]
  },
  {
   "cell_type": "markdown",
   "metadata": {},
   "source": [
    "## Random forest"
   ]
  },
  {
   "cell_type": "code",
   "execution_count": 27,
   "metadata": {
    "ExecuteTime": {
     "end_time": "2016-08-10T08:11:58.330578",
     "start_time": "2016-08-10T08:11:02.179366"
    },
    "collapsed": false
   },
   "outputs": [
    {
     "name": "stdout",
     "output_type": "stream",
     "text": [
      "-0.606956943641\n",
      "{'n_estimators': 200, 'max_features': 20, 'max_depth': 10, 'criterion': 'entropy'}\n"
     ]
    }
   ],
   "source": [
    "rf_grid = GridSearchCV(estimator = RandomForestClassifier(warm_start=True, random_state=seed, n_jobs=jobs), \n",
    "                       param_grid = {'n_estimators': [100, 200],\n",
    "                                     'criterion': ['entropy'], \n",
    "                                     'max_features': ['auto', 20], \n",
    "                                     'max_depth': [None, 10]}, \n",
    "                       cv = kfold, \n",
    "                       scoring = scoring)\n",
    "\n",
    "rf_grid.fit(X, y)\n",
    "\n",
    "print(rf_grid.best_score_)\n",
    "print(rf_grid.best_params_)"
   ]
  },
  {
   "cell_type": "markdown",
   "metadata": {
    "collapsed": true
   },
   "source": [
    "## Ada boost"
   ]
  },
  {
   "cell_type": "code",
   "execution_count": 28,
   "metadata": {
    "ExecuteTime": {
     "end_time": "2016-08-10T08:13:01.207174",
     "start_time": "2016-08-10T08:11:58.331578"
    },
    "collapsed": false
   },
   "outputs": [
    {
     "name": "stdout",
     "output_type": "stream",
     "text": [
      "-0.641203422605\n",
      "{'learning_rate': 0.001, 'n_estimators': 10, 'algorithm': 'SAMME.R'}\n"
     ]
    }
   ],
   "source": [
    "ada_grid = GridSearchCV(estimator = AdaBoostClassifier(random_state=seed), \n",
    "                        param_grid = {'algorithm': ['SAMME', 'SAMME.R'],\n",
    "                                      'n_estimators': [10, 25, 50, 100, 150],\n",
    "                                      'learning_rate': [1e-3, 1e-2, 1e-1, 1]},\n",
    "                        cv = kfold, \n",
    "                        scoring = scoring, \n",
    "                        n_jobs = jobs)\n",
    "\n",
    "ada_grid.fit(X, y)\n",
    "\n",
    "print(ada_grid.best_score_)\n",
    "print(ada_grid.best_params_)"
   ]
  },
  {
   "cell_type": "markdown",
   "metadata": {},
   "source": [
    "## Gradient Boosting"
   ]
  },
  {
   "cell_type": "code",
   "execution_count": 29,
   "metadata": {
    "ExecuteTime": {
     "end_time": "2016-08-10T08:15:08.629462",
     "start_time": "2016-08-10T08:13:01.208174"
    },
    "collapsed": false
   },
   "outputs": [
    {
     "name": "stdout",
     "output_type": "stream",
     "text": [
      "-0.608377981197\n",
      "{'n_estimators': 200, 'max_features': 'log2', 'learning_rate': 0.1, 'max_depth': 3}\n"
     ]
    }
   ],
   "source": [
    "gbm_grid = GridSearchCV(estimator = GradientBoostingClassifier(warm_start=True, random_state=seed),\n",
    "                        param_grid = {'n_estimators': [50, 100, 200],\n",
    "                                      'max_depth': [3, 5],\n",
    "                                      'max_features': ['auto', 'log2'],\n",
    "                                      'learning_rate': [0.01, 0.1]}, \n",
    "                        cv = kfold, \n",
    "                        scoring = scoring, \n",
    "                        n_jobs = jobs)\n",
    "\n",
    "gbm_grid.fit(X, y)\n",
    "\n",
    "print(gbm_grid.best_score_)\n",
    "print(gbm_grid.best_params_)"
   ]
  },
  {
   "cell_type": "markdown",
   "metadata": {},
   "source": [
    "## LDA"
   ]
  },
  {
   "cell_type": "code",
   "execution_count": 30,
   "metadata": {
    "ExecuteTime": {
     "end_time": "2016-08-10T08:15:19.486083",
     "start_time": "2016-08-10T08:15:08.630463"
    },
    "collapsed": false
   },
   "outputs": [
    {
     "name": "stdout",
     "output_type": "stream",
     "text": [
      "-0.615563850322\n",
      "{'solver': 'lsqr', 'n_components': None, 'shrinkage': 'auto'}\n"
     ]
    }
   ],
   "source": [
    "lda_grid = GridSearchCV(estimator = LinearDiscriminantAnalysis(),\n",
    "                        param_grid = {'solver': ['lsqr'], \n",
    "                                      'shrinkage': [None, 'auto'],\n",
    "                                      'n_components': [None, 2, 5, 10]},\n",
    "                        cv = kfold, \n",
    "                        scoring = scoring,\n",
    "                        n_jobs = jobs)\n",
    "\n",
    "lda_grid.fit(X, y)\n",
    "\n",
    "print(lda_grid.best_score_)\n",
    "print(lda_grid.best_params_)"
   ]
  },
  {
   "cell_type": "markdown",
   "metadata": {},
   "source": [
    "## Grid search summary"
   ]
  },
  {
   "cell_type": "code",
   "execution_count": 31,
   "metadata": {
    "ExecuteTime": {
     "end_time": "2016-08-10T08:15:19.498084",
     "start_time": "2016-08-10T08:15:19.487084"
    },
    "collapsed": false
   },
   "outputs": [
    {
     "name": "stdout",
     "output_type": "stream",
     "text": [
      "lr -0.613491404182\n",
      "{'C': 1, 'penalty': 'l1'}\n",
      "\n",
      "knn -0.622649847237\n",
      "{'knn__weights': 'uniform', 'knn__n_neighbors': 80, 'knn__algorithm': 'ball_tree', 'knn__p': 2}\n",
      "\n",
      "rf -0.606956943641\n",
      "{'n_estimators': 200, 'max_features': 20, 'max_depth': 10, 'criterion': 'entropy'}\n",
      "\n",
      "ada -0.641203422605\n",
      "{'learning_rate': 0.001, 'n_estimators': 10, 'algorithm': 'SAMME.R'}\n",
      "\n",
      "gbm -0.608377981197\n",
      "{'n_estimators': 200, 'max_features': 'log2', 'learning_rate': 0.1, 'max_depth': 3}\n",
      "\n",
      "lda -0.615563850322\n",
      "{'solver': 'lsqr', 'n_components': None, 'shrinkage': 'auto'}\n"
     ]
    }
   ],
   "source": [
    "print('lr', lr_grid.best_score_)\n",
    "print(lr_grid.best_params_)\n",
    "print()\n",
    "print('knn', knn_grid.best_score_)\n",
    "print(knn_grid.best_params_)\n",
    "print()\n",
    "print('rf', rf_grid.best_score_)\n",
    "print(rf_grid.best_params_)\n",
    "print()\n",
    "print('ada', ada_grid.best_score_)\n",
    "print(ada_grid.best_params_)\n",
    "print()\n",
    "print('gbm', gbm_grid.best_score_)\n",
    "print(gbm_grid.best_params_)\n",
    "print()\n",
    "print('lda', lda_grid.best_score_)\n",
    "print(lda_grid.best_params_)"
   ]
  },
  {
   "cell_type": "markdown",
   "metadata": {},
   "source": [
    "# Voting classifier\n",
    "\n",
    "After lots of trial-and-error, I decided not to use ADA (the algorithm with the worst score)."
   ]
  },
  {
   "cell_type": "code",
   "execution_count": 32,
   "metadata": {
    "ExecuteTime": {
     "end_time": "2016-08-10T08:15:19.509085",
     "start_time": "2016-08-10T08:15:19.499084"
    },
    "collapsed": false
   },
   "outputs": [],
   "source": [
    "estimators = [('lr', LogisticRegression(C=10, penalty='l2', random_state=seed)), \n",
    "              ('knn', Pipeline([('st_sc', StandardScaler()), \n",
    "                                ('knn', KNeighborsClassifier(leaf_size=10, n_neighbors=80, \n",
    "                                                             algorithm='ball_tree'))])),\n",
    "              ('rf', RandomForestClassifier(warm_start=True, max_features=20, n_estimators=400, \n",
    "                                            max_depth=10, criterion='entropy', random_state=seed)),\n",
    "              ('gbm', GradientBoostingClassifier(max_depth=3, learning_rate=0.1, n_estimators=200, max_features='log2')),\n",
    "              ('lda', LinearDiscriminantAnalysis(solver='lsqr', shrinkage='auto'))]"
   ]
  },
  {
   "cell_type": "code",
   "execution_count": 33,
   "metadata": {
    "ExecuteTime": {
     "end_time": "2016-08-10T08:16:09.792961",
     "start_time": "2016-08-10T08:15:19.513085"
    },
    "collapsed": false
   },
   "outputs": [
    {
     "name": "stdout",
     "output_type": "stream",
     "text": [
      "(-0.6089) +/- (0.0049)\n"
     ]
    }
   ],
   "source": [
    "voters = VotingClassifier(estimators, voting='soft', weights=[4, 3, 5, 5, 4])\n",
    "\n",
    "results = cross_val_score(voters, X, y, cv=kfold, scoring=scoring, n_jobs=jobs)\n",
    "print(\"({0:.4}) +/- ({1:.4f})\".format(results.mean(), results.std()))"
   ]
  }
 ],
 "metadata": {
  "kernelspec": {
   "display_name": "Python 3",
   "language": "python",
   "name": "python3"
  },
  "language_info": {
   "codemirror_mode": {
    "name": "ipython",
    "version": 3
   },
   "file_extension": ".py",
   "mimetype": "text/x-python",
   "name": "python",
   "nbconvert_exporter": "python",
   "pygments_lexer": "ipython3",
   "version": "3.5.1"
  },
  "latex_envs": {
   "bibliofile": "biblio.bib",
   "cite_by": "apalike",
   "current_citInitial": 1,
   "eqLabelWithNumbers": true,
   "eqNumInitial": 0
  },
  "toc": {
   "toc_cell": false,
   "toc_number_sections": false,
   "toc_threshold": "3",
   "toc_window_display": false
  }
 },
 "nbformat": 4,
 "nbformat_minor": 0
}
